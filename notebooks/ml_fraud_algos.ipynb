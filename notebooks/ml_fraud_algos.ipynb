{
 "cells": [
  {
   "cell_type": "markdown",
   "metadata": {},
   "source": [
    "# Fraud Detection from Credit Card History, Machine learning algorithms\n",
    "The following jupyter notebook contains a binary classification for fraud detection, from a credit card history. For this; we are gonna explore the following three machine learning algorithms:\n",
    "* Logistic Regression\n",
    "* Decition Tree\n",
    "* Linear Support Vector Machine\n",
    "\n",
    "This jupyter notebook would showcase the following:\n",
    "1. Confusion matrix for each of the models\n",
    "2. Cross validation metrics (precision, recall, f1_score, accuracy_score).\n",
    "3. Plot of probability distributions between real test data vs each models predictions."
   ]
  },
  {
   "cell_type": "code",
   "execution_count": 33,
   "metadata": {},
   "outputs": [],
   "source": [
    "import sys\n",
    "import os\n",
    "import pandas as pd\n",
    "import copy\n",
    "import matplotlib.pyplot as plt\n",
    "\n",
    "# Get the root project path\n",
    "root_project_path = os.path.abspath(os.path.join(os.getcwd(), os.pardir))\n",
    "\n",
    "#Append it to sys\n",
    "sys.path.append(root_project_path)\n",
    "\n",
    "#Import the necessary modules\n",
    "from utils import DataLoader, CreditCardPreprocesser"
   ]
  },
  {
   "cell_type": "markdown",
   "metadata": {},
   "source": [
    "### Load the data"
   ]
  },
  {
   "cell_type": "code",
   "execution_count": 2,
   "metadata": {},
   "outputs": [],
   "source": [
    "#Set the folder name and data folder\n",
    "folder_name = \"data\"\n",
    "data_holder_path = os.path.join(os.getcwd(), os.pardir)\n",
    "\n",
    "#Set the folder name\n",
    "data_loader = DataLoader(data_folder_name=folder_name,\\\n",
    "    data_folder_path=data_holder_path)\n",
    "\n",
    "#Get the data\n",
    "df_data = data_loader.get_dataset()"
   ]
  },
  {
   "cell_type": "markdown",
   "metadata": {},
   "source": [
    "### Get the preprocessed dataframe"
   ]
  },
  {
   "cell_type": "code",
   "execution_count": 3,
   "metadata": {},
   "outputs": [],
   "source": [
    "#Create an instance of the Credit card processer\n",
    "credit_card_processer = CreditCardPreprocesser(df_data=df_data)\n",
    "\n",
    "#Obtain the df_preprocessed\n",
    "df_preprocessed = credit_card_processer.fetch_preprocessed_dataframe()"
   ]
  },
  {
   "cell_type": "code",
   "execution_count": 4,
   "metadata": {},
   "outputs": [
    {
     "data": {
      "text/plain": [
       "(1296675, 96)"
      ]
     },
     "execution_count": 4,
     "metadata": {},
     "output_type": "execute_result"
    }
   ],
   "source": [
    "df_preprocessed.shape"
   ]
  },
  {
   "cell_type": "code",
   "execution_count": 5,
   "metadata": {},
   "outputs": [
    {
     "name": "stdout",
     "output_type": "stream",
     "text": [
      "<class 'pandas.core.frame.DataFrame'>\n",
      "RangeIndex: 1296675 entries, 0 to 1296674\n",
      "Data columns (total 96 columns):\n",
      " #   Column                   Non-Null Count    Dtype  \n",
      "---  ------                   --------------    -----  \n",
      " 0   cc_num                   1296675 non-null  int64  \n",
      " 1   amt                      1296675 non-null  float64\n",
      " 2   gender                   1296675 non-null  int64  \n",
      " 3   zip                      1296675 non-null  int64  \n",
      " 4   lat                      1296675 non-null  float64\n",
      " 5   long                     1296675 non-null  float64\n",
      " 6   city_pop                 1296675 non-null  int64  \n",
      " 7   unix_time                1296675 non-null  int64  \n",
      " 8   merch_lat                1296675 non-null  float64\n",
      " 9   merch_long               1296675 non-null  float64\n",
      " 10  is_fraud                 1296675 non-null  int64  \n",
      " 11  merch_zipcode            1296675 non-null  float64\n",
      " 12  transaction_year         1296675 non-null  int32  \n",
      " 13  transaction_month        1296675 non-null  int32  \n",
      " 14  transaction_day          1296675 non-null  int32  \n",
      " 15  transaction_hour         1296675 non-null  int32  \n",
      " 16  transaction_minute       1296675 non-null  int32  \n",
      " 17  transaction_second       1296675 non-null  int32  \n",
      " 18  birth_year               1296675 non-null  int32  \n",
      " 19  birth_month              1296675 non-null  int32  \n",
      " 20  birth_day                1296675 non-null  int32  \n",
      " 21  category_food_dining     1296675 non-null  int32  \n",
      " 22  category_gas_transport   1296675 non-null  int32  \n",
      " 23  category_grocery_net     1296675 non-null  int32  \n",
      " 24  category_grocery_pos     1296675 non-null  int32  \n",
      " 25  category_health_fitness  1296675 non-null  int32  \n",
      " 26  category_home            1296675 non-null  int32  \n",
      " 27  category_kids_pets       1296675 non-null  int32  \n",
      " 28  category_misc_net        1296675 non-null  int32  \n",
      " 29  category_misc_pos        1296675 non-null  int32  \n",
      " 30  category_personal_care   1296675 non-null  int32  \n",
      " 31  category_shopping_net    1296675 non-null  int32  \n",
      " 32  category_shopping_pos    1296675 non-null  int32  \n",
      " 33  category_travel          1296675 non-null  int32  \n",
      " 34  state_AL                 1296675 non-null  int32  \n",
      " 35  state_AR                 1296675 non-null  int32  \n",
      " 36  state_AZ                 1296675 non-null  int32  \n",
      " 37  state_CA                 1296675 non-null  int32  \n",
      " 38  state_CO                 1296675 non-null  int32  \n",
      " 39  state_CT                 1296675 non-null  int32  \n",
      " 40  state_DC                 1296675 non-null  int32  \n",
      " 41  state_DE                 1296675 non-null  int32  \n",
      " 42  state_FL                 1296675 non-null  int32  \n",
      " 43  state_GA                 1296675 non-null  int32  \n",
      " 44  state_HI                 1296675 non-null  int32  \n",
      " 45  state_IA                 1296675 non-null  int32  \n",
      " 46  state_ID                 1296675 non-null  int32  \n",
      " 47  state_IL                 1296675 non-null  int32  \n",
      " 48  state_IN                 1296675 non-null  int32  \n",
      " 49  state_KS                 1296675 non-null  int32  \n",
      " 50  state_KY                 1296675 non-null  int32  \n",
      " 51  state_LA                 1296675 non-null  int32  \n",
      " 52  state_MA                 1296675 non-null  int32  \n",
      " 53  state_MD                 1296675 non-null  int32  \n",
      " 54  state_ME                 1296675 non-null  int32  \n",
      " 55  state_MI                 1296675 non-null  int32  \n",
      " 56  state_MN                 1296675 non-null  int32  \n",
      " 57  state_MO                 1296675 non-null  int32  \n",
      " 58  state_MS                 1296675 non-null  int32  \n",
      " 59  state_MT                 1296675 non-null  int32  \n",
      " 60  state_NC                 1296675 non-null  int32  \n",
      " 61  state_ND                 1296675 non-null  int32  \n",
      " 62  state_NE                 1296675 non-null  int32  \n",
      " 63  state_NH                 1296675 non-null  int32  \n",
      " 64  state_NJ                 1296675 non-null  int32  \n",
      " 65  state_NM                 1296675 non-null  int32  \n",
      " 66  state_NV                 1296675 non-null  int32  \n",
      " 67  state_NY                 1296675 non-null  int32  \n",
      " 68  state_OH                 1296675 non-null  int32  \n",
      " 69  state_OK                 1296675 non-null  int32  \n",
      " 70  state_OR                 1296675 non-null  int32  \n",
      " 71  state_PA                 1296675 non-null  int32  \n",
      " 72  state_RI                 1296675 non-null  int32  \n",
      " 73  state_SC                 1296675 non-null  int32  \n",
      " 74  state_SD                 1296675 non-null  int32  \n",
      " 75  state_TN                 1296675 non-null  int32  \n",
      " 76  state_TX                 1296675 non-null  int32  \n",
      " 77  state_UT                 1296675 non-null  int32  \n",
      " 78  state_VA                 1296675 non-null  int32  \n",
      " 79  state_VT                 1296675 non-null  int32  \n",
      " 80  state_WA                 1296675 non-null  int32  \n",
      " 81  state_WI                 1296675 non-null  int32  \n",
      " 82  state_WV                 1296675 non-null  int32  \n",
      " 83  state_WY                 1296675 non-null  int32  \n",
      " 84  merchant_encoded         1296675 non-null  float64\n",
      " 85  merchant_freq            1296675 non-null  int64  \n",
      " 86  first_encoded            1296675 non-null  float64\n",
      " 87  first_freq               1296675 non-null  int64  \n",
      " 88  last_encoded             1296675 non-null  float64\n",
      " 89  last_freq                1296675 non-null  int64  \n",
      " 90  street_encoded           1296675 non-null  float64\n",
      " 91  street_freq              1296675 non-null  int64  \n",
      " 92  city_encoded             1296675 non-null  float64\n",
      " 93  city_freq                1296675 non-null  int64  \n",
      " 94  job_encoded              1296675 non-null  float64\n",
      " 95  job_freq                 1296675 non-null  int64  \n",
      "dtypes: float64(12), int32(72), int64(12)\n",
      "memory usage: 593.6 MB\n"
     ]
    }
   ],
   "source": [
    "df_preprocessed.info()"
   ]
  },
  {
   "cell_type": "markdown",
   "metadata": {},
   "source": [
    "### Lets select the X and Y target"
   ]
  },
  {
   "cell_type": "code",
   "execution_count": 6,
   "metadata": {},
   "outputs": [],
   "source": [
    "X: pd.DataFrame = df_preprocessed[[col for col in df_preprocessed.columns if col != \"is_fraud\"]]\n",
    "y: pd.DataFrame = df_preprocessed[\"is_fraud\"]"
   ]
  },
  {
   "cell_type": "code",
   "execution_count": 7,
   "metadata": {},
   "outputs": [
    {
     "data": {
      "text/plain": [
       "is_fraud\n",
       "0    1289169\n",
       "1       7506\n",
       "Name: count, dtype: int64"
      ]
     },
     "execution_count": 7,
     "metadata": {},
     "output_type": "execute_result"
    }
   ],
   "source": [
    "y.value_counts()"
   ]
  },
  {
   "cell_type": "markdown",
   "metadata": {},
   "source": [
    "### Lets now oversample it using SMOTE"
   ]
  },
  {
   "cell_type": "code",
   "execution_count": 8,
   "metadata": {},
   "outputs": [],
   "source": [
    "from imblearn.over_sampling import SMOTE\n",
    "smote = SMOTE()\n",
    "\n",
    "#Obtain the over sampled new values\n",
    "X_smote, y_smote = smote.fit_resample(X.astype(\"float\"), y)"
   ]
  },
  {
   "cell_type": "code",
   "execution_count": 9,
   "metadata": {},
   "outputs": [
    {
     "data": {
      "text/plain": [
       "is_fraud\n",
       "0    1289169\n",
       "1    1289169\n",
       "Name: count, dtype: int64"
      ]
     },
     "execution_count": 9,
     "metadata": {},
     "output_type": "execute_result"
    }
   ],
   "source": [
    "y_smote.value_counts()"
   ]
  },
  {
   "cell_type": "markdown",
   "metadata": {},
   "source": [
    "### Select the continous columns:\n",
    "\n",
    "Lets select now the continous columns; where we are gonna apply our `Standardscaler()` instance from scikit-learn to perform standardscaling on ONLY the continous features."
   ]
  },
  {
   "cell_type": "code",
   "execution_count": 10,
   "metadata": {},
   "outputs": [],
   "source": [
    "#List all the continous features\n",
    "continous_features = [\"cc_num\", \"amt\", \"zip\", \"lat\", \"long\", \"city_pop\", \"unix_time\",\\\n",
    "    \"merch_lat\", \"merch_long\", \"merch_zipcode\", \"transaction_year\", \"transaction_month\",\\\n",
    "    \"transaction_day\", \"transaction_hour\", \"transaction_minute\", \"transaction_second\",\\\n",
    "    \"birth_year\", \"birth_month\", \"birth_day\", \"merchant_encoded\", \"merchant_freq\",\\\n",
    "    \"first_encoded\", \"first_freq\", \"last_encoded\", \"last_freq\", \"street_encoded\",\\\n",
    "    \"street_freq\", \"city_encoded\", \"city_freq\", \"job_encoded\", \"job_freq\"]\n",
    "\n",
    "#Select the continous and not continous \n",
    "X_smote_continous = X_smote[continous_features]\n",
    "X_smote_discontinous = X_smote[[c for c in X_smote.columns if c not in continous_features]]"
   ]
  },
  {
   "cell_type": "code",
   "execution_count": 11,
   "metadata": {},
   "outputs": [
    {
     "data": {
      "text/html": [
       "<div>\n",
       "<style scoped>\n",
       "    .dataframe tbody tr th:only-of-type {\n",
       "        vertical-align: middle;\n",
       "    }\n",
       "\n",
       "    .dataframe tbody tr th {\n",
       "        vertical-align: top;\n",
       "    }\n",
       "\n",
       "    .dataframe thead th {\n",
       "        text-align: right;\n",
       "    }\n",
       "</style>\n",
       "<table border=\"1\" class=\"dataframe\">\n",
       "  <thead>\n",
       "    <tr style=\"text-align: right;\">\n",
       "      <th></th>\n",
       "      <th>gender</th>\n",
       "      <th>category_food_dining</th>\n",
       "      <th>category_gas_transport</th>\n",
       "      <th>category_grocery_net</th>\n",
       "      <th>category_grocery_pos</th>\n",
       "      <th>category_health_fitness</th>\n",
       "      <th>category_home</th>\n",
       "      <th>category_kids_pets</th>\n",
       "      <th>category_misc_net</th>\n",
       "      <th>category_misc_pos</th>\n",
       "      <th>...</th>\n",
       "      <th>state_SD</th>\n",
       "      <th>state_TN</th>\n",
       "      <th>state_TX</th>\n",
       "      <th>state_UT</th>\n",
       "      <th>state_VA</th>\n",
       "      <th>state_VT</th>\n",
       "      <th>state_WA</th>\n",
       "      <th>state_WI</th>\n",
       "      <th>state_WV</th>\n",
       "      <th>state_WY</th>\n",
       "    </tr>\n",
       "  </thead>\n",
       "  <tbody>\n",
       "    <tr>\n",
       "      <th>0</th>\n",
       "      <td>1.0</td>\n",
       "      <td>0.0</td>\n",
       "      <td>0.0</td>\n",
       "      <td>0.0</td>\n",
       "      <td>0.0</td>\n",
       "      <td>0.0</td>\n",
       "      <td>0.0</td>\n",
       "      <td>0.0</td>\n",
       "      <td>1.0</td>\n",
       "      <td>0.0</td>\n",
       "      <td>...</td>\n",
       "      <td>0.0</td>\n",
       "      <td>0.0</td>\n",
       "      <td>0.0</td>\n",
       "      <td>0.0</td>\n",
       "      <td>0.0</td>\n",
       "      <td>0.0</td>\n",
       "      <td>0.0</td>\n",
       "      <td>0.0</td>\n",
       "      <td>0.0</td>\n",
       "      <td>0.0</td>\n",
       "    </tr>\n",
       "    <tr>\n",
       "      <th>1</th>\n",
       "      <td>1.0</td>\n",
       "      <td>0.0</td>\n",
       "      <td>0.0</td>\n",
       "      <td>0.0</td>\n",
       "      <td>1.0</td>\n",
       "      <td>0.0</td>\n",
       "      <td>0.0</td>\n",
       "      <td>0.0</td>\n",
       "      <td>0.0</td>\n",
       "      <td>0.0</td>\n",
       "      <td>...</td>\n",
       "      <td>0.0</td>\n",
       "      <td>0.0</td>\n",
       "      <td>0.0</td>\n",
       "      <td>0.0</td>\n",
       "      <td>0.0</td>\n",
       "      <td>0.0</td>\n",
       "      <td>1.0</td>\n",
       "      <td>0.0</td>\n",
       "      <td>0.0</td>\n",
       "      <td>0.0</td>\n",
       "    </tr>\n",
       "    <tr>\n",
       "      <th>2</th>\n",
       "      <td>0.0</td>\n",
       "      <td>0.0</td>\n",
       "      <td>0.0</td>\n",
       "      <td>0.0</td>\n",
       "      <td>0.0</td>\n",
       "      <td>0.0</td>\n",
       "      <td>0.0</td>\n",
       "      <td>0.0</td>\n",
       "      <td>0.0</td>\n",
       "      <td>0.0</td>\n",
       "      <td>...</td>\n",
       "      <td>0.0</td>\n",
       "      <td>0.0</td>\n",
       "      <td>0.0</td>\n",
       "      <td>0.0</td>\n",
       "      <td>0.0</td>\n",
       "      <td>0.0</td>\n",
       "      <td>0.0</td>\n",
       "      <td>0.0</td>\n",
       "      <td>0.0</td>\n",
       "      <td>0.0</td>\n",
       "    </tr>\n",
       "  </tbody>\n",
       "</table>\n",
       "<p>3 rows × 64 columns</p>\n",
       "</div>"
      ],
      "text/plain": [
       "   gender  category_food_dining  category_gas_transport  category_grocery_net  \\\n",
       "0     1.0                   0.0                     0.0                   0.0   \n",
       "1     1.0                   0.0                     0.0                   0.0   \n",
       "2     0.0                   0.0                     0.0                   0.0   \n",
       "\n",
       "   category_grocery_pos  category_health_fitness  category_home  \\\n",
       "0                   0.0                      0.0            0.0   \n",
       "1                   1.0                      0.0            0.0   \n",
       "2                   0.0                      0.0            0.0   \n",
       "\n",
       "   category_kids_pets  category_misc_net  category_misc_pos  ...  state_SD  \\\n",
       "0                 0.0                1.0                0.0  ...       0.0   \n",
       "1                 0.0                0.0                0.0  ...       0.0   \n",
       "2                 0.0                0.0                0.0  ...       0.0   \n",
       "\n",
       "   state_TN  state_TX  state_UT  state_VA  state_VT  state_WA  state_WI  \\\n",
       "0       0.0       0.0       0.0       0.0       0.0       0.0       0.0   \n",
       "1       0.0       0.0       0.0       0.0       0.0       1.0       0.0   \n",
       "2       0.0       0.0       0.0       0.0       0.0       0.0       0.0   \n",
       "\n",
       "   state_WV  state_WY  \n",
       "0       0.0       0.0  \n",
       "1       0.0       0.0  \n",
       "2       0.0       0.0  \n",
       "\n",
       "[3 rows x 64 columns]"
      ]
     },
     "execution_count": 11,
     "metadata": {},
     "output_type": "execute_result"
    }
   ],
   "source": [
    "X_smote_discontinous.head(3)"
   ]
  },
  {
   "cell_type": "markdown",
   "metadata": {},
   "source": [
    "### Lets implement the standardscaler to continous features"
   ]
  },
  {
   "cell_type": "code",
   "execution_count": 12,
   "metadata": {},
   "outputs": [],
   "source": [
    "# Importing standard scaler\n",
    "from sklearn.preprocessing import StandardScaler\n",
    "\n",
    "#Create a standard scaler object and fit x_train\n",
    "standard_scaler = StandardScaler()\n",
    "standard_scaler.fit(X_smote_continous)\n",
    "\n",
    "#Transform x_train and x_test\n",
    "X_continous_scaled = standard_scaler.transform(X_smote_continous)"
   ]
  },
  {
   "cell_type": "code",
   "execution_count": 13,
   "metadata": {},
   "outputs": [],
   "source": [
    "# Now lets make a pandas dataframe\n",
    "X_continous_scaled = pd.DataFrame(X_continous_scaled,\\\n",
    "    columns=X_smote_continous.columns)"
   ]
  },
  {
   "cell_type": "code",
   "execution_count": 14,
   "metadata": {},
   "outputs": [
    {
     "data": {
      "text/plain": [
       "(2578338, 31)"
      ]
     },
     "execution_count": 14,
     "metadata": {},
     "output_type": "execute_result"
    }
   ],
   "source": [
    "X_continous_scaled.shape"
   ]
  },
  {
   "cell_type": "code",
   "execution_count": 15,
   "metadata": {},
   "outputs": [
    {
     "data": {
      "text/html": [
       "<div>\n",
       "<style scoped>\n",
       "    .dataframe tbody tr th:only-of-type {\n",
       "        vertical-align: middle;\n",
       "    }\n",
       "\n",
       "    .dataframe tbody tr th {\n",
       "        vertical-align: top;\n",
       "    }\n",
       "\n",
       "    .dataframe thead th {\n",
       "        text-align: right;\n",
       "    }\n",
       "</style>\n",
       "<table border=\"1\" class=\"dataframe\">\n",
       "  <thead>\n",
       "    <tr style=\"text-align: right;\">\n",
       "      <th></th>\n",
       "      <th>cc_num</th>\n",
       "      <th>amt</th>\n",
       "      <th>zip</th>\n",
       "      <th>lat</th>\n",
       "      <th>long</th>\n",
       "      <th>city_pop</th>\n",
       "      <th>unix_time</th>\n",
       "      <th>merch_lat</th>\n",
       "      <th>merch_long</th>\n",
       "      <th>merch_zipcode</th>\n",
       "      <th>...</th>\n",
       "      <th>first_encoded</th>\n",
       "      <th>first_freq</th>\n",
       "      <th>last_encoded</th>\n",
       "      <th>last_freq</th>\n",
       "      <th>street_encoded</th>\n",
       "      <th>street_freq</th>\n",
       "      <th>city_encoded</th>\n",
       "      <th>city_freq</th>\n",
       "      <th>job_encoded</th>\n",
       "      <th>job_freq</th>\n",
       "    </tr>\n",
       "  </thead>\n",
       "  <tbody>\n",
       "    <tr>\n",
       "      <th>0</th>\n",
       "      <td>-0.314132</td>\n",
       "      <td>-0.849753</td>\n",
       "      <td>-0.730168</td>\n",
       "      <td>-0.492973</td>\n",
       "      <td>0.634532</td>\n",
       "      <td>-0.285514</td>\n",
       "      <td>-1.758054</td>\n",
       "      <td>-0.502056</td>\n",
       "      <td>0.571818</td>\n",
       "      <td>-0.748066</td>\n",
       "      <td>...</td>\n",
       "      <td>-0.081651</td>\n",
       "      <td>1.395499</td>\n",
       "      <td>-0.301641</td>\n",
       "      <td>-0.634750</td>\n",
       "      <td>-0.348144</td>\n",
       "      <td>0.579120</td>\n",
       "      <td>-0.335409</td>\n",
       "      <td>0.202176</td>\n",
       "      <td>-0.255926</td>\n",
       "      <td>-0.059168</td>\n",
       "    </tr>\n",
       "    <tr>\n",
       "      <th>1</th>\n",
       "      <td>-0.316222</td>\n",
       "      <td>-0.553321</td>\n",
       "      <td>1.875073</td>\n",
       "      <td>2.008024</td>\n",
       "      <td>-2.007172</td>\n",
       "      <td>-0.296182</td>\n",
       "      <td>-1.758052</td>\n",
       "      <td>2.048225</td>\n",
       "      <td>-2.003283</td>\n",
       "      <td>-0.014340</td>\n",
       "      <td>...</td>\n",
       "      <td>-0.200974</td>\n",
       "      <td>0.425223</td>\n",
       "      <td>-0.227091</td>\n",
       "      <td>-0.472358</td>\n",
       "      <td>-0.348144</td>\n",
       "      <td>1.796911</td>\n",
       "      <td>-0.335409</td>\n",
       "      <td>1.621156</td>\n",
       "      <td>-0.243560</td>\n",
       "      <td>0.686195</td>\n",
       "    </tr>\n",
       "    <tr>\n",
       "      <th>2</th>\n",
       "      <td>-0.316192</td>\n",
       "      <td>-0.226103</td>\n",
       "      <td>1.287263</td>\n",
       "      <td>0.698462</td>\n",
       "      <td>-1.582836</td>\n",
       "      <td>-0.283414</td>\n",
       "      <td>-1.758052</td>\n",
       "      <td>0.882782</td>\n",
       "      <td>-1.573461</td>\n",
       "      <td>1.584246</td>\n",
       "      <td>...</td>\n",
       "      <td>-0.274166</td>\n",
       "      <td>-0.748035</td>\n",
       "      <td>-0.053551</td>\n",
       "      <td>0.176727</td>\n",
       "      <td>-0.348144</td>\n",
       "      <td>-1.274305</td>\n",
       "      <td>-0.335409</td>\n",
       "      <td>-1.224287</td>\n",
       "      <td>0.115585</td>\n",
       "      <td>-1.514400</td>\n",
       "    </tr>\n",
       "  </tbody>\n",
       "</table>\n",
       "<p>3 rows × 31 columns</p>\n",
       "</div>"
      ],
      "text/plain": [
       "     cc_num       amt       zip       lat      long  city_pop  unix_time  \\\n",
       "0 -0.314132 -0.849753 -0.730168 -0.492973  0.634532 -0.285514  -1.758054   \n",
       "1 -0.316222 -0.553321  1.875073  2.008024 -2.007172 -0.296182  -1.758052   \n",
       "2 -0.316192 -0.226103  1.287263  0.698462 -1.582836 -0.283414  -1.758052   \n",
       "\n",
       "   merch_lat  merch_long  merch_zipcode  ...  first_encoded  first_freq  \\\n",
       "0  -0.502056    0.571818      -0.748066  ...      -0.081651    1.395499   \n",
       "1   2.048225   -2.003283      -0.014340  ...      -0.200974    0.425223   \n",
       "2   0.882782   -1.573461       1.584246  ...      -0.274166   -0.748035   \n",
       "\n",
       "   last_encoded  last_freq  street_encoded  street_freq  city_encoded  \\\n",
       "0     -0.301641  -0.634750       -0.348144     0.579120     -0.335409   \n",
       "1     -0.227091  -0.472358       -0.348144     1.796911     -0.335409   \n",
       "2     -0.053551   0.176727       -0.348144    -1.274305     -0.335409   \n",
       "\n",
       "   city_freq  job_encoded  job_freq  \n",
       "0   0.202176    -0.255926 -0.059168  \n",
       "1   1.621156    -0.243560  0.686195  \n",
       "2  -1.224287     0.115585 -1.514400  \n",
       "\n",
       "[3 rows x 31 columns]"
      ]
     },
     "execution_count": 15,
     "metadata": {},
     "output_type": "execute_result"
    }
   ],
   "source": [
    "X_continous_scaled.head(3)"
   ]
  },
  {
   "cell_type": "markdown",
   "metadata": {},
   "source": [
    "### Now lets create the actual datasets."
   ]
  },
  {
   "cell_type": "code",
   "execution_count": 16,
   "metadata": {},
   "outputs": [],
   "source": [
    "# These are the new datasets\n",
    "X_data = pd.concat([X_continous_scaled, X_smote_discontinous], axis=1)\n",
    "y_data = copy.copy(y_smote)"
   ]
  },
  {
   "cell_type": "code",
   "execution_count": 17,
   "metadata": {},
   "outputs": [
    {
     "name": "stdout",
     "output_type": "stream",
     "text": [
      "(2578338, 95)\n",
      "(2578338,)\n"
     ]
    }
   ],
   "source": [
    "#Lets get the shapes\n",
    "print(X_data.shape)\n",
    "print(y_data.shape)"
   ]
  },
  {
   "cell_type": "markdown",
   "metadata": {},
   "source": [
    "### Lets initialize the following classifiers\n",
    "Now we are gonna intialize each of the classifiers, and perform cross validation to obtain all of the different metrics."
   ]
  },
  {
   "cell_type": "code",
   "execution_count": 18,
   "metadata": {},
   "outputs": [],
   "source": [
    "from sklearn.model_selection import train_test_split\n",
    "from sklearn.linear_model import LogisticRegression\n",
    "from sklearn.tree import DecisionTreeClassifier\n",
    "from sklearn.svm import LinearSVC\n",
    "from sklearn.metrics import accuracy_score, f1_score, precision_score, recall_score"
   ]
  },
  {
   "cell_type": "code",
   "execution_count": 26,
   "metadata": {},
   "outputs": [],
   "source": [
    "ml_classifiers = {\n",
    "    \"Logistic Regression\": LogisticRegression(random_state = 42, max_iter=1000),\n",
    "    \"Decition Tree Classifier\": DecisionTreeClassifier(random_state = 42),\n",
    "    \"Linear Support Vector Machine\": LinearSVC(C=1.0, max_iter=1000)\n",
    "}"
   ]
  },
  {
   "cell_type": "markdown",
   "metadata": {},
   "source": [
    "### Lets split the data here\n",
    "We would like to perform the following:\n",
    "1. Split our data into train_validation and test; we would hold the test dataset for a final analysis.\n",
    "2. Perform cross validation using train_validation; and perform shuffled folds to see its accuracies.\n",
    "3. Keep the saved cross val scores; for later analysis."
   ]
  },
  {
   "cell_type": "code",
   "execution_count": 20,
   "metadata": {},
   "outputs": [
    {
     "name": "stdout",
     "output_type": "stream",
     "text": [
      "(2062670, 95)\n",
      "(515668, 95)\n",
      "(2062670,)\n",
      "(515668,)\n"
     ]
    }
   ],
   "source": [
    "#Lets obtain the data into train_val and test\n",
    "x_train_val, x_test, y_train_val, y_test = train_test_split(X_data, y_data,\\\n",
    "    test_size=0.2, shuffle=True, random_state=42)\n",
    "print(x_train_val.shape)\n",
    "print(x_test.shape)\n",
    "print(y_train_val.shape)\n",
    "print(y_test.shape)"
   ]
  },
  {
   "cell_type": "markdown",
   "metadata": {},
   "source": [
    "### Perform Cross validation for all ML algorithms\n",
    "Lets now perform cross validation for each of the ML algorithms, to obtain its results."
   ]
  },
  {
   "cell_type": "code",
   "execution_count": 21,
   "metadata": {},
   "outputs": [
    {
     "name": "stdout",
     "output_type": "stream",
     "text": [
      "\n",
      "===========Linear Support Vector Machine============ Starting\n",
      "iteration: 0: Linear Support Vector Machine\n",
      "iteration: 1: Linear Support Vector Machine\n",
      "iteration: 2: Linear Support Vector Machine\n",
      "iteration: 3: Linear Support Vector Machine\n",
      "iteration: 4: Linear Support Vector Machine\n",
      "iteration: 5: Linear Support Vector Machine\n",
      "iteration: 6: Linear Support Vector Machine\n",
      "iteration: 7: Linear Support Vector Machine\n",
      "iteration: 8: Linear Support Vector Machine\n",
      "iteration: 9: Linear Support Vector Machine\n",
      "iteration: 10: Linear Support Vector Machine\n",
      "iteration: 11: Linear Support Vector Machine\n",
      "iteration: 12: Linear Support Vector Machine\n",
      "iteration: 13: Linear Support Vector Machine\n",
      "iteration: 14: Linear Support Vector Machine\n",
      "iteration: 15: Linear Support Vector Machine\n",
      "iteration: 16: Linear Support Vector Machine\n",
      "iteration: 17: Linear Support Vector Machine\n",
      "iteration: 18: Linear Support Vector Machine\n",
      "iteration: 19: Linear Support Vector Machine\n",
      "\n",
      "===========Linear Support Vector Machine============ Ending\n"
     ]
    }
   ],
   "source": [
    "#Lets create the holders for each metrics\n",
    "ml_metrics = {}\n",
    "\n",
    "for name, clf in ml_classifiers.items():\n",
    "    print(f\"\\n==========={name}============ Starting\")\n",
    "    #Lets initialize variables for each\n",
    "    accuracies = []\n",
    "    precisions = []\n",
    "    recalls = []\n",
    "    f1_scores = []\n",
    "\n",
    "    # Lets write a fot loop that goes 20 times\n",
    "    for i in range(20):\n",
    "        print(f\"iteration: {i}: {name}\")\n",
    "        #Call the train test split\n",
    "        x_train, x_val, y_train, y_val = train_test_split(x_train_val, y_train_val, shuffle=True)\n",
    "\n",
    "        #Lets fit each of the classifiers\n",
    "        clf.fit(X=x_train, y=y_train)\n",
    "\n",
    "        #Obtain the predictions for both\n",
    "        y_pred = clf.predict(x_val)\n",
    "\n",
    "        #Lets append them\n",
    "        accuracies.append(accuracy_score(y_val, y_pred))\n",
    "        precisions.append(precision_score(y_val, y_pred))\n",
    "        recalls.append(recall_score(y_val, y_pred))\n",
    "        f1_scores.append(f1_score(y_val, y_pred))\n",
    "\n",
    "    #Lets add the metrics\n",
    "    ml_metrics[name + \"_accuracies\"] = accuracies\n",
    "    ml_metrics[name + \"_precisions\"] = precisions\n",
    "    ml_metrics[name + \"_recalls\"] = recalls\n",
    "    ml_metrics[name + \"_f1_scores\"] = f1_scores\n",
    "\n",
    "    #Create a dataframe and save it into a dataframe\n",
    "    df_results = pd.DataFrame(ml_metrics)\n",
    "    df_results.to_csv('my_data_' + name + '.csv', index=False)\n",
    "    print(f\"\\n==========={name}============ Ending\")"
   ]
  },
  {
   "cell_type": "markdown",
   "metadata": {},
   "source": [
    "# Data Visualization\n",
    "\n",
    "Now that we have finally got the cross validation metrics, we are gonna perform the last steps in order to see the different results of each of the ML models. This would be illustrated as:\n",
    "\n",
    "1. Plot bar plot of accuracies, precision, recall, and f1 score for cross validation metrics of each of the models.\n",
    "\n",
    "Next; after having the cross validation metrics; we previously have isolated a part of the data as test set. We are gonna train a final model for each ML classifier, and obtain the test metrics as well. With these test and cross validation metrics; we are gonna perform the following:\n",
    "\n",
    "2. Plot bar plot of accuracies, precision, recall, and f1 score for test metrics of each of the models.\n",
    "3. Generate confusion matrices for each of the test final models.\n",
    "2. Create ROC curves for all models and overlau for comparison"
   ]
  },
  {
   "cell_type": "code",
   "execution_count": 53,
   "metadata": {},
   "outputs": [],
   "source": [
    "from typing import List\n",
    "def read_df_data(clfs_names:List[str]) -> pd.DataFrame:\n",
    "    '''\n",
    "    Function that would retrieve the checkpoints cross validation\n",
    "    values for accuracy, precision, recall, and f1 score.\n",
    "    '''\n",
    "    #Create a holder to store the data\n",
    "    actual_data = {}\n",
    "\n",
    "    for name in clfs_names:\n",
    "        #Read the dataframe\n",
    "        df_data = pd.read_csv(\"my_data_\" + name + \".csv\")\n",
    "\n",
    "        #Assign it to the actual data properly\n",
    "        actual_data[name + \"_accuracies\"] = df_data[name + \"_accuracies\"].to_numpy()\n",
    "        actual_data[name + \"_precisions\"] = df_data[name + \"_precisions\"].to_numpy()\n",
    "        actual_data[name + \"_recalls\"] = df_data[name + \"_recalls\"].to_numpy()\n",
    "        actual_data[name + \"_f1_scores\"] = df_data[name + \"_f1_scores\"].to_numpy()\n",
    "    \n",
    "    #Return the total dataframe.\n",
    "    return pd.DataFrame(actual_data)"
   ]
  },
  {
   "cell_type": "code",
   "execution_count": 54,
   "metadata": {},
   "outputs": [
    {
     "name": "stdout",
     "output_type": "stream",
     "text": [
      "dict_keys(['Logistic Regression', 'Decition Tree Classifier', 'Linear Support Vector Machine'])\n"
     ]
    }
   ],
   "source": [
    "#Lets get the cross validation metrics\n",
    "df_cross_val_metrics = read_df_data(clfs_names=ml_classifiers.keys())\n",
    "\n",
    "print(ml_classifiers.keys())\n"
   ]
  },
  {
   "cell_type": "code",
   "execution_count": 55,
   "metadata": {},
   "outputs": [
    {
     "data": {
      "text/plain": [
       "Index(['Logistic Regression_accuracies', 'Logistic Regression_precisions',\n",
       "       'Logistic Regression_recalls', 'Logistic Regression_f1_scores',\n",
       "       'Decition Tree Classifier_accuracies',\n",
       "       'Decition Tree Classifier_precisions',\n",
       "       'Decition Tree Classifier_recalls',\n",
       "       'Decition Tree Classifier_f1_scores',\n",
       "       'Linear Support Vector Machine_accuracies',\n",
       "       'Linear Support Vector Machine_precisions',\n",
       "       'Linear Support Vector Machine_recalls',\n",
       "       'Linear Support Vector Machine_f1_scores'],\n",
       "      dtype='object')"
      ]
     },
     "execution_count": 55,
     "metadata": {},
     "output_type": "execute_result"
    }
   ],
   "source": [
    "df_cross_val_metrics.columns"
   ]
  },
  {
   "cell_type": "code",
   "execution_count": 56,
   "metadata": {},
   "outputs": [
    {
     "data": {
      "text/html": [
       "<div>\n",
       "<style scoped>\n",
       "    .dataframe tbody tr th:only-of-type {\n",
       "        vertical-align: middle;\n",
       "    }\n",
       "\n",
       "    .dataframe tbody tr th {\n",
       "        vertical-align: top;\n",
       "    }\n",
       "\n",
       "    .dataframe thead th {\n",
       "        text-align: right;\n",
       "    }\n",
       "</style>\n",
       "<table border=\"1\" class=\"dataframe\">\n",
       "  <thead>\n",
       "    <tr style=\"text-align: right;\">\n",
       "      <th></th>\n",
       "      <th>Logistic Regression_accuracies</th>\n",
       "      <th>Logistic Regression_precisions</th>\n",
       "      <th>Logistic Regression_recalls</th>\n",
       "      <th>Logistic Regression_f1_scores</th>\n",
       "      <th>Decition Tree Classifier_accuracies</th>\n",
       "      <th>Decition Tree Classifier_precisions</th>\n",
       "      <th>Decition Tree Classifier_recalls</th>\n",
       "      <th>Decition Tree Classifier_f1_scores</th>\n",
       "      <th>Linear Support Vector Machine_accuracies</th>\n",
       "      <th>Linear Support Vector Machine_precisions</th>\n",
       "      <th>Linear Support Vector Machine_recalls</th>\n",
       "      <th>Linear Support Vector Machine_f1_scores</th>\n",
       "    </tr>\n",
       "  </thead>\n",
       "  <tbody>\n",
       "    <tr>\n",
       "      <th>0</th>\n",
       "      <td>0.899715</td>\n",
       "      <td>0.928023</td>\n",
       "      <td>0.866518</td>\n",
       "      <td>0.896217</td>\n",
       "      <td>0.998449</td>\n",
       "      <td>0.997649</td>\n",
       "      <td>0.999251</td>\n",
       "      <td>0.998449</td>\n",
       "      <td>0.885267</td>\n",
       "      <td>0.921700</td>\n",
       "      <td>0.842319</td>\n",
       "      <td>0.880223</td>\n",
       "    </tr>\n",
       "    <tr>\n",
       "      <th>1</th>\n",
       "      <td>0.899538</td>\n",
       "      <td>0.927577</td>\n",
       "      <td>0.866385</td>\n",
       "      <td>0.895937</td>\n",
       "      <td>0.998449</td>\n",
       "      <td>0.997624</td>\n",
       "      <td>0.999284</td>\n",
       "      <td>0.998453</td>\n",
       "      <td>0.884928</td>\n",
       "      <td>0.919574</td>\n",
       "      <td>0.843096</td>\n",
       "      <td>0.879676</td>\n",
       "    </tr>\n",
       "  </tbody>\n",
       "</table>\n",
       "</div>"
      ],
      "text/plain": [
       "   Logistic Regression_accuracies  Logistic Regression_precisions  \\\n",
       "0                        0.899715                        0.928023   \n",
       "1                        0.899538                        0.927577   \n",
       "\n",
       "   Logistic Regression_recalls  Logistic Regression_f1_scores  \\\n",
       "0                     0.866518                       0.896217   \n",
       "1                     0.866385                       0.895937   \n",
       "\n",
       "   Decition Tree Classifier_accuracies  Decition Tree Classifier_precisions  \\\n",
       "0                             0.998449                             0.997649   \n",
       "1                             0.998449                             0.997624   \n",
       "\n",
       "   Decition Tree Classifier_recalls  Decition Tree Classifier_f1_scores  \\\n",
       "0                          0.999251                            0.998449   \n",
       "1                          0.999284                            0.998453   \n",
       "\n",
       "   Linear Support Vector Machine_accuracies  \\\n",
       "0                                  0.885267   \n",
       "1                                  0.884928   \n",
       "\n",
       "   Linear Support Vector Machine_precisions  \\\n",
       "0                                  0.921700   \n",
       "1                                  0.919574   \n",
       "\n",
       "   Linear Support Vector Machine_recalls  \\\n",
       "0                               0.842319   \n",
       "1                               0.843096   \n",
       "\n",
       "   Linear Support Vector Machine_f1_scores  \n",
       "0                                 0.880223  \n",
       "1                                 0.879676  "
      ]
     },
     "execution_count": 56,
     "metadata": {},
     "output_type": "execute_result"
    }
   ],
   "source": [
    "df_cross_val_metrics.head(2)"
   ]
  },
  {
   "cell_type": "markdown",
   "metadata": {},
   "source": [
    "### Lets plot the cross validation bar plots"
   ]
  },
  {
   "cell_type": "code",
   "execution_count": 57,
   "metadata": {},
   "outputs": [],
   "source": [
    "# Lets create two lists for a new dataframe, models and metrics\n",
    "models = ml_classifiers.keys()\n",
    "metrics = [\"accuracies\", \"precisions\", \"recalls\", \"f1_scores\"]\n",
    "\n",
    "#Lets do a df plot cross val\n",
    "plot_cross_val = []\n",
    "for model in models:\n",
    "    model_data = [df_cross_val_metrics[f\"{model}_{metric}\"].mean() for metric in metrics]\n",
    "    plot_cross_val.append(model_data)\n",
    "\n",
    "# Convert to a Pandas DataFrame for plotting\n",
    "df_plot_cross_val = pd.DataFrame(plot_cross_val, columns=metrics, index=models)"
   ]
  },
  {
   "cell_type": "code",
   "execution_count": 58,
   "metadata": {},
   "outputs": [
    {
     "data": {
      "text/html": [
       "<div>\n",
       "<style scoped>\n",
       "    .dataframe tbody tr th:only-of-type {\n",
       "        vertical-align: middle;\n",
       "    }\n",
       "\n",
       "    .dataframe tbody tr th {\n",
       "        vertical-align: top;\n",
       "    }\n",
       "\n",
       "    .dataframe thead th {\n",
       "        text-align: right;\n",
       "    }\n",
       "</style>\n",
       "<table border=\"1\" class=\"dataframe\">\n",
       "  <thead>\n",
       "    <tr style=\"text-align: right;\">\n",
       "      <th></th>\n",
       "      <th>accuracies</th>\n",
       "      <th>precisions</th>\n",
       "      <th>recalls</th>\n",
       "      <th>f1_scores</th>\n",
       "    </tr>\n",
       "  </thead>\n",
       "  <tbody>\n",
       "    <tr>\n",
       "      <th>Logistic Regression</th>\n",
       "      <td>0.899759</td>\n",
       "      <td>0.928160</td>\n",
       "      <td>0.866322</td>\n",
       "      <td>0.896175</td>\n",
       "    </tr>\n",
       "    <tr>\n",
       "      <th>Decition Tree Classifier</th>\n",
       "      <td>0.998417</td>\n",
       "      <td>0.997636</td>\n",
       "      <td>0.999200</td>\n",
       "      <td>0.998418</td>\n",
       "    </tr>\n",
       "    <tr>\n",
       "      <th>Linear Support Vector Machine</th>\n",
       "      <td>0.885487</td>\n",
       "      <td>0.921531</td>\n",
       "      <td>0.842549</td>\n",
       "      <td>0.880272</td>\n",
       "    </tr>\n",
       "  </tbody>\n",
       "</table>\n",
       "</div>"
      ],
      "text/plain": [
       "                               accuracies  precisions   recalls  f1_scores\n",
       "Logistic Regression              0.899759    0.928160  0.866322   0.896175\n",
       "Decition Tree Classifier         0.998417    0.997636  0.999200   0.998418\n",
       "Linear Support Vector Machine    0.885487    0.921531  0.842549   0.880272"
      ]
     },
     "execution_count": 58,
     "metadata": {},
     "output_type": "execute_result"
    }
   ],
   "source": [
    "df_plot_cross_val.head(3)"
   ]
  },
  {
   "cell_type": "markdown",
   "metadata": {},
   "source": [
    "### Plot the bar graph of cross val metrics"
   ]
  },
  {
   "cell_type": "code",
   "execution_count": 61,
   "metadata": {},
   "outputs": [
    {
     "data": {
      "text/plain": [
       "(0.83, 1.01)"
      ]
     },
     "execution_count": 61,
     "metadata": {},
     "output_type": "execute_result"
    },
    {
     "data": {
      "image/png": "[encoded data removed]",
      "text/plain": [
       "<Figure size 1200x600 with 1 Axes>"
      ]
     },
     "metadata": {},
     "output_type": "display_data"
    }
   ],
   "source": [
    "fig, axs = plt.subplots(1, figsize = (12, 6))\n",
    "df_plot_cross_val.T.plot(ax=axs, kind=\"bar\", legend=True, width = 0.8)\n",
    "\n",
    "# Rotate x-axis ticks\n",
    "axs.set_xticklabels(axs.get_xticklabels(), rotation=90, fontsize=10)\n",
    "\n",
    "# Annotate bar values\n",
    "for container in axs.containers:\n",
    "    axs.bar_label(container, fmt='%.4f', fontsize=10, padding=3)  # Adjust padding for better visibility\n",
    "\n",
    "axs.set_ylim(0.83, 1.01)"
   ]
  },
  {
   "cell_type": "markdown",
   "metadata": {},
   "source": [
    "### Lets now train the final test models!\n",
    "Even thought its obvious the decition tree classifier is the best model between all the ML models; now we are gonna perform the final test models and retrieve the metrics for each of them."
   ]
  },
  {
   "cell_type": "code",
   "execution_count": 64,
   "metadata": {},
   "outputs": [
    {
     "name": "stdout",
     "output_type": "stream",
     "text": [
      "\n",
      "===========Logistic Regression============ Starting\n",
      "\n",
      "===========Logistic Regression============ Ending\n",
      "\n",
      "===========Decition Tree Classifier============ Starting\n",
      "\n",
      "===========Decition Tree Classifier============ Ending\n",
      "\n",
      "===========Linear Support Vector Machine============ Starting\n",
      "\n",
      "===========Linear Support Vector Machine============ Ending\n"
     ]
    }
   ],
   "source": [
    "from sklearn.metrics import classification_report, confusion_matrix, roc_auc_score\n",
    "\n",
    "#Lets create the holders for each metrics\n",
    "test_metrics = []\n",
    "conf_matrices = []\n",
    "class_reports = []\n",
    "roc_auc_scores = []\n",
    "\n",
    "for name, clf in ml_classifiers.items():\n",
    "    print(f\"\\n==========={name}============ Starting\")\n",
    "\n",
    "    #Lets fit the model with x_train_val and the y_train_val dataset now!\n",
    "    clf.fit(X=x_train_val, y=y_train_val)\n",
    "\n",
    "    #Obtain the predictions for both\n",
    "    y_pred = clf.predict(x_test)\n",
    "\n",
    "    #Lets append them in order per row (accuracy, precision, recall, f1_score)\n",
    "    test_metrics.append(accuracy_score(y_test, y_pred))\n",
    "    test_metrics.append(precision_score(y_test, y_pred))\n",
    "    test_metrics.append(recall_score(y_test, y_pred))\n",
    "    test_metrics.append(f1_score(y_test, y_pred))\n",
    "\n",
    "    #Lets append the confusion matrix\n",
    "    conf_matrices.append(confusion_matrix(y_test, y_pred))\n",
    "    class_reports.append(classification_report(y_test, y_pred))\n",
    "    roc_auc_scores.append(roc_auc_score(y_test, y_pred))\n",
    "\n",
    "    print(f\"\\n==========={name}============ Ending\")"
   ]
  },
  {
   "cell_type": "code",
   "execution_count": 68,
   "metadata": {},
   "outputs": [
    {
     "name": "stdout",
     "output_type": "stream",
     "text": [
      "[0.9003603093463236, 0.9294331344112999, 0.8670507037240505, 0.8971588122854598, 0.9987511344508482, 0.998118325270853, 0.9993926076090405, 0.9987550599852308, 0.886353235027188, 0.922739501201313, 0.843938842936839, 0.8815817656448908]\n"
     ]
    }
   ],
   "source": [
    "print(test_metrics)"
   ]
  },
  {
   "cell_type": "code",
   "execution_count": 67,
   "metadata": {},
   "outputs": [],
   "source": [
    "#Lets convert this to a numpy array\n",
    "import numpy as np\n",
    "np_test_metrics = np.array(test_metrics)\n",
    "np_test_metrics = np_test_metrics.reshape(3,4)"
   ]
  },
  {
   "cell_type": "code",
   "execution_count": 69,
   "metadata": {},
   "outputs": [
    {
     "name": "stdout",
     "output_type": "stream",
     "text": [
      "[[0.90036031 0.92943313 0.8670507  0.89715881]\n",
      " [0.99875113 0.99811833 0.99939261 0.99875506]\n",
      " [0.88635324 0.9227395  0.84393884 0.88158177]]\n"
     ]
    }
   ],
   "source": [
    "print(np_test_metrics)"
   ]
  },
  {
   "cell_type": "code",
   "execution_count": 71,
   "metadata": {},
   "outputs": [
    {
     "name": "stdout",
     "output_type": "stream",
     "text": [
      "                               accuracies  precisions   recalls  f1_scores\n",
      "Logistic Regression              0.900360    0.929433  0.867051   0.897159\n",
      "Decition Tree Classifier         0.998751    0.998118  0.999393   0.998755\n",
      "Linear Support Vector Machine    0.886353    0.922740  0.843939   0.881582\n"
     ]
    }
   ],
   "source": [
    "#Create a dataframe of the model the test metrics\n",
    "df_test_results = pd.DataFrame(np_test_metrics, columns=metrics, index=models)\n",
    "print(df_test_results.head(4))"
   ]
  },
  {
   "cell_type": "code",
   "execution_count": 72,
   "metadata": {},
   "outputs": [
    {
     "data": {
      "text/plain": [
       "(0.83, 1.01)"
      ]
     },
     "execution_count": 72,
     "metadata": {},
     "output_type": "execute_result"
    },
    {
     "data": {
      "image/png": "[encoded data removed]",
      "text/plain": [
       "<Figure size 1200x600 with 1 Axes>"
      ]
     },
     "metadata": {},
     "output_type": "display_data"
    }
   ],
   "source": [
    "fig, axs = plt.subplots(1, figsize = (12, 6))\n",
    "df_test_results.T.plot(ax=axs, kind=\"bar\", legend=True, width = 0.8)\n",
    "\n",
    "# Rotate x-axis ticks\n",
    "axs.set_xticklabels(axs.get_xticklabels(), rotation=90, fontsize=10)\n",
    "\n",
    "# Annotate bar values\n",
    "for container in axs.containers:\n",
    "    axs.bar_label(container, fmt='%.4f', fontsize=10, padding=3)  # Adjust padding for better visibility\n",
    "\n",
    "axs.set_ylim(0.83, 1.01)"
   ]
  },
  {
   "cell_type": "markdown",
   "metadata": {},
   "source": [
    "### Lets print now each of the classification reports!"
   ]
  },
  {
   "cell_type": "code",
   "execution_count": 73,
   "metadata": {},
   "outputs": [
    {
     "name": "stdout",
     "output_type": "stream",
     "text": [
      "\n",
      "===========Logistic Regression============ class report\n",
      "              precision    recall  f1-score   support\n",
      "\n",
      "           0       0.87      0.93      0.90    257186\n",
      "           1       0.93      0.87      0.90    258482\n",
      "\n",
      "    accuracy                           0.90    515668\n",
      "   macro avg       0.90      0.90      0.90    515668\n",
      "weighted avg       0.90      0.90      0.90    515668\n",
      "\n",
      "\n",
      "===========Decition Tree Classifier============ class report\n",
      "              precision    recall  f1-score   support\n",
      "\n",
      "           0       1.00      1.00      1.00    257186\n",
      "           1       1.00      1.00      1.00    258482\n",
      "\n",
      "    accuracy                           1.00    515668\n",
      "   macro avg       1.00      1.00      1.00    515668\n",
      "weighted avg       1.00      1.00      1.00    515668\n",
      "\n",
      "\n",
      "===========Linear Support Vector Machine============ class report\n",
      "              precision    recall  f1-score   support\n",
      "\n",
      "           0       0.86      0.93      0.89    257186\n",
      "           1       0.92      0.84      0.88    258482\n",
      "\n",
      "    accuracy                           0.89    515668\n",
      "   macro avg       0.89      0.89      0.89    515668\n",
      "weighted avg       0.89      0.89      0.89    515668\n",
      "\n"
     ]
    }
   ],
   "source": [
    "for i, name in enumerate(ml_classifiers):\n",
    "    print(f\"\\n==========={name}============ class report\")\n",
    "    print(class_reports[i])"
   ]
  },
  {
   "cell_type": "markdown",
   "metadata": {},
   "source": [
    "### Lets plot the confusion matrices now"
   ]
  },
  {
   "cell_type": "code",
   "execution_count": 76,
   "metadata": {},
   "outputs": [
    {
     "data": {
      "image/png": "[encoded data removed]",
      "text/plain": [
       "<Figure size 640x480 with 2 Axes>"
      ]
     },
     "metadata": {},
     "output_type": "display_data"
    },
    {
     "data": {
      "image/png": "[encoded data removed]",
      "text/plain": [
       "<Figure size 640x480 with 2 Axes>"
      ]
     },
     "metadata": {},
     "output_type": "display_data"
    },
    {
     "data": {
      "image/png": "[encoded data removed]",
      "text/plain": [
       "<Figure size 640x480 with 2 Axes>"
      ]
     },
     "metadata": {},
     "output_type": "display_data"
    }
   ],
   "source": [
    "from sklearn.metrics import ConfusionMatrixDisplay\n",
    "\n",
    "for i, name in enumerate(ml_classifiers):\n",
    "    cm = conf_matrices[i]\n",
    "    disp = ConfusionMatrixDisplay(confusion_matrix=cm,\n",
    "                                display_labels=clf.classes_)\n",
    "    disp.plot()\n",
    "    plt.suptitle(name)"
   ]
  }
 ],
 "metadata": {
  "kernelspec": {
   "display_name": "venv",
   "language": "python",
   "name": "python3"
  },
  "language_info": {
   "codemirror_mode": {
    "name": "ipython",
    "version": 3
   },
   "file_extension": ".py",
   "mimetype": "text/x-python",
   "name": "python",
   "nbconvert_exporter": "python",
   "pygments_lexer": "ipython3",
   "version": "3.12.5"
  }
 },
 "nbformat": 4,
 "nbformat_minor": 2
}
