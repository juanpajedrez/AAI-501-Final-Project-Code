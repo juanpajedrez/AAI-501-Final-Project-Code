{
 "cells": [
  {
   "metadata": {},
   "cell_type": "markdown",
   "source": [
    "# Fraud Detection from Credit Card History, Machine learning algorithms\n",
    "The following jupyter notebook contains a binary classification for fraud detection, from a credit card history. For this; we will explore the following three machine learning algorithms:\n",
    "* Logistic Regression\n",
    "* Decision Tree\n",
    "* Linear Support Vector Machine\n",
    "\n",
    "This jupyter notebook would showcase the following:\n",
    "1. Confusion matrix for each of the models\n",
    "2. Cross validation metrics (precision, recall, f1_score, accuracy_score).\n",
    "3. Plot of probability distributions between real test data vs each models predictions."
   ]
  },
  {
   "metadata": {},
   "cell_type": "code",
   "outputs": [],
   "execution_count": null,
   "source": [
    "import sys\n",
    "import os\n",
    "import pandas as pd\n",
    "import copy\n",
    "import matplotlib.pyplot as plt\n",
    "\n",
    "# Get the root project path\n",
    "root_project_path = os.path.abspath(os.path.join(os.getcwd(), os.pardir))\n",
    "\n",
    "#Append it to sys\n",
    "sys.path.append(root_project_path)\n",
    "\n",
    "#Import the necessary modules\n",
    "from utils import DataLoader, CreditCardPreprocesser"
   ]
  },
  {
   "cell_type": "markdown",
   "metadata": {},
   "source": [
    "### Load the data"
   ]
  },
  {
   "metadata": {},
   "cell_type": "code",
   "outputs": [],
   "execution_count": null,
   "source": [
    "#Set the folder name and data folder\n",
    "folder_name = \"data\"\n",
    "data_holder_path = os.path.join(os.getcwd(), os.pardir)\n",
    "\n",
    "#Set the folder name\n",
    "data_loader = DataLoader(data_folder_name=folder_name,\n",
    "    data_folder_path=data_holder_path)\n",
    "\n",
    "#Get the data\n",
    "df_data = data_loader.get_dataset()"
   ]
  },
  {
   "cell_type": "markdown",
   "metadata": {},
   "source": [
    "### Get the preprocessed dataframe"
   ]
  },
  {
   "cell_type": "code",
   "metadata": {
    "ExecuteTime": {
     "end_time": "2024-12-05T05:43:21.969412Z",
     "start_time": "2024-12-05T05:43:10.892508Z"
    }
   },
   "source": [
    "#Create an instance of the Credit card processer\n",
    "credit_card_processer = CreditCardPreprocesser(df_data=df_data)\n",
    "\n",
    "#Obtain the df_preprocessed\n",
    "df_preprocessed = credit_card_processer.fetch_preprocessed_dataframe()"
   ],
   "outputs": [],
   "execution_count": 3
  },
  {
   "metadata": {},
   "cell_type": "code",
   "outputs": [],
   "execution_count": null,
   "source": "df_preprocessed.shape"
  },
  {
   "metadata": {},
   "cell_type": "code",
   "outputs": [],
   "execution_count": null,
   "source": ""
  },
  {
   "metadata": {},
   "cell_type": "code",
   "outputs": [],
   "execution_count": null,
   "source": "df_preprocessed.info()"
  },
  {
   "metadata": {},
   "cell_type": "markdown",
   "source": "### Select the X and Y target"
  },
  {
   "metadata": {},
   "cell_type": "code",
   "outputs": [],
   "execution_count": null,
   "source": [
    "X: pd.DataFrame = df_preprocessed[[col for col in df_preprocessed.columns if col != \"is_fraud\"]]\n",
    "y: pd.DataFrame = df_preprocessed[\"is_fraud\"]"
   ]
  },
  {
   "cell_type": "code",
   "metadata": {
    "ExecuteTime": {
     "end_time": "2024-12-05T05:43:31.434306Z",
     "start_time": "2024-12-05T05:43:31.414299Z"
    }
   },
   "source": [
    "y.value_counts()"
   ],
   "outputs": [
    {
     "data": {
      "text/plain": [
       "is_fraud\n",
       "0    1289169\n",
       "1       7506\n",
       "Name: count, dtype: int64"
      ]
     },
     "execution_count": 7,
     "metadata": {},
     "output_type": "execute_result"
    }
   ],
   "execution_count": 7
  },
  {
   "cell_type": "markdown",
   "metadata": {},
   "source": [
    "### Lets now oversample it using SMOTE"
   ]
  },
  {
   "cell_type": "code",
   "metadata": {
    "ExecuteTime": {
     "end_time": "2024-12-05T05:43:51.963327Z",
     "start_time": "2024-12-05T05:43:39.605589Z"
    }
   },
   "source": [
    "from imblearn.over_sampling import SMOTE\n",
    "smote = SMOTE()\n",
    "\n",
    "#Obtain the over sampled new values\n",
    "X_smote, y_smote = smote.fit_resample(X.astype(\"float\"), y)"
   ],
   "outputs": [],
   "execution_count": 8
  },
  {
   "cell_type": "code",
   "metadata": {
    "ExecuteTime": {
     "end_time": "2024-12-05T05:43:57.225840Z",
     "start_time": "2024-12-05T05:43:57.203836Z"
    }
   },
   "source": [
    "y_smote.value_counts()"
   ],
   "outputs": [
    {
     "data": {
      "text/plain": [
       "is_fraud\n",
       "0    1289169\n",
       "1    1289169\n",
       "Name: count, dtype: int64"
      ]
     },
     "execution_count": 9,
     "metadata": {},
     "output_type": "execute_result"
    }
   ],
   "execution_count": 9
  },
  {
   "metadata": {},
   "cell_type": "markdown",
   "source": [
    "### Select the continous columns:\n",
    "\n",
    "We will select the continous columns; where we are going to apply our `Standardscaler()` instance from scikit-learn to perform standardscaling on ONLY the continous features."
   ]
  },
  {
   "metadata": {},
   "cell_type": "code",
   "outputs": [],
   "execution_count": null,
   "source": [
    "#List all the continous features\n",
    "continous_features = [\"cc_num\", \"amt\", \"zip\", \"lat\", \"long\", \"city_pop\", \"unix_time\",\n",
    "    \"merch_lat\", \"merch_long\", \"merch_zipcode\", \"transaction_year\", \"transaction_month\",\n",
    "    \"transaction_day\", \"transaction_hour\", \"transaction_minute\", \"transaction_second\",\n",
    "    \"birth_year\", \"birth_month\", \"birth_day\", \"merchant_encoded\", \"merchant_freq\",\n",
    "    \"first_encoded\", \"first_freq\", \"last_encoded\", \"last_freq\", \"street_encoded\",\n",
    "    \"street_freq\", \"city_encoded\", \"city_freq\", \"job_encoded\", \"job_freq\"]\n",
    "\n",
    "#Select the continous and not continous \n",
    "X_smote_continous = X_smote[continous_features]\n",
    "X_smote_discontinous = X_smote[[c for c in X_smote.columns if c not in continous_features]]"
   ]
  },
  {
   "metadata": {},
   "cell_type": "code",
   "outputs": [],
   "execution_count": null,
   "source": "X_smote_discontinous.head(3)"
  },
  {
   "metadata": {},
   "cell_type": "markdown",
   "source": "### Implement the standardscaler to continous features"
  },
  {
   "metadata": {},
   "cell_type": "code",
   "outputs": [],
   "execution_count": null,
   "source": [
    "# Importing standard scaler\n",
    "from sklearn.preprocessing import StandardScaler\n",
    "\n",
    "#Create a standard scaler object and fit x_train\n",
    "standard_scaler = StandardScaler()\n",
    "standard_scaler.fit(X_smote_continous)\n",
    "\n",
    "#Transform x_train and x_test\n",
    "X_continous_scaled = standard_scaler.transform(X_smote_continous)"
   ]
  },
  {
   "metadata": {},
   "cell_type": "code",
   "outputs": [],
   "execution_count": null,
   "source": [
    "# Now lets make a pandas dataframe\n",
    "X_continous_scaled = pd.DataFrame(X_continous_scaled,\n",
    "    columns=X_smote_continous.columns)"
   ]
  },
  {
   "metadata": {},
   "cell_type": "code",
   "outputs": [],
   "execution_count": null,
   "source": "X_continous_scaled.shape"
  },
  {
   "cell_type": "code",
   "metadata": {
    "ExecuteTime": {
     "end_time": "2024-12-05T05:44:26.919636Z",
     "start_time": "2024-12-05T05:44:26.902639Z"
    }
   },
   "source": [
    "X_continous_scaled.head(3)"
   ],
   "outputs": [
    {
     "data": {
      "text/plain": [
       "     cc_num       amt       zip       lat      long  city_pop  unix_time  \\\n",
       "0 -0.314271 -0.849194 -0.730280 -0.492459  0.634399 -0.285407  -1.757957   \n",
       "1 -0.316360 -0.552679  1.876215  2.010268 -2.009971 -0.296102  -1.757955   \n",
       "2 -0.316331 -0.225370  1.288122  0.699800 -1.585207 -0.283301  -1.757955   \n",
       "\n",
       "   merch_lat  merch_long  merch_zipcode  ...  first_encoded  first_freq  \\\n",
       "0  -0.501585    0.571740      -0.748664  ...      -0.082518    1.395777   \n",
       "1   2.050549   -2.006061      -0.014423  ...      -0.201182    0.425417   \n",
       "2   0.884259   -1.575789       1.585286  ...      -0.273969   -0.747942   \n",
       "\n",
       "   last_encoded  last_freq  street_encoded  street_freq  city_encoded  \\\n",
       "0     -0.301838  -0.634478       -0.348532     0.578649     -0.335681   \n",
       "1     -0.227438  -0.472078       -0.348532     1.795431     -0.335681   \n",
       "2     -0.054244   0.177040       -0.348532    -1.273240     -0.335681   \n",
       "\n",
       "   city_freq  job_encoded  job_freq  \n",
       "0   0.202575    -0.255668 -0.059291  \n",
       "1   1.621002    -0.243346  0.686414  \n",
       "2  -1.223333     0.114519 -1.515191  \n",
       "\n",
       "[3 rows x 31 columns]"
      ],
      "text/html": [
       "<div>\n",
       "<style scoped>\n",
       "    .dataframe tbody tr th:only-of-type {\n",
       "        vertical-align: middle;\n",
       "    }\n",
       "\n",
       "    .dataframe tbody tr th {\n",
       "        vertical-align: top;\n",
       "    }\n",
       "\n",
       "    .dataframe thead th {\n",
       "        text-align: right;\n",
       "    }\n",
       "</style>\n",
       "<table border=\"1\" class=\"dataframe\">\n",
       "  <thead>\n",
       "    <tr style=\"text-align: right;\">\n",
       "      <th></th>\n",
       "      <th>cc_num</th>\n",
       "      <th>amt</th>\n",
       "      <th>zip</th>\n",
       "      <th>lat</th>\n",
       "      <th>long</th>\n",
       "      <th>city_pop</th>\n",
       "      <th>unix_time</th>\n",
       "      <th>merch_lat</th>\n",
       "      <th>merch_long</th>\n",
       "      <th>merch_zipcode</th>\n",
       "      <th>...</th>\n",
       "      <th>first_encoded</th>\n",
       "      <th>first_freq</th>\n",
       "      <th>last_encoded</th>\n",
       "      <th>last_freq</th>\n",
       "      <th>street_encoded</th>\n",
       "      <th>street_freq</th>\n",
       "      <th>city_encoded</th>\n",
       "      <th>city_freq</th>\n",
       "      <th>job_encoded</th>\n",
       "      <th>job_freq</th>\n",
       "    </tr>\n",
       "  </thead>\n",
       "  <tbody>\n",
       "    <tr>\n",
       "      <th>0</th>\n",
       "      <td>-0.314271</td>\n",
       "      <td>-0.849194</td>\n",
       "      <td>-0.730280</td>\n",
       "      <td>-0.492459</td>\n",
       "      <td>0.634399</td>\n",
       "      <td>-0.285407</td>\n",
       "      <td>-1.757957</td>\n",
       "      <td>-0.501585</td>\n",
       "      <td>0.571740</td>\n",
       "      <td>-0.748664</td>\n",
       "      <td>...</td>\n",
       "      <td>-0.082518</td>\n",
       "      <td>1.395777</td>\n",
       "      <td>-0.301838</td>\n",
       "      <td>-0.634478</td>\n",
       "      <td>-0.348532</td>\n",
       "      <td>0.578649</td>\n",
       "      <td>-0.335681</td>\n",
       "      <td>0.202575</td>\n",
       "      <td>-0.255668</td>\n",
       "      <td>-0.059291</td>\n",
       "    </tr>\n",
       "    <tr>\n",
       "      <th>1</th>\n",
       "      <td>-0.316360</td>\n",
       "      <td>-0.552679</td>\n",
       "      <td>1.876215</td>\n",
       "      <td>2.010268</td>\n",
       "      <td>-2.009971</td>\n",
       "      <td>-0.296102</td>\n",
       "      <td>-1.757955</td>\n",
       "      <td>2.050549</td>\n",
       "      <td>-2.006061</td>\n",
       "      <td>-0.014423</td>\n",
       "      <td>...</td>\n",
       "      <td>-0.201182</td>\n",
       "      <td>0.425417</td>\n",
       "      <td>-0.227438</td>\n",
       "      <td>-0.472078</td>\n",
       "      <td>-0.348532</td>\n",
       "      <td>1.795431</td>\n",
       "      <td>-0.335681</td>\n",
       "      <td>1.621002</td>\n",
       "      <td>-0.243346</td>\n",
       "      <td>0.686414</td>\n",
       "    </tr>\n",
       "    <tr>\n",
       "      <th>2</th>\n",
       "      <td>-0.316331</td>\n",
       "      <td>-0.225370</td>\n",
       "      <td>1.288122</td>\n",
       "      <td>0.699800</td>\n",
       "      <td>-1.585207</td>\n",
       "      <td>-0.283301</td>\n",
       "      <td>-1.757955</td>\n",
       "      <td>0.884259</td>\n",
       "      <td>-1.575789</td>\n",
       "      <td>1.585286</td>\n",
       "      <td>...</td>\n",
       "      <td>-0.273969</td>\n",
       "      <td>-0.747942</td>\n",
       "      <td>-0.054244</td>\n",
       "      <td>0.177040</td>\n",
       "      <td>-0.348532</td>\n",
       "      <td>-1.273240</td>\n",
       "      <td>-0.335681</td>\n",
       "      <td>-1.223333</td>\n",
       "      <td>0.114519</td>\n",
       "      <td>-1.515191</td>\n",
       "    </tr>\n",
       "  </tbody>\n",
       "</table>\n",
       "<p>3 rows × 31 columns</p>\n",
       "</div>"
      ]
     },
     "execution_count": 15,
     "metadata": {},
     "output_type": "execute_result"
    }
   ],
   "execution_count": 15
  },
  {
   "metadata": {},
   "cell_type": "markdown",
   "source": "### Create the actual datasets."
  },
  {
   "metadata": {},
   "cell_type": "code",
   "outputs": [],
   "execution_count": null,
   "source": [
    "# These are the new datasets\n",
    "X_data = pd.concat([X_continous_scaled, X_smote_discontinous], axis=1)\n",
    "y_data = copy.copy(y_smote)"
   ]
  },
  {
   "metadata": {},
   "cell_type": "code",
   "outputs": [],
   "execution_count": null,
   "source": [
    "# Print the shapes\n",
    "print(X_data.shape)\n",
    "print(y_data.shape)"
   ]
  },
  {
   "cell_type": "markdown",
   "metadata": {},
   "source": [
    "### Initialize the following classifiers\n",
    "Now we will initialize each of the classifiers, and perform cross validation to obtain all the different metrics."
   ]
  },
  {
   "metadata": {
    "ExecuteTime": {
     "end_time": "2024-12-05T13:53:45.913808Z",
     "start_time": "2024-12-05T13:53:45.910809Z"
    }
   },
   "cell_type": "code",
   "source": [
    "from sklearn.model_selection import train_test_split\n",
    "from sklearn.linear_model import LogisticRegression\n",
    "from sklearn.tree import DecisionTreeClassifier\n",
    "from sklearn.svm import LinearSVC\n",
    "from sklearn.metrics import accuracy_score, f1_score, precision_score, recall_score\n",
    "from tensorflow.keras.models import Sequential\n",
    "from tensorflow.keras.layers import LSTM, Dense, Input\n",
    "from tensorflow.keras.optimizers import Adam\n",
    "import numpy as np"
   ],
   "outputs": [],
   "execution_count": 36
  },
  {
   "metadata": {
    "ExecuteTime": {
     "end_time": "2024-12-05T13:53:54.682048Z",
     "start_time": "2024-12-05T13:53:54.674048Z"
    }
   },
   "cell_type": "code",
   "source": [
    "class LSTMModel:\n",
    "    def __init__(self, input_shape, epochs=5, batch_size=32, learning_rate=0.001):\n",
    "        self.input_shape = input_shape\n",
    "        self.epochs = epochs\n",
    "        self.batch_size = batch_size\n",
    "        self.learning_rate = learning_rate\n",
    "        self.model = None\n",
    "\n",
    "    def fit(self, X, y):\n",
    "        # Reshape input for LSTM\n",
    "        X_lstm = np.expand_dims(X, axis=2)\n",
    "\n",
    "        # Define LSTM architecture\n",
    "        self.model = Sequential([\n",
    "            Input(shape=(X_lstm.shape[1], X_lstm.shape[2])),\n",
    "            LSTM(64, return_sequences=True),\n",
    "            LSTM(32),\n",
    "            Dense(1, activation=\"sigmoid\")\n",
    "        ])\n",
    "\n",
    "        # Compile the model\n",
    "        self.model.compile(optimizer=Adam(learning_rate=self.learning_rate), loss=\"binary_crossentropy\", metrics=[\"accuracy\"])\n",
    "\n",
    "        # Train the model\n",
    "        self.model.fit(X_lstm, y, epochs=self.epochs, batch_size=self.batch_size, verbose=0)\n",
    "\n",
    "        return self\n",
    "\n",
    "    def predict(self, X):\n",
    "        # Reshape input for prediction\n",
    "        X_lstm = np.expand_dims(X, axis=2)\n",
    "        predictions = self.model.predict(X_lstm).flatten()\n",
    "        return (predictions > 0.5).astype(int)"
   ],
   "outputs": [],
   "execution_count": 37
  },
  {
   "metadata": {
    "ExecuteTime": {
     "end_time": "2024-12-05T13:53:59.999108Z",
     "start_time": "2024-12-05T13:53:59.988103Z"
    }
   },
   "cell_type": "code",
   "source": [
    "ml_classifiers = {\n",
    "    \"Logistic Regression\": LogisticRegression(random_state=42, max_iter=1000),\n",
    "    \"Decision Tree Classifier\": DecisionTreeClassifier(random_state=42),\n",
    "    \"Linear Support Vector Machine\": LinearSVC(C=1.0, max_iter=1000),\n",
    "    \"LSTM Classifier\": LSTMModel(input_shape=(X_data.shape[1], 1), epochs=5, batch_size=32, learning_rate=0.001)\n",
    "}"
   ],
   "outputs": [],
   "execution_count": 38
  },
  {
   "metadata": {},
   "cell_type": "markdown",
   "source": [
    "### Split the data\n",
    "We would like to perform the following:\n",
    "1. Split our data into train_validation and test; we would hold the test dataset for a final analysis.\n",
    "2. Perform cross validation using train_validation; and perform shuffled folds to see its accuracies.\n",
    "3. Keep the saved cross val scores; for later analysis."
   ]
  },
  {
   "metadata": {
    "ExecuteTime": {
     "end_time": "2024-12-05T13:54:05.268981Z",
     "start_time": "2024-12-05T13:54:02.374765Z"
    }
   },
   "cell_type": "code",
   "source": [
    "# Obtain the data into train_val and test\n",
    "x_train_val, x_test, y_train_val, y_test = train_test_split(X_data, y_data,\n",
    "    test_size=0.2, shuffle=True, random_state=42)\n",
    "print(x_train_val.shape)\n",
    "print(x_test.shape)\n",
    "print(y_train_val.shape)\n",
    "print(y_test.shape)"
   ],
   "outputs": [
    {
     "name": "stdout",
     "output_type": "stream",
     "text": [
      "(2062670, 95)\n",
      "(515668, 95)\n",
      "(2062670,)\n",
      "(515668,)\n"
     ]
    }
   ],
   "execution_count": 39
  },
  {
   "cell_type": "markdown",
   "metadata": {},
   "source": [
    "### Perform Cross validation for all ML algorithms\n",
    "Perform cross validation for each of the ML algorithms, to obtain its results."
   ]
  },
  {
   "metadata": {
    "jupyter": {
     "is_executing": true
    },
    "ExecuteTime": {
     "start_time": "2024-12-05T13:54:07.088843Z"
    }
   },
   "cell_type": "code",
   "source": [
    "# Create the holders for each metrics\n",
    "ml_metrics = {}\n",
    "\n",
    "for name, clf in ml_classifiers.items():\n",
    "    print(f\"\\n==========={name}============ Starting\")\n",
    "    # Initialize variables for each\n",
    "    accuracies = []\n",
    "    precisions = []\n",
    "    recalls = []\n",
    "    f1_scores = []\n",
    "\n",
    "    # Set loop count\n",
    "    loop_count = 1 if name == \"LSTM Classifier\" else 20\n",
    "\n",
    "    for i in range(loop_count):\n",
    "        print(f\"Iteration: {i} - {name}\")\n",
    "        # Call the train test split\n",
    "        x_train, x_val, y_train, y_val = train_test_split(x_train_val, y_train_val, shuffle=True)\n",
    "\n",
    "        # Fit each of the classifiers\n",
    "        clf.fit(X=x_train, y=y_train)\n",
    "\n",
    "        # Obtain the predictions for both\n",
    "        y_pred = clf.predict(x_val)\n",
    "\n",
    "        # Append metrics\n",
    "        accuracies.append(accuracy_score(y_val, y_pred))\n",
    "        precisions.append(precision_score(y_val, y_pred))\n",
    "        recalls.append(recall_score(y_val, y_pred))\n",
    "        f1_scores.append(f1_score(y_val, y_pred))\n",
    "\n",
    "    # Add the metrics\n",
    "    ml_metrics[name + \"_accuracies\"] = accuracies\n",
    "    ml_metrics[name + \"_precisions\"] = precisions\n",
    "    ml_metrics[name + \"_recalls\"] = recalls\n",
    "    ml_metrics[name + \"_f1_scores\"] = f1_scores\n",
    "\n",
    "    # Create a dataframe and save it into a dataframe\n",
    "    df_results = pd.DataFrame(ml_metrics)\n",
    "    df_results.to_csv('my_data_' + name.replace(\" \", \"_\") + '.csv', index=False)\n",
    "    print(f\"\\n==========={name}============ Ending\")"
   ],
   "outputs": [
    {
     "name": "stdout",
     "output_type": "stream",
     "text": [
      "\n",
      "===========Logistic Regression============ Starting\n",
      "Iteration: 0 - Logistic Regression\n"
     ]
    }
   ],
   "execution_count": null
  },
  {
   "cell_type": "markdown",
   "metadata": {},
   "source": [
    "# Data Visualization\n",
    "\n",
    "Now that we have finally got the cross validation metrics, we will perform the last steps in order to see the different results of each of the ML models. This would be illustrated as:\n",
    "\n",
    "1. Plot bar plot of accuracies, precision, recall, and f1 score for cross validation metrics of each of the models.\n",
    "\n",
    "2. Next; after having the cross validation metrics; we previously have isolated a part of the data as test set. We are going to train a final model for each ML classifier, and obtain the test metrics as well. With these test and cross validation metrics; we are going to perform the following:\n",
    "3. Plot bar plot of accuracies, precision, recall, and f1 score for test metrics of each of the models.\n",
    "4. Generate confusion matrices for each of the test final models.\n",
    "5. Create ROC curves for all models and overlay for comparison"
   ]
  },
  {
   "metadata": {},
   "cell_type": "code",
   "outputs": [],
   "execution_count": null,
   "source": [
    "from typing import List\n",
    "def read_df_data(clfs_names:List[str]) -> pd.DataFrame:\n",
    "    \"\"\"\n",
    "    Function that would retrieve the checkpoints cross validation\n",
    "    values for accuracy, precision, recall, and f1 score.\n",
    "    \"\"\"\n",
    "    #Create a holder to store the data\n",
    "    actual_data = {}\n",
    "\n",
    "    for name in clfs_names:\n",
    "        #Read the dataframe\n",
    "        df_data = pd.read_csv(\"my_data_\" + name + \".csv\")\n",
    "\n",
    "        #Assign it to the actual data properly\n",
    "        actual_data[name + \"_accuracies\"] = df_data[name + \"_accuracies\"].to_numpy()\n",
    "        actual_data[name + \"_precisions\"] = df_data[name + \"_precisions\"].to_numpy()\n",
    "        actual_data[name + \"_recalls\"] = df_data[name + \"_recalls\"].to_numpy()\n",
    "        actual_data[name + \"_f1_scores\"] = df_data[name + \"_f1_scores\"].to_numpy()\n",
    "    \n",
    "    #Return the total dataframe.\n",
    "    return pd.DataFrame(actual_data)"
   ]
  },
  {
   "metadata": {},
   "cell_type": "code",
   "outputs": [],
   "execution_count": null,
   "source": [
    "#Get the cross validation metrics\n",
    "df_cross_val_metrics = read_df_data(clfs_names=ml_classifiers.keys())\n",
    "\n",
    "print(ml_classifiers.keys())\n"
   ]
  },
  {
   "metadata": {},
   "cell_type": "code",
   "outputs": [],
   "execution_count": null,
   "source": "df_cross_val_metrics.columns"
  },
  {
   "cell_type": "code",
   "execution_count": 56,
   "metadata": {},
   "outputs": [
    {
     "data": {
      "text/html": [
       "<div>\n",
       "<style scoped>\n",
       "    .dataframe tbody tr th:only-of-type {\n",
       "        vertical-align: middle;\n",
       "    }\n",
       "\n",
       "    .dataframe tbody tr th {\n",
       "        vertical-align: top;\n",
       "    }\n",
       "\n",
       "    .dataframe thead th {\n",
       "        text-align: right;\n",
       "    }\n",
       "</style>\n",
       "<table border=\"1\" class=\"dataframe\">\n",
       "  <thead>\n",
       "    <tr style=\"text-align: right;\">\n",
       "      <th></th>\n",
       "      <th>Logistic Regression_accuracies</th>\n",
       "      <th>Logistic Regression_precisions</th>\n",
       "      <th>Logistic Regression_recalls</th>\n",
       "      <th>Logistic Regression_f1_scores</th>\n",
       "      <th>Decition Tree Classifier_accuracies</th>\n",
       "      <th>Decition Tree Classifier_precisions</th>\n",
       "      <th>Decition Tree Classifier_recalls</th>\n",
       "      <th>Decition Tree Classifier_f1_scores</th>\n",
       "      <th>Linear Support Vector Machine_accuracies</th>\n",
       "      <th>Linear Support Vector Machine_precisions</th>\n",
       "      <th>Linear Support Vector Machine_recalls</th>\n",
       "      <th>Linear Support Vector Machine_f1_scores</th>\n",
       "    </tr>\n",
       "  </thead>\n",
       "  <tbody>\n",
       "    <tr>\n",
       "      <th>0</th>\n",
       "      <td>0.899715</td>\n",
       "      <td>0.928023</td>\n",
       "      <td>0.866518</td>\n",
       "      <td>0.896217</td>\n",
       "      <td>0.998449</td>\n",
       "      <td>0.997649</td>\n",
       "      <td>0.999251</td>\n",
       "      <td>0.998449</td>\n",
       "      <td>0.885267</td>\n",
       "      <td>0.921700</td>\n",
       "      <td>0.842319</td>\n",
       "      <td>0.880223</td>\n",
       "    </tr>\n",
       "    <tr>\n",
       "      <th>1</th>\n",
       "      <td>0.899538</td>\n",
       "      <td>0.927577</td>\n",
       "      <td>0.866385</td>\n",
       "      <td>0.895937</td>\n",
       "      <td>0.998449</td>\n",
       "      <td>0.997624</td>\n",
       "      <td>0.999284</td>\n",
       "      <td>0.998453</td>\n",
       "      <td>0.884928</td>\n",
       "      <td>0.919574</td>\n",
       "      <td>0.843096</td>\n",
       "      <td>0.879676</td>\n",
       "    </tr>\n",
       "  </tbody>\n",
       "</table>\n",
       "</div>"
      ],
      "text/plain": [
       "   Logistic Regression_accuracies  Logistic Regression_precisions  \\\n",
       "0                        0.899715                        0.928023   \n",
       "1                        0.899538                        0.927577   \n",
       "\n",
       "   Logistic Regression_recalls  Logistic Regression_f1_scores  \\\n",
       "0                     0.866518                       0.896217   \n",
       "1                     0.866385                       0.895937   \n",
       "\n",
       "   Decition Tree Classifier_accuracies  Decition Tree Classifier_precisions  \\\n",
       "0                             0.998449                             0.997649   \n",
       "1                             0.998449                             0.997624   \n",
       "\n",
       "   Decition Tree Classifier_recalls  Decition Tree Classifier_f1_scores  \\\n",
       "0                          0.999251                            0.998449   \n",
       "1                          0.999284                            0.998453   \n",
       "\n",
       "   Linear Support Vector Machine_accuracies  \\\n",
       "0                                  0.885267   \n",
       "1                                  0.884928   \n",
       "\n",
       "   Linear Support Vector Machine_precisions  \\\n",
       "0                                  0.921700   \n",
       "1                                  0.919574   \n",
       "\n",
       "   Linear Support Vector Machine_recalls  \\\n",
       "0                               0.842319   \n",
       "1                               0.843096   \n",
       "\n",
       "   Linear Support Vector Machine_f1_scores  \n",
       "0                                 0.880223  \n",
       "1                                 0.879676  "
      ]
     },
     "execution_count": 56,
     "metadata": {},
     "output_type": "execute_result"
    }
   ],
   "source": [
    "df_cross_val_metrics.head(2)"
   ]
  },
  {
   "cell_type": "markdown",
   "metadata": {},
   "source": "### Plot the cross validation bar plots"
  },
  {
   "metadata": {},
   "cell_type": "code",
   "outputs": [],
   "execution_count": null,
   "source": [
    "# Create two lists for a new dataframe, models and metrics\n",
    "models = ml_classifiers.keys()\n",
    "metrics = [\"accuracies\", \"precisions\", \"recalls\", \"f1_scores\"]\n",
    "\n",
    "#Lets do a df plot cross val\n",
    "plot_cross_val = []\n",
    "for model in models:\n",
    "    model_data = [df_cross_val_metrics[f\"{model}_{metric}\"].mean() for metric in metrics]\n",
    "    plot_cross_val.append(model_data)\n",
    "\n",
    "# Convert to a Pandas DataFrame for plotting\n",
    "df_plot_cross_val = pd.DataFrame(plot_cross_val, columns=metrics, index=models)"
   ]
  },
  {
   "metadata": {},
   "cell_type": "code",
   "outputs": [],
   "execution_count": null,
   "source": "df_plot_cross_val.head(3)"
  },
  {
   "cell_type": "markdown",
   "metadata": {},
   "source": [
    "### Plot the bar graph of cross val metrics"
   ]
  },
  {
   "metadata": {},
   "cell_type": "code",
   "outputs": [],
   "execution_count": null,
   "source": [
    "fig, axs = plt.subplots(1, figsize = (12, 6))\n",
    "df_plot_cross_val.T.plot(ax=axs, kind=\"bar\", legend=True, width = 0.8)\n",
    "\n",
    "# Rotate x-axis ticks\n",
    "axs.set_xticklabels(axs.get_xticklabels(), rotation=90, fontsize=10)\n",
    "\n",
    "# Annotate bar values\n",
    "for container in axs.containers:\n",
    "    axs.bar_label(container, fmt='%.4f', fontsize=10, padding=3)\n",
    "\n",
    "axs.set_ylim(0.83, 1.01)"
   ]
  },
  {
   "metadata": {},
   "cell_type": "markdown",
   "source": [
    "### Train the final test models!\n",
    "Even thought its obvious the decision tree classifier is the best model between all the ML models; now we will perform the final test models and retrieve the metrics for each of them."
   ]
  },
  {
   "metadata": {},
   "cell_type": "code",
   "outputs": [],
   "execution_count": null,
   "source": [
    "from sklearn.metrics import classification_report, confusion_matrix, roc_auc_score\n",
    "\n",
    "# Create the holders for each metrics\n",
    "test_metrics = []\n",
    "conf_matrices = []\n",
    "class_reports = []\n",
    "roc_auc_scores = []\n",
    "\n",
    "for name, clf in ml_classifiers.items():\n",
    "    print(f\"\\n==========={name}============ Starting\")\n",
    "\n",
    "    # Fit the model with x_train_val and the y_train_val dataset now!\n",
    "    clf.fit(X=x_train_val, y=y_train_val)\n",
    "\n",
    "    #Obtain the predictions for both\n",
    "    y_pred = clf.predict(x_test)\n",
    "\n",
    "    # Append them in order per row (accuracy, precision, recall, f1_score)\n",
    "    test_metrics.append(accuracy_score(y_test, y_pred))\n",
    "    test_metrics.append(precision_score(y_test, y_pred))\n",
    "    test_metrics.append(recall_score(y_test, y_pred))\n",
    "    test_metrics.append(f1_score(y_test, y_pred))\n",
    "\n",
    "    # Append the confusion matrix\n",
    "    conf_matrices.append(confusion_matrix(y_test, y_pred))\n",
    "    class_reports.append(classification_report(y_test, y_pred))\n",
    "    roc_auc_scores.append(roc_auc_score(y_test, y_pred))\n",
    "\n",
    "    print(f\"\\n==========={name}============ Ending\")"
   ]
  },
  {
   "metadata": {},
   "cell_type": "code",
   "outputs": [],
   "execution_count": null,
   "source": "print(test_metrics)"
  },
  {
   "metadata": {},
   "cell_type": "code",
   "outputs": [],
   "execution_count": null,
   "source": [
    "# Convert this to a numpy array\n",
    "import numpy as np\n",
    "np_test_metrics = np.array(test_metrics)\n",
    "np_test_metrics = np_test_metrics.reshape(3,4)"
   ]
  },
  {
   "metadata": {},
   "cell_type": "code",
   "outputs": [],
   "execution_count": null,
   "source": "print(np_test_metrics)"
  },
  {
   "cell_type": "code",
   "execution_count": 71,
   "metadata": {},
   "outputs": [
    {
     "name": "stdout",
     "output_type": "stream",
     "text": [
      "                               accuracies  precisions   recalls  f1_scores\n",
      "Logistic Regression              0.900360    0.929433  0.867051   0.897159\n",
      "Decition Tree Classifier         0.998751    0.998118  0.999393   0.998755\n",
      "Linear Support Vector Machine    0.886353    0.922740  0.843939   0.881582\n"
     ]
    }
   ],
   "source": [
    "#Create a dataframe of the model the test metrics\n",
    "df_test_results = pd.DataFrame(np_test_metrics, columns=metrics, index=models)\n",
    "print(df_test_results.head(4))"
   ]
  },
  {
   "cell_type": "code",
   "execution_count": 72,
   "metadata": {},
   "outputs": [
    {
     "data": {
      "text/plain": [
       "(0.83, 1.01)"
      ]
     },
     "execution_count": 72,
     "metadata": {},
     "output_type": "execute_result"
    },
    {
     "data": {
      "image/png": "[encoded data removed]",
      "text/plain": [
       "<Figure size 1200x600 with 1 Axes>"
      ]
     },
     "metadata": {},
     "output_type": "display_data"
    }
   ],
   "source": [
    "fig, axs = plt.subplots(1, figsize = (12, 6))\n",
    "df_test_results.T.plot(ax=axs, kind=\"bar\", legend=True, width = 0.8)\n",
    "\n",
    "# Rotate x-axis ticks\n",
    "axs.set_xticklabels(axs.get_xticklabels(), rotation=90, fontsize=10)\n",
    "\n",
    "# Annotate bar values\n",
    "for container in axs.containers:\n",
    "    axs.bar_label(container, fmt='%.4f', fontsize=10, padding=3)  # Adjust padding for better visibility\n",
    "\n",
    "axs.set_ylim(0.83, 1.01)"
   ]
  },
  {
   "metadata": {},
   "cell_type": "markdown",
   "source": "### Print each of the classification reports"
  },
  {
   "metadata": {},
   "cell_type": "code",
   "outputs": [],
   "execution_count": null,
   "source": [
    "for i, name in enumerate(ml_classifiers):\n",
    "    print(f\"\\n==========={name}============ class report\")\n",
    "    print(class_reports[i])"
   ]
  },
  {
   "metadata": {},
   "cell_type": "markdown",
   "source": "### Lets lot the confusion matrices now"
  },
  {
   "metadata": {},
   "cell_type": "code",
   "outputs": [],
   "execution_count": null,
   "source": [
    "from sklearn.metrics import ConfusionMatrixDisplay\n",
    "\n",
    "for i, name in enumerate(ml_classifiers):\n",
    "    cm = conf_matrices[i]\n",
    "    disp = ConfusionMatrixDisplay(confusion_matrix=cm,\n",
    "                                display_labels=clf.classes_)\n",
    "    disp.plot()\n",
    "    plt.suptitle(name)"
   ]
  },
  {
   "cell_type": "markdown",
   "metadata": {},
   "source": [
    "### Finally, lets plot the ROC auc scores"
   ]
  },
  {
   "cell_type": "code",
   "execution_count": 78,
   "metadata": {},
   "outputs": [
    {
     "name": "stdout",
     "output_type": "stream",
     "text": [
      "Logistic Regression ROC_AUC_Scores: 0.9004442354715528\n",
      "Decition Tree Classifier ROC_AUC_Scores: 0.998749518209659\n",
      "Linear Support Vector Machine ROC_AUC_Scores: 0.886460101365459\n"
     ]
    }
   ],
   "source": [
    "for i, name in enumerate(ml_classifiers):\n",
    "    print(f\"{name} ROC_AUC_Scores: {roc_auc_scores[i]}\")"
   ]
  }
 ],
 "metadata": {
  "kernelspec": {
   "display_name": "venv",
   "language": "python",
   "name": "python3"
  },
  "language_info": {
   "codemirror_mode": {
    "name": "ipython",
    "version": 3
   },
   "file_extension": ".py",
   "mimetype": "text/x-python",
   "name": "python",
   "nbconvert_exporter": "python",
   "pygments_lexer": "ipython3",
   "version": "3.12.5"
  }
 },
 "nbformat": 4,
 "nbformat_minor": 2
}
