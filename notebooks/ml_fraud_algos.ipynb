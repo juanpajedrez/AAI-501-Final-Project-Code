{
 "cells": [
  {
   "metadata": {},
   "cell_type": "markdown",
   "source": [
    "# Fraud Detection from Credit Card History, Machine learning algorithms\n",
    "The following jupyter notebook contains a binary classification for fraud detection, from a credit card history. For this; we will explore the following three machine learning algorithms:\n",
    "* Logistic Regression\n",
    "* Decision Tree\n",
    "* Linear Support Vector Machine\n",
    "* Long Short Term Memory (LSTM)\n",
    "\n",
    "This jupyter notebook would showcase the following:\n",
    "1. Confusion matrix for each of the models\n",
    "2. Cross validation metrics (precision, recall, f1_score, accuracy_score).\n",
    "3. Plot of probability distributions between real test data vs each models predictions."
   ]
  },
  {
   "metadata": {
    "ExecuteTime": {
     "end_time": "2024-12-06T18:48:09.063740Z",
     "start_time": "2024-12-06T18:48:08.666046Z"
    }
   },
   "cell_type": "code",
   "source": [
    "import sys\n",
    "import os\n",
    "import pandas as pd\n",
    "import copy\n",
    "import matplotlib.pyplot as plt\n",
    "\n",
    "# Get the root project path\n",
    "root_project_path = os.path.abspath(os.path.join(os.getcwd(), os.pardir))\n",
    "\n",
    "# Append it to sys\n",
    "sys.path.append(root_project_path)\n",
    "\n",
    "# Import the necessary modules\n",
    "from utils import DataLoader, CreditCardPreprocesser"
   ],
   "outputs": [
    {
     "name": "stderr",
     "output_type": "stream",
     "text": [
      "C:\\Users\\marqu\\PycharmProjects\\Argus\\.venv\\lib\\site-packages\\tqdm\\auto.py:21: TqdmWarning: IProgress not found. Please update jupyter and ipywidgets. See https://ipywidgets.readthedocs.io/en/stable/user_install.html\n",
      "  from .autonotebook import tqdm as notebook_tqdm\n"
     ]
    }
   ],
   "execution_count": 4
  },
  {
   "cell_type": "markdown",
   "metadata": {},
   "source": [
    "### Load the data"
   ]
  },
  {
   "metadata": {
    "ExecuteTime": {
     "end_time": "2024-12-06T18:48:13.238425Z",
     "start_time": "2024-12-06T18:48:10.821865Z"
    }
   },
   "cell_type": "code",
   "source": [
    "# Set the folder name and data folder\n",
    "folder_name = \"data\"\n",
    "data_holder_path = os.path.join(os.getcwd(), os.pardir)\n",
    "\n",
    "# Set the folder name\n",
    "data_loader = DataLoader(data_folder_name=folder_name,\n",
    "    data_folder_path=data_holder_path)\n",
    "\n",
    "# Get the data\n",
    "df_data = data_loader.get_dataset()"
   ],
   "outputs": [],
   "execution_count": 5
  },
  {
   "cell_type": "markdown",
   "metadata": {},
   "source": [
    "### Get the preprocessed dataframe"
   ]
  },
  {
   "cell_type": "code",
   "metadata": {
    "ExecuteTime": {
     "end_time": "2024-12-06T18:48:21.795790Z",
     "start_time": "2024-12-06T18:48:15.424548Z"
    }
   },
   "source": [
    "# Create an instance of the Credit card processer\n",
    "credit_card_processer = CreditCardPreprocesser(df_data=df_data)\n",
    "\n",
    "# Obtain the df_preprocessed\n",
    "df_preprocessed = credit_card_processer.fetch_preprocessed_dataframe()"
   ],
   "outputs": [],
   "execution_count": 6
  },
  {
   "metadata": {
    "ExecuteTime": {
     "end_time": "2024-12-06T11:55:27.799140Z",
     "start_time": "2024-12-06T11:55:27.785141Z"
    }
   },
   "cell_type": "code",
   "source": [
    "# Print the shape\n",
    "df_preprocessed.shape"
   ],
   "outputs": [
    {
     "data": {
      "text/plain": [
       "(1296675, 96)"
      ]
     },
     "execution_count": 4,
     "metadata": {},
     "output_type": "execute_result"
    }
   ],
   "execution_count": 4
  },
  {
   "metadata": {
    "ExecuteTime": {
     "end_time": "2024-12-06T11:55:38.024051Z",
     "start_time": "2024-12-06T11:55:37.892640Z"
    }
   },
   "cell_type": "code",
   "source": [
    "# Print the preprocessed dataframe\n",
    "df_preprocessed.info()"
   ],
   "outputs": [
    {
     "name": "stdout",
     "output_type": "stream",
     "text": [
      "<class 'pandas.core.frame.DataFrame'>\n",
      "RangeIndex: 1296675 entries, 0 to 1296674\n",
      "Data columns (total 96 columns):\n",
      " #   Column                   Non-Null Count    Dtype  \n",
      "---  ------                   --------------    -----  \n",
      " 0   cc_num                   1296675 non-null  int64  \n",
      " 1   amt                      1296675 non-null  float64\n",
      " 2   gender                   1296675 non-null  int64  \n",
      " 3   zip                      1296675 non-null  int64  \n",
      " 4   lat                      1296675 non-null  float64\n",
      " 5   long                     1296675 non-null  float64\n",
      " 6   city_pop                 1296675 non-null  int64  \n",
      " 7   unix_time                1296675 non-null  int64  \n",
      " 8   merch_lat                1296675 non-null  float64\n",
      " 9   merch_long               1296675 non-null  float64\n",
      " 10  is_fraud                 1296675 non-null  int64  \n",
      " 11  merch_zipcode            1296675 non-null  float64\n",
      " 12  transaction_year         1296675 non-null  int32  \n",
      " 13  transaction_month        1296675 non-null  int32  \n",
      " 14  transaction_day          1296675 non-null  int32  \n",
      " 15  transaction_hour         1296675 non-null  int32  \n",
      " 16  transaction_minute       1296675 non-null  int32  \n",
      " 17  transaction_second       1296675 non-null  int32  \n",
      " 18  birth_year               1296675 non-null  int32  \n",
      " 19  birth_month              1296675 non-null  int32  \n",
      " 20  birth_day                1296675 non-null  int32  \n",
      " 21  category_food_dining     1296675 non-null  int64  \n",
      " 22  category_gas_transport   1296675 non-null  int64  \n",
      " 23  category_grocery_net     1296675 non-null  int64  \n",
      " 24  category_grocery_pos     1296675 non-null  int64  \n",
      " 25  category_health_fitness  1296675 non-null  int64  \n",
      " 26  category_home            1296675 non-null  int64  \n",
      " 27  category_kids_pets       1296675 non-null  int64  \n",
      " 28  category_misc_net        1296675 non-null  int64  \n",
      " 29  category_misc_pos        1296675 non-null  int64  \n",
      " 30  category_personal_care   1296675 non-null  int64  \n",
      " 31  category_shopping_net    1296675 non-null  int64  \n",
      " 32  category_shopping_pos    1296675 non-null  int64  \n",
      " 33  category_travel          1296675 non-null  int64  \n",
      " 34  state_AL                 1296675 non-null  int64  \n",
      " 35  state_AR                 1296675 non-null  int64  \n",
      " 36  state_AZ                 1296675 non-null  int64  \n",
      " 37  state_CA                 1296675 non-null  int64  \n",
      " 38  state_CO                 1296675 non-null  int64  \n",
      " 39  state_CT                 1296675 non-null  int64  \n",
      " 40  state_DC                 1296675 non-null  int64  \n",
      " 41  state_DE                 1296675 non-null  int64  \n",
      " 42  state_FL                 1296675 non-null  int64  \n",
      " 43  state_GA                 1296675 non-null  int64  \n",
      " 44  state_HI                 1296675 non-null  int64  \n",
      " 45  state_IA                 1296675 non-null  int64  \n",
      " 46  state_ID                 1296675 non-null  int64  \n",
      " 47  state_IL                 1296675 non-null  int64  \n",
      " 48  state_IN                 1296675 non-null  int64  \n",
      " 49  state_KS                 1296675 non-null  int64  \n",
      " 50  state_KY                 1296675 non-null  int64  \n",
      " 51  state_LA                 1296675 non-null  int64  \n",
      " 52  state_MA                 1296675 non-null  int64  \n",
      " 53  state_MD                 1296675 non-null  int64  \n",
      " 54  state_ME                 1296675 non-null  int64  \n",
      " 55  state_MI                 1296675 non-null  int64  \n",
      " 56  state_MN                 1296675 non-null  int64  \n",
      " 57  state_MO                 1296675 non-null  int64  \n",
      " 58  state_MS                 1296675 non-null  int64  \n",
      " 59  state_MT                 1296675 non-null  int64  \n",
      " 60  state_NC                 1296675 non-null  int64  \n",
      " 61  state_ND                 1296675 non-null  int64  \n",
      " 62  state_NE                 1296675 non-null  int64  \n",
      " 63  state_NH                 1296675 non-null  int64  \n",
      " 64  state_NJ                 1296675 non-null  int64  \n",
      " 65  state_NM                 1296675 non-null  int64  \n",
      " 66  state_NV                 1296675 non-null  int64  \n",
      " 67  state_NY                 1296675 non-null  int64  \n",
      " 68  state_OH                 1296675 non-null  int64  \n",
      " 69  state_OK                 1296675 non-null  int64  \n",
      " 70  state_OR                 1296675 non-null  int64  \n",
      " 71  state_PA                 1296675 non-null  int64  \n",
      " 72  state_RI                 1296675 non-null  int64  \n",
      " 73  state_SC                 1296675 non-null  int64  \n",
      " 74  state_SD                 1296675 non-null  int64  \n",
      " 75  state_TN                 1296675 non-null  int64  \n",
      " 76  state_TX                 1296675 non-null  int64  \n",
      " 77  state_UT                 1296675 non-null  int64  \n",
      " 78  state_VA                 1296675 non-null  int64  \n",
      " 79  state_VT                 1296675 non-null  int64  \n",
      " 80  state_WA                 1296675 non-null  int64  \n",
      " 81  state_WI                 1296675 non-null  int64  \n",
      " 82  state_WV                 1296675 non-null  int64  \n",
      " 83  state_WY                 1296675 non-null  int64  \n",
      " 84  merchant_encoded         1296675 non-null  float64\n",
      " 85  merchant_freq            1296675 non-null  int64  \n",
      " 86  first_encoded            1296675 non-null  float64\n",
      " 87  first_freq               1296675 non-null  int64  \n",
      " 88  last_encoded             1296675 non-null  float64\n",
      " 89  last_freq                1296675 non-null  int64  \n",
      " 90  street_encoded           1296675 non-null  float64\n",
      " 91  street_freq              1296675 non-null  int64  \n",
      " 92  city_encoded             1296675 non-null  float64\n",
      " 93  city_freq                1296675 non-null  int64  \n",
      " 94  job_encoded              1296675 non-null  float64\n",
      " 95  job_freq                 1296675 non-null  int64  \n",
      "dtypes: float64(12), int32(9), int64(75)\n",
      "memory usage: 905.2 MB\n"
     ]
    }
   ],
   "execution_count": 5
  },
  {
   "metadata": {},
   "cell_type": "markdown",
   "source": "### Select the X and Y target"
  },
  {
   "metadata": {
    "ExecuteTime": {
     "end_time": "2024-12-06T18:48:22.076806Z",
     "start_time": "2024-12-06T18:48:21.903770Z"
    }
   },
   "cell_type": "code",
   "source": [
    "# Select the X and Y targets from the preprocessed data\n",
    "X: pd.DataFrame = df_preprocessed[[col for col in df_preprocessed.columns if col != \"is_fraud\"]]\n",
    "y: pd.DataFrame = df_preprocessed[\"is_fraud\"]"
   ],
   "outputs": [],
   "execution_count": 7
  },
  {
   "cell_type": "code",
   "metadata": {
    "ExecuteTime": {
     "end_time": "2024-12-06T11:55:41.102249Z",
     "start_time": "2024-12-06T11:55:41.078968Z"
    }
   },
   "source": [
    "# Display the Y value counts\n",
    "y.value_counts()"
   ],
   "outputs": [
    {
     "data": {
      "text/plain": [
       "is_fraud\n",
       "0    1289169\n",
       "1       7506\n",
       "Name: count, dtype: int64"
      ]
     },
     "execution_count": 7,
     "metadata": {},
     "output_type": "execute_result"
    }
   ],
   "execution_count": 7
  },
  {
   "cell_type": "markdown",
   "metadata": {},
   "source": [
    "### Lets now oversample it using SMOTE"
   ]
  },
  {
   "cell_type": "code",
   "metadata": {
    "ExecuteTime": {
     "end_time": "2024-12-06T18:48:28.204609Z",
     "start_time": "2024-12-06T18:48:23.829003Z"
    }
   },
   "source": [
    "from imblearn.over_sampling import SMOTE\n",
    "smote = SMOTE()\n",
    "\n",
    "# Obtain the over-sampled new values\n",
    "X_smote, y_smote = smote.fit_resample(X.astype(\"float\"), y)"
   ],
   "outputs": [],
   "execution_count": 8
  },
  {
   "cell_type": "code",
   "metadata": {
    "ExecuteTime": {
     "end_time": "2024-12-06T12:08:35.687751Z",
     "start_time": "2024-12-06T12:08:35.672247Z"
    }
   },
   "source": [
    "# Display the y_smote value count\n",
    "y_smote.value_counts()"
   ],
   "outputs": [
    {
     "data": {
      "text/plain": [
       "is_fraud\n",
       "0    1289169\n",
       "1    1289169\n",
       "Name: count, dtype: int64"
      ]
     },
     "execution_count": 7,
     "metadata": {},
     "output_type": "execute_result"
    }
   ],
   "execution_count": 7
  },
  {
   "metadata": {},
   "cell_type": "markdown",
   "source": [
    "### Select the continous columns:\n",
    "\n",
    "We will select the continous columns; where we are going to apply our `Standardscaler()` instance from scikit-learn to perform standardscaling on ONLY the continous features."
   ]
  },
  {
   "metadata": {
    "ExecuteTime": {
     "end_time": "2024-12-06T18:48:28.720233Z",
     "start_time": "2024-12-06T18:48:28.208612Z"
    }
   },
   "cell_type": "code",
   "source": [
    "# List all the continous features\n",
    "continous_features = [\"cc_num\", \"amt\", \"zip\", \"lat\", \"long\", \"city_pop\", \"unix_time\",\n",
    "    \"merch_lat\", \"merch_long\", \"merch_zipcode\", \"transaction_year\", \"transaction_month\",\n",
    "    \"transaction_day\", \"transaction_hour\", \"transaction_minute\", \"transaction_second\",\n",
    "    \"birth_year\", \"birth_month\", \"birth_day\", \"merchant_encoded\", \"merchant_freq\",\n",
    "    \"first_encoded\", \"first_freq\", \"last_encoded\", \"last_freq\", \"street_encoded\",\n",
    "    \"street_freq\", \"city_encoded\", \"city_freq\", \"job_encoded\", \"job_freq\"]\n",
    "\n",
    "# Select the continous and not continous\n",
    "X_smote_continous = X_smote[continous_features]\n",
    "X_smote_discontinous = X_smote[[c for c in X_smote.columns if c not in continous_features]]"
   ],
   "outputs": [],
   "execution_count": 9
  },
  {
   "metadata": {
    "ExecuteTime": {
     "end_time": "2024-12-06T12:43:20.914240Z",
     "start_time": "2024-12-06T12:43:20.892728Z"
    }
   },
   "cell_type": "code",
   "source": "X_smote_discontinous.head(3)",
   "outputs": [
    {
     "data": {
      "text/plain": [
       "   gender  category_food_dining  category_gas_transport  category_grocery_net  \\\n",
       "0     1.0                   0.0                     0.0                   0.0   \n",
       "1     1.0                   0.0                     0.0                   0.0   \n",
       "2     0.0                   0.0                     0.0                   0.0   \n",
       "\n",
       "   category_grocery_pos  category_health_fitness  category_home  \\\n",
       "0                   0.0                      0.0            0.0   \n",
       "1                   1.0                      0.0            0.0   \n",
       "2                   0.0                      0.0            0.0   \n",
       "\n",
       "   category_kids_pets  category_misc_net  category_misc_pos  ...  state_SD  \\\n",
       "0                 0.0                1.0                0.0  ...       0.0   \n",
       "1                 0.0                0.0                0.0  ...       0.0   \n",
       "2                 0.0                0.0                0.0  ...       0.0   \n",
       "\n",
       "   state_TN  state_TX  state_UT  state_VA  state_VT  state_WA  state_WI  \\\n",
       "0       0.0       0.0       0.0       0.0       0.0       0.0       0.0   \n",
       "1       0.0       0.0       0.0       0.0       0.0       1.0       0.0   \n",
       "2       0.0       0.0       0.0       0.0       0.0       0.0       0.0   \n",
       "\n",
       "   state_WV  state_WY  \n",
       "0       0.0       0.0  \n",
       "1       0.0       0.0  \n",
       "2       0.0       0.0  \n",
       "\n",
       "[3 rows x 64 columns]"
      ],
      "text/html": [
       "<div>\n",
       "<style scoped>\n",
       "    .dataframe tbody tr th:only-of-type {\n",
       "        vertical-align: middle;\n",
       "    }\n",
       "\n",
       "    .dataframe tbody tr th {\n",
       "        vertical-align: top;\n",
       "    }\n",
       "\n",
       "    .dataframe thead th {\n",
       "        text-align: right;\n",
       "    }\n",
       "</style>\n",
       "<table border=\"1\" class=\"dataframe\">\n",
       "  <thead>\n",
       "    <tr style=\"text-align: right;\">\n",
       "      <th></th>\n",
       "      <th>gender</th>\n",
       "      <th>category_food_dining</th>\n",
       "      <th>category_gas_transport</th>\n",
       "      <th>category_grocery_net</th>\n",
       "      <th>category_grocery_pos</th>\n",
       "      <th>category_health_fitness</th>\n",
       "      <th>category_home</th>\n",
       "      <th>category_kids_pets</th>\n",
       "      <th>category_misc_net</th>\n",
       "      <th>category_misc_pos</th>\n",
       "      <th>...</th>\n",
       "      <th>state_SD</th>\n",
       "      <th>state_TN</th>\n",
       "      <th>state_TX</th>\n",
       "      <th>state_UT</th>\n",
       "      <th>state_VA</th>\n",
       "      <th>state_VT</th>\n",
       "      <th>state_WA</th>\n",
       "      <th>state_WI</th>\n",
       "      <th>state_WV</th>\n",
       "      <th>state_WY</th>\n",
       "    </tr>\n",
       "  </thead>\n",
       "  <tbody>\n",
       "    <tr>\n",
       "      <th>0</th>\n",
       "      <td>1.0</td>\n",
       "      <td>0.0</td>\n",
       "      <td>0.0</td>\n",
       "      <td>0.0</td>\n",
       "      <td>0.0</td>\n",
       "      <td>0.0</td>\n",
       "      <td>0.0</td>\n",
       "      <td>0.0</td>\n",
       "      <td>1.0</td>\n",
       "      <td>0.0</td>\n",
       "      <td>...</td>\n",
       "      <td>0.0</td>\n",
       "      <td>0.0</td>\n",
       "      <td>0.0</td>\n",
       "      <td>0.0</td>\n",
       "      <td>0.0</td>\n",
       "      <td>0.0</td>\n",
       "      <td>0.0</td>\n",
       "      <td>0.0</td>\n",
       "      <td>0.0</td>\n",
       "      <td>0.0</td>\n",
       "    </tr>\n",
       "    <tr>\n",
       "      <th>1</th>\n",
       "      <td>1.0</td>\n",
       "      <td>0.0</td>\n",
       "      <td>0.0</td>\n",
       "      <td>0.0</td>\n",
       "      <td>1.0</td>\n",
       "      <td>0.0</td>\n",
       "      <td>0.0</td>\n",
       "      <td>0.0</td>\n",
       "      <td>0.0</td>\n",
       "      <td>0.0</td>\n",
       "      <td>...</td>\n",
       "      <td>0.0</td>\n",
       "      <td>0.0</td>\n",
       "      <td>0.0</td>\n",
       "      <td>0.0</td>\n",
       "      <td>0.0</td>\n",
       "      <td>0.0</td>\n",
       "      <td>1.0</td>\n",
       "      <td>0.0</td>\n",
       "      <td>0.0</td>\n",
       "      <td>0.0</td>\n",
       "    </tr>\n",
       "    <tr>\n",
       "      <th>2</th>\n",
       "      <td>0.0</td>\n",
       "      <td>0.0</td>\n",
       "      <td>0.0</td>\n",
       "      <td>0.0</td>\n",
       "      <td>0.0</td>\n",
       "      <td>0.0</td>\n",
       "      <td>0.0</td>\n",
       "      <td>0.0</td>\n",
       "      <td>0.0</td>\n",
       "      <td>0.0</td>\n",
       "      <td>...</td>\n",
       "      <td>0.0</td>\n",
       "      <td>0.0</td>\n",
       "      <td>0.0</td>\n",
       "      <td>0.0</td>\n",
       "      <td>0.0</td>\n",
       "      <td>0.0</td>\n",
       "      <td>0.0</td>\n",
       "      <td>0.0</td>\n",
       "      <td>0.0</td>\n",
       "      <td>0.0</td>\n",
       "    </tr>\n",
       "  </tbody>\n",
       "</table>\n",
       "<p>3 rows × 64 columns</p>\n",
       "</div>"
      ]
     },
     "execution_count": 7,
     "metadata": {},
     "output_type": "execute_result"
    }
   ],
   "execution_count": 7
  },
  {
   "metadata": {},
   "cell_type": "markdown",
   "source": "### Implement the standardscaler to continous features"
  },
  {
   "metadata": {
    "ExecuteTime": {
     "end_time": "2024-12-06T18:48:30.489535Z",
     "start_time": "2024-12-06T18:48:29.401992Z"
    }
   },
   "cell_type": "code",
   "source": [
    "# Import standard scaler\n",
    "from sklearn.preprocessing import StandardScaler\n",
    "\n",
    "# Create a standard scaler object and fit x_train\n",
    "standard_scaler = StandardScaler()\n",
    "standard_scaler.fit(X_smote_continous)\n",
    "\n",
    "# Transform x_train and x_test\n",
    "X_continous_scaled = standard_scaler.transform(X_smote_continous)"
   ],
   "outputs": [],
   "execution_count": 10
  },
  {
   "metadata": {
    "ExecuteTime": {
     "end_time": "2024-12-06T18:48:31.621687Z",
     "start_time": "2024-12-06T18:48:31.608648Z"
    }
   },
   "cell_type": "code",
   "source": [
    "# Create a pandas dataframe\n",
    "X_continous_scaled = pd.DataFrame(X_continous_scaled,\n",
    "    columns=X_smote_continous.columns)"
   ],
   "outputs": [],
   "execution_count": 11
  },
  {
   "metadata": {
    "ExecuteTime": {
     "end_time": "2024-12-06T18:48:33.018310Z",
     "start_time": "2024-12-06T18:48:33.005309Z"
    }
   },
   "cell_type": "code",
   "source": "X_continous_scaled.shape",
   "outputs": [
    {
     "data": {
      "text/plain": [
       "(2578338, 31)"
      ]
     },
     "execution_count": 12,
     "metadata": {},
     "output_type": "execute_result"
    }
   ],
   "execution_count": 12
  },
  {
   "cell_type": "code",
   "metadata": {
    "ExecuteTime": {
     "end_time": "2024-12-06T12:08:45.381891Z",
     "start_time": "2024-12-06T12:08:45.362879Z"
    }
   },
   "source": [
    "X_continous_scaled.head(3)"
   ],
   "outputs": [
    {
     "data": {
      "text/plain": [
       "     cc_num       amt       zip       lat      long  city_pop  unix_time  \\\n",
       "0 -0.314146 -0.849665 -0.730733 -0.493568  0.635088 -0.285761  -1.755668   \n",
       "1 -0.316236 -0.553411  1.873809  2.008165 -2.005238 -0.296425  -1.755666   \n",
       "2 -0.316207 -0.226389  1.286156  0.698217 -1.581124 -0.283660  -1.755666   \n",
       "\n",
       "   merch_lat  merch_long  merch_zipcode  ...  first_encoded  first_freq  \\\n",
       "0  -0.502642    0.572527      -0.748980  ...      -0.081514    1.395395   \n",
       "1   2.048246   -2.001306      -0.015091  ...      -0.201122    0.425288   \n",
       "2   0.882526   -1.571696       1.583852  ...      -0.274487   -0.747764   \n",
       "\n",
       "   last_encoded  last_freq  street_encoded  street_freq  city_encoded  \\\n",
       "0     -0.301663  -0.634622       -0.348284     0.578598     -0.335459   \n",
       "1     -0.227250  -0.472387       -0.348284     1.795535     -0.335459   \n",
       "2     -0.054028   0.176073       -0.348284    -1.273525     -0.335459   \n",
       "\n",
       "   city_freq  job_encoded  job_freq  \n",
       "0   0.201721    -0.255531 -0.059194  \n",
       "1   1.620086    -0.243193  0.686028  \n",
       "2  -1.224123     0.115153 -1.514150  \n",
       "\n",
       "[3 rows x 31 columns]"
      ],
      "text/html": [
       "<div>\n",
       "<style scoped>\n",
       "    .dataframe tbody tr th:only-of-type {\n",
       "        vertical-align: middle;\n",
       "    }\n",
       "\n",
       "    .dataframe tbody tr th {\n",
       "        vertical-align: top;\n",
       "    }\n",
       "\n",
       "    .dataframe thead th {\n",
       "        text-align: right;\n",
       "    }\n",
       "</style>\n",
       "<table border=\"1\" class=\"dataframe\">\n",
       "  <thead>\n",
       "    <tr style=\"text-align: right;\">\n",
       "      <th></th>\n",
       "      <th>cc_num</th>\n",
       "      <th>amt</th>\n",
       "      <th>zip</th>\n",
       "      <th>lat</th>\n",
       "      <th>long</th>\n",
       "      <th>city_pop</th>\n",
       "      <th>unix_time</th>\n",
       "      <th>merch_lat</th>\n",
       "      <th>merch_long</th>\n",
       "      <th>merch_zipcode</th>\n",
       "      <th>...</th>\n",
       "      <th>first_encoded</th>\n",
       "      <th>first_freq</th>\n",
       "      <th>last_encoded</th>\n",
       "      <th>last_freq</th>\n",
       "      <th>street_encoded</th>\n",
       "      <th>street_freq</th>\n",
       "      <th>city_encoded</th>\n",
       "      <th>city_freq</th>\n",
       "      <th>job_encoded</th>\n",
       "      <th>job_freq</th>\n",
       "    </tr>\n",
       "  </thead>\n",
       "  <tbody>\n",
       "    <tr>\n",
       "      <th>0</th>\n",
       "      <td>-0.314146</td>\n",
       "      <td>-0.849665</td>\n",
       "      <td>-0.730733</td>\n",
       "      <td>-0.493568</td>\n",
       "      <td>0.635088</td>\n",
       "      <td>-0.285761</td>\n",
       "      <td>-1.755668</td>\n",
       "      <td>-0.502642</td>\n",
       "      <td>0.572527</td>\n",
       "      <td>-0.748980</td>\n",
       "      <td>...</td>\n",
       "      <td>-0.081514</td>\n",
       "      <td>1.395395</td>\n",
       "      <td>-0.301663</td>\n",
       "      <td>-0.634622</td>\n",
       "      <td>-0.348284</td>\n",
       "      <td>0.578598</td>\n",
       "      <td>-0.335459</td>\n",
       "      <td>0.201721</td>\n",
       "      <td>-0.255531</td>\n",
       "      <td>-0.059194</td>\n",
       "    </tr>\n",
       "    <tr>\n",
       "      <th>1</th>\n",
       "      <td>-0.316236</td>\n",
       "      <td>-0.553411</td>\n",
       "      <td>1.873809</td>\n",
       "      <td>2.008165</td>\n",
       "      <td>-2.005238</td>\n",
       "      <td>-0.296425</td>\n",
       "      <td>-1.755666</td>\n",
       "      <td>2.048246</td>\n",
       "      <td>-2.001306</td>\n",
       "      <td>-0.015091</td>\n",
       "      <td>...</td>\n",
       "      <td>-0.201122</td>\n",
       "      <td>0.425288</td>\n",
       "      <td>-0.227250</td>\n",
       "      <td>-0.472387</td>\n",
       "      <td>-0.348284</td>\n",
       "      <td>1.795535</td>\n",
       "      <td>-0.335459</td>\n",
       "      <td>1.620086</td>\n",
       "      <td>-0.243193</td>\n",
       "      <td>0.686028</td>\n",
       "    </tr>\n",
       "    <tr>\n",
       "      <th>2</th>\n",
       "      <td>-0.316207</td>\n",
       "      <td>-0.226389</td>\n",
       "      <td>1.286156</td>\n",
       "      <td>0.698217</td>\n",
       "      <td>-1.581124</td>\n",
       "      <td>-0.283660</td>\n",
       "      <td>-1.755666</td>\n",
       "      <td>0.882526</td>\n",
       "      <td>-1.571696</td>\n",
       "      <td>1.583852</td>\n",
       "      <td>...</td>\n",
       "      <td>-0.274487</td>\n",
       "      <td>-0.747764</td>\n",
       "      <td>-0.054028</td>\n",
       "      <td>0.176073</td>\n",
       "      <td>-0.348284</td>\n",
       "      <td>-1.273525</td>\n",
       "      <td>-0.335459</td>\n",
       "      <td>-1.224123</td>\n",
       "      <td>0.115153</td>\n",
       "      <td>-1.514150</td>\n",
       "    </tr>\n",
       "  </tbody>\n",
       "</table>\n",
       "<p>3 rows × 31 columns</p>\n",
       "</div>"
      ]
     },
     "execution_count": 13,
     "metadata": {},
     "output_type": "execute_result"
    }
   ],
   "execution_count": 13
  },
  {
   "metadata": {},
   "cell_type": "markdown",
   "source": "### Create the actual datasets."
  },
  {
   "metadata": {
    "ExecuteTime": {
     "end_time": "2024-12-06T18:48:35.739153Z",
     "start_time": "2024-12-06T18:48:34.819456Z"
    }
   },
   "cell_type": "code",
   "source": [
    "# These are the new datasets\n",
    "X_data = pd.concat([X_continous_scaled, X_smote_discontinous], axis=1)\n",
    "y_data = copy.copy(y_smote)"
   ],
   "outputs": [],
   "execution_count": 13
  },
  {
   "metadata": {
    "ExecuteTime": {
     "end_time": "2024-12-06T18:48:35.862641Z",
     "start_time": "2024-12-06T18:48:35.849308Z"
    }
   },
   "cell_type": "code",
   "source": [
    "# Print the shapes\n",
    "print(X_data.shape)\n",
    "print(y_data.shape)"
   ],
   "outputs": [
    {
     "name": "stdout",
     "output_type": "stream",
     "text": [
      "(2578338, 95)\n",
      "(2578338,)\n"
     ]
    }
   ],
   "execution_count": 14
  },
  {
   "cell_type": "markdown",
   "metadata": {},
   "source": [
    "### Initialize the following classifiers\n",
    "Now we will initialize each of the classifiers, and perform cross validation to obtain all the different metrics."
   ]
  },
  {
   "metadata": {
    "ExecuteTime": {
     "end_time": "2024-12-06T19:30:07.454013Z",
     "start_time": "2024-12-06T19:30:07.437002Z"
    }
   },
   "cell_type": "code",
   "source": [
    "# Import libraries for the classifiers\n",
    "from sklearn.model_selection import train_test_split\n",
    "from sklearn.linear_model import LogisticRegression\n",
    "from sklearn.tree import DecisionTreeClassifier\n",
    "from sklearn.svm import LinearSVC\n",
    "from sklearn.metrics import accuracy_score, f1_score, precision_score, recall_score\n",
    "import torch\n",
    "import torch.nn as nn\n",
    "import torch.optim as optim\n",
    "from torch.utils.data import DataLoader, TensorDataset\n",
    "import numpy as np"
   ],
   "outputs": [],
   "execution_count": 21
  },
  {
   "metadata": {
    "ExecuteTime": {
     "end_time": "2024-12-06T19:30:08.663715Z",
     "start_time": "2024-12-06T19:30:08.656715Z"
    }
   },
   "cell_type": "code",
   "source": [
    "# LSTM Model class\n",
    "class LSTMModel:\n",
    "    def __init__(self, input_shape, epochs=20, batch_size=64, learning_rate=0.001, patience=2):\n",
    "        self.input_shape = input_shape\n",
    "        self.epochs = epochs\n",
    "        self.batch_size = batch_size\n",
    "        self.learning_rate = learning_rate\n",
    "        self.patience = patience\n",
    "\n",
    "        # Use GPU if available, otherwise fallback to CPU\n",
    "        self.device = torch.device('cuda' if torch.cuda.is_available() else 'cpu')\n",
    "\n",
    "        # Initialize the LSTM model\n",
    "        self.model = LSTMNet(input_size=input_shape[1], hidden_size=32, output_size=1).to(self.device)\n",
    "        self.criterion = nn.BCELoss()\n",
    "        self.optimizer = optim.Adam(self.model.parameters(), lr=learning_rate)\n",
    "\n",
    "    def prepare_data(self, X, y):\n",
    "        if isinstance(X, (pd.DataFrame, pd.Series)):\n",
    "            X = X.to_numpy()\n",
    "        if isinstance(y, (pd.DataFrame, pd.Series)):\n",
    "            y = y.to_numpy()\n",
    "\n",
    "        # Convert data to tensors (remain on CPU initially)\n",
    "        X_tensor = torch.tensor(X, dtype=torch.float32).unsqueeze(2)\n",
    "        y_tensor = torch.tensor(y, dtype=torch.float32).unsqueeze(1)\n",
    "\n",
    "        # Create DataLoader\n",
    "        dataset = TensorDataset(X_tensor, y_tensor)\n",
    "        dataloader = DataLoader(dataset, batch_size=self.batch_size, shuffle=True)\n",
    "\n",
    "        return dataloader\n",
    "\n",
    "    def fit(self, dataloader):\n",
    "        for epoch in range(self.epochs):\n",
    "            self.model.train()\n",
    "            epoch_loss = 0\n",
    "            for X_batch, y_batch in dataloader:\n",
    "                # Move batch to GPU\n",
    "                X_batch, y_batch = X_batch.to(self.device), y_batch.to(self.device)\n",
    "\n",
    "                # Zero gradients\n",
    "                self.optimizer.zero_grad()\n",
    "\n",
    "                # Forward pass\n",
    "                outputs = self.model(X_batch).squeeze()\n",
    "                loss = self.criterion(outputs, y_batch.squeeze())\n",
    "\n",
    "                # Backward pass and optimization\n",
    "                loss.backward()\n",
    "                self.optimizer.step()\n",
    "\n",
    "                epoch_loss += loss.item()\n",
    "\n",
    "            # Print training loss for the epoch\n",
    "            print(f\"Epoch {epoch + 1}/{self.epochs}, Training Loss: {epoch_loss:.4f}\")\n",
    "\n",
    "            # Clear GPU memory after each epoch\n",
    "            torch.cuda.empty_cache()\n",
    "\n",
    "        return self\n",
    "\n",
    "\n",
    "    def predict(self, X, batch_size=None):\n",
    "        if isinstance(X, (pd.DataFrame, pd.Series)):\n",
    "            X = X.to_numpy()\n",
    "\n",
    "        # Convert data to tensor\n",
    "        X_tensor = torch.tensor(X, dtype=torch.float32).unsqueeze(2)  # Keep on CPU initially\n",
    "\n",
    "        self.model.eval()  # Set the model to evaluation mode\n",
    "        predictions = []\n",
    "\n",
    "        with torch.no_grad():\n",
    "            # Batch the data if batch_size is specified\n",
    "            if batch_size is None:\n",
    "                batch_size = self.batch_size\n",
    "\n",
    "            for i in range(0, X_tensor.size(0), batch_size):\n",
    "                # Process batch by batch\n",
    "                batch = X_tensor[i:i + batch_size].to(self.device)\n",
    "                batch_predictions = self.model(batch).squeeze().cpu().numpy()\n",
    "                predictions.extend(batch_predictions)\n",
    "\n",
    "        # Convert to binary predictions\n",
    "        return (np.array(predictions) > 0.5).astype(int)\n",
    "\n",
    "\n",
    "\n",
    "class LSTMNet(nn.Module):\n",
    "    def __init__(self, input_size, hidden_size, output_size):\n",
    "        super(LSTMNet, self).__init__()\n",
    "        self.lstm = nn.LSTM(input_size, hidden_size, batch_first=True)\n",
    "        self.fc = nn.Linear(hidden_size, output_size)\n",
    "        self.sigmoid = nn.Sigmoid()\n",
    "\n",
    "    def forward(self, x):\n",
    "        # LSTM forward pass\n",
    "        lstm_out, _ = self.lstm(x)\n",
    "        # Use the last hidden state for classification\n",
    "        last_hidden = lstm_out[:, -1, :]\n",
    "        output = self.fc(last_hidden)\n",
    "        return self.sigmoid(output)\n"
   ],
   "outputs": [],
   "execution_count": 22
  },
  {
   "metadata": {
    "ExecuteTime": {
     "end_time": "2024-12-06T23:48:35.405937Z",
     "start_time": "2024-12-06T23:48:35.391936Z"
    }
   },
   "cell_type": "code",
   "source": [
    "ml_classifiers = {\n",
    "    \"Logistic Regression\": LogisticRegression(random_state=42, max_iter=1000),\n",
    "    \"Decision Tree Classifier\": DecisionTreeClassifier(random_state=42),\n",
    "    \"Linear Support Vector Machine\": LinearSVC(C=1.0, max_iter=1000),\n",
    "    \"LSTM Classifier\": LSTMModel(input_shape=(X_data.shape[1], 1), epochs=20, batch_size=128, learning_rate=0.001)\n",
    "}"
   ],
   "outputs": [],
   "execution_count": 61
  },
  {
   "metadata": {},
   "cell_type": "markdown",
   "source": [
    "### Split the data\n",
    "We would like to perform the following:\n",
    "1. Split our data into train_validation and test; we would hold the test dataset for a final analysis.\n",
    "2. Perform cross validation using train_validation; and perform shuffled folds to see its accuracies.\n",
    "3. Keep the saved cross val scores; for later analysis."
   ]
  },
  {
   "metadata": {
    "ExecuteTime": {
     "end_time": "2024-12-06T22:51:49.064507Z",
     "start_time": "2024-12-06T22:51:46.777916Z"
    }
   },
   "cell_type": "code",
   "source": [
    "# Obtain the data into train_val and test\n",
    "x_train_val, x_test, y_train_val, y_test = train_test_split(X_data, y_data,\n",
    "    test_size=0.2, shuffle=True, random_state=42)\n",
    "print(x_train_val.shape)\n",
    "print(x_test.shape)\n",
    "print(y_train_val.shape)\n",
    "print(y_test.shape)"
   ],
   "outputs": [
    {
     "name": "stdout",
     "output_type": "stream",
     "text": [
      "(2062670, 95)\n",
      "(515668, 95)\n",
      "(2062670,)\n",
      "(515668,)\n"
     ]
    }
   ],
   "execution_count": 56
  },
  {
   "cell_type": "markdown",
   "metadata": {},
   "source": [
    "### Perform Cross validation for all ML algorithms\n",
    "Perform cross validation for each of the ML algorithms, to obtain its results."
   ]
  },
  {
   "metadata": {
    "ExecuteTime": {
     "end_time": "2024-12-06T23:45:17.616980Z",
     "start_time": "2024-12-06T22:51:50.751652Z"
    }
   },
   "cell_type": "code",
   "source": [
    "# Create the holders for each metrics\n",
    "ml_metrics = {}\n",
    "\n",
    "for name, clf in ml_classifiers.items():\n",
    "    print(f\"\\n==========={name}============ Starting\")\n",
    "    # Initialize variables for each metric\n",
    "    accuracies = []\n",
    "    precisions = []\n",
    "    recalls = []\n",
    "    f1_scores = []\n",
    "\n",
    "    # Perform 20 loops for all classifiers\n",
    "    for i in range(20):\n",
    "        print(f\"Iteration: {i} - {name}\")\n",
    "        # Call the train-test split\n",
    "        x_train, x_val, y_train, y_val = train_test_split(x_train_val, y_train_val, shuffle=True)\n",
    "\n",
    "        if name == \"LSTM Classifier\":\n",
    "            # Prepare the DataLoader for training\n",
    "            dataloader = clf.prepare_data(x_train, y_train)\n",
    "\n",
    "            # Train the LSTM model\n",
    "            clf.fit(dataloader)\n",
    "\n",
    "            # Predict using batched prediction\n",
    "            y_pred = clf.predict(x_val, batch_size=128)\n",
    "        else:\n",
    "            # Train and predict for other classifiers\n",
    "            clf.fit(x_train, y_train)\n",
    "            y_pred = clf.predict(x_val)\n",
    "\n",
    "        # Calculate and append metrics\n",
    "        accuracies.append(accuracy_score(y_val, y_pred))\n",
    "        precisions.append(precision_score(y_val, y_pred))\n",
    "        recalls.append(recall_score(y_val, y_pred))\n",
    "        f1_scores.append(f1_score(y_val, y_pred))\n",
    "\n",
    "    # Store metrics for the classifier\n",
    "    ml_metrics[name + \"_accuracies\"] = accuracies\n",
    "    ml_metrics[name + \"_precisions\"] = precisions\n",
    "    ml_metrics[name + \"_recalls\"] = recalls\n",
    "    ml_metrics[name + \"_f1_scores\"] = f1_scores\n",
    "\n",
    "    # Save metrics to a CSV file\n",
    "    df_results = pd.DataFrame(ml_metrics)\n",
    "    df_results.to_csv(f'my_data_{name.replace(\" \", \"_\")}.csv', index=False)\n",
    "    print(f\"\\n==========={name}============ Ending\")\n",
    "\n"
   ],
   "outputs": [
    {
     "name": "stdout",
     "output_type": "stream",
     "text": [
      "\n",
      "===========Decision Tree Classifier============ Starting\n",
      "Iteration: 0 - Decision Tree Classifier\n",
      "Iteration: 1 - Decision Tree Classifier\n",
      "Iteration: 2 - Decision Tree Classifier\n",
      "Iteration: 3 - Decision Tree Classifier\n",
      "Iteration: 4 - Decision Tree Classifier\n",
      "Iteration: 5 - Decision Tree Classifier\n",
      "Iteration: 6 - Decision Tree Classifier\n",
      "Iteration: 7 - Decision Tree Classifier\n",
      "Iteration: 8 - Decision Tree Classifier\n",
      "Iteration: 9 - Decision Tree Classifier\n",
      "Iteration: 10 - Decision Tree Classifier\n",
      "Iteration: 11 - Decision Tree Classifier\n",
      "Iteration: 12 - Decision Tree Classifier\n",
      "Iteration: 13 - Decision Tree Classifier\n",
      "Iteration: 14 - Decision Tree Classifier\n",
      "Iteration: 15 - Decision Tree Classifier\n",
      "Iteration: 16 - Decision Tree Classifier\n",
      "Iteration: 17 - Decision Tree Classifier\n",
      "Iteration: 18 - Decision Tree Classifier\n",
      "Iteration: 19 - Decision Tree Classifier\n",
      "\n",
      "===========Decision Tree Classifier============ Ending\n",
      "\n",
      "===========Linear Support Vector Machine============ Starting\n",
      "Iteration: 0 - Linear Support Vector Machine\n",
      "Iteration: 1 - Linear Support Vector Machine\n",
      "Iteration: 2 - Linear Support Vector Machine\n",
      "Iteration: 3 - Linear Support Vector Machine\n",
      "Iteration: 4 - Linear Support Vector Machine\n",
      "Iteration: 5 - Linear Support Vector Machine\n",
      "Iteration: 6 - Linear Support Vector Machine\n",
      "Iteration: 7 - Linear Support Vector Machine\n",
      "Iteration: 8 - Linear Support Vector Machine\n",
      "Iteration: 9 - Linear Support Vector Machine\n",
      "Iteration: 10 - Linear Support Vector Machine\n",
      "Iteration: 11 - Linear Support Vector Machine\n",
      "Iteration: 12 - Linear Support Vector Machine\n",
      "Iteration: 13 - Linear Support Vector Machine\n",
      "Iteration: 14 - Linear Support Vector Machine\n",
      "Iteration: 15 - Linear Support Vector Machine\n",
      "Iteration: 16 - Linear Support Vector Machine\n",
      "Iteration: 17 - Linear Support Vector Machine\n",
      "Iteration: 18 - Linear Support Vector Machine\n",
      "Iteration: 19 - Linear Support Vector Machine\n",
      "\n",
      "===========Linear Support Vector Machine============ Ending\n"
     ]
    }
   ],
   "execution_count": 57
  },
  {
   "cell_type": "markdown",
   "metadata": {},
   "source": [
    "# Data Visualization\n",
    "\n",
    "Now that we have finally got the cross validation metrics, we will perform the last steps in order to see the different results of each of the ML models. This would be illustrated as:\n",
    "\n",
    "1. Plot bar plot of accuracies, precision, recall, and f1 score for cross validation metrics of each of the models.\n",
    "\n",
    "2. Next; after having the cross validation metrics; we previously have isolated a part of the data as test set. We are going to train a final model for each ML classifier, and obtain the test metrics as well. With these test and cross validation metrics; we are going to perform the following:\n",
    "3. Plot bar plot of accuracies, precision, recall, and f1 score for test metrics of each of the models.\n",
    "4. Generate confusion matrices for each of the test final models.\n",
    "5. Create ROC curves for all models and overlay for comparison"
   ]
  },
  {
   "metadata": {
    "ExecuteTime": {
     "end_time": "2024-12-06T23:48:40.484446Z",
     "start_time": "2024-12-06T23:48:40.471439Z"
    }
   },
   "cell_type": "code",
   "source": [
    "from typing import List\n",
    "import pandas as pd\n",
    "\n",
    "def read_df_data(clfs_names: List[str]) -> pd.DataFrame:\n",
    "    # Create a holder to store the data\n",
    "    actual_data = {}\n",
    "\n",
    "    for name in clfs_names:\n",
    "        # Read the dataframe\n",
    "        df_data = pd.read_csv(\"my_data_\" + name.replace(\" \", \"_\") + \".csv\")\n",
    "\n",
    "        # Assign it to the actual data properly\n",
    "        actual_data[name + \"_accuracies\"] = df_data[name + \"_accuracies\"].to_numpy()\n",
    "        actual_data[name + \"_precisions\"] = df_data[name + \"_precisions\"].to_numpy()\n",
    "        actual_data[name + \"_recalls\"] = df_data[name + \"_recalls\"].to_numpy()\n",
    "        actual_data[name + \"_f1_scores\"] = df_data[name + \"_f1_scores\"].to_numpy()\n",
    "\n",
    "    # Convert the dictionary to a DataFrame and return\n",
    "    return pd.DataFrame(actual_data)\n"
   ],
   "outputs": [],
   "execution_count": 62
  },
  {
   "metadata": {
    "ExecuteTime": {
     "end_time": "2024-12-06T23:50:24.949095Z",
     "start_time": "2024-12-06T23:50:24.930096Z"
    }
   },
   "cell_type": "code",
   "source": [
    "# Get the cross validation metrics\n",
    "df_cross_val_metrics = read_df_data(clfs_names=ml_classifiers.keys())\n",
    "\n",
    "print(ml_classifiers.keys())\n"
   ],
   "outputs": [
    {
     "name": "stdout",
     "output_type": "stream",
     "text": [
      "dict_keys(['Logistic Regression', 'Decision Tree Classifier', 'Linear Support Vector Machine', 'LSTM Classifier'])\n"
     ]
    }
   ],
   "execution_count": 69
  },
  {
   "metadata": {
    "ExecuteTime": {
     "end_time": "2024-12-06T23:50:28.117600Z",
     "start_time": "2024-12-06T23:50:28.099599Z"
    }
   },
   "cell_type": "code",
   "source": "df_cross_val_metrics.columns",
   "outputs": [
    {
     "data": {
      "text/plain": [
       "Index(['Logistic Regression_accuracies', 'Logistic Regression_precisions',\n",
       "       'Logistic Regression_recalls', 'Logistic Regression_f1_scores',\n",
       "       'Decision Tree Classifier_accuracies',\n",
       "       'Decision Tree Classifier_precisions',\n",
       "       'Decision Tree Classifier_recalls',\n",
       "       'Decision Tree Classifier_f1_scores',\n",
       "       'Linear Support Vector Machine_accuracies',\n",
       "       'Linear Support Vector Machine_precisions',\n",
       "       'Linear Support Vector Machine_recalls',\n",
       "       'Linear Support Vector Machine_f1_scores', 'LSTM Classifier_accuracies',\n",
       "       'LSTM Classifier_precisions', 'LSTM Classifier_recalls',\n",
       "       'LSTM Classifier_f1_scores'],\n",
       "      dtype='object')"
      ]
     },
     "execution_count": 70,
     "metadata": {},
     "output_type": "execute_result"
    }
   ],
   "execution_count": 70
  },
  {
   "cell_type": "code",
   "metadata": {
    "ExecuteTime": {
     "end_time": "2024-12-06T23:50:29.935151Z",
     "start_time": "2024-12-06T23:50:29.928152Z"
    }
   },
   "source": [
    "df_cross_val_metrics.head(2)"
   ],
   "outputs": [
    {
     "data": {
      "text/plain": [
       "   Logistic Regression_accuracies  Logistic Regression_precisions  \\\n",
       "0                        0.899687                        0.928379   \n",
       "1                        0.900054                        0.928668   \n",
       "\n",
       "   Logistic Regression_recalls  Logistic Regression_f1_scores  \\\n",
       "0                     0.866063                       0.896139   \n",
       "1                     0.866486                       0.896500   \n",
       "\n",
       "   Decision Tree Classifier_accuracies  Decision Tree Classifier_precisions  \\\n",
       "0                             0.998383                             0.997545   \n",
       "1                             0.998577                             0.997847   \n",
       "\n",
       "   Decision Tree Classifier_recalls  Decision Tree Classifier_f1_scores  \\\n",
       "0                          0.999229                            0.998386   \n",
       "1                          0.999304                            0.998575   \n",
       "\n",
       "   Linear Support Vector Machine_accuracies  \\\n",
       "0                                  0.885188   \n",
       "1                                  0.886615   \n",
       "\n",
       "   Linear Support Vector Machine_precisions  \\\n",
       "0                                  0.921258   \n",
       "1                                  0.923331   \n",
       "\n",
       "   Linear Support Vector Machine_recalls  \\\n",
       "0                               0.842407   \n",
       "1                               0.843605   \n",
       "\n",
       "   Linear Support Vector Machine_f1_scores  LSTM Classifier_accuracies  \\\n",
       "0                                  0.88007                    0.985882   \n",
       "1                                  0.88167                    0.983720   \n",
       "\n",
       "   LSTM Classifier_precisions  LSTM Classifier_recalls  \\\n",
       "0                    0.983947                 0.987838   \n",
       "1                    0.981556                 0.985934   \n",
       "\n",
       "   LSTM Classifier_f1_scores  \n",
       "0                   0.985889  \n",
       "1                   0.983740  "
      ],
      "text/html": [
       "<div>\n",
       "<style scoped>\n",
       "    .dataframe tbody tr th:only-of-type {\n",
       "        vertical-align: middle;\n",
       "    }\n",
       "\n",
       "    .dataframe tbody tr th {\n",
       "        vertical-align: top;\n",
       "    }\n",
       "\n",
       "    .dataframe thead th {\n",
       "        text-align: right;\n",
       "    }\n",
       "</style>\n",
       "<table border=\"1\" class=\"dataframe\">\n",
       "  <thead>\n",
       "    <tr style=\"text-align: right;\">\n",
       "      <th></th>\n",
       "      <th>Logistic Regression_accuracies</th>\n",
       "      <th>Logistic Regression_precisions</th>\n",
       "      <th>Logistic Regression_recalls</th>\n",
       "      <th>Logistic Regression_f1_scores</th>\n",
       "      <th>Decision Tree Classifier_accuracies</th>\n",
       "      <th>Decision Tree Classifier_precisions</th>\n",
       "      <th>Decision Tree Classifier_recalls</th>\n",
       "      <th>Decision Tree Classifier_f1_scores</th>\n",
       "      <th>Linear Support Vector Machine_accuracies</th>\n",
       "      <th>Linear Support Vector Machine_precisions</th>\n",
       "      <th>Linear Support Vector Machine_recalls</th>\n",
       "      <th>Linear Support Vector Machine_f1_scores</th>\n",
       "      <th>LSTM Classifier_accuracies</th>\n",
       "      <th>LSTM Classifier_precisions</th>\n",
       "      <th>LSTM Classifier_recalls</th>\n",
       "      <th>LSTM Classifier_f1_scores</th>\n",
       "    </tr>\n",
       "  </thead>\n",
       "  <tbody>\n",
       "    <tr>\n",
       "      <th>0</th>\n",
       "      <td>0.899687</td>\n",
       "      <td>0.928379</td>\n",
       "      <td>0.866063</td>\n",
       "      <td>0.896139</td>\n",
       "      <td>0.998383</td>\n",
       "      <td>0.997545</td>\n",
       "      <td>0.999229</td>\n",
       "      <td>0.998386</td>\n",
       "      <td>0.885188</td>\n",
       "      <td>0.921258</td>\n",
       "      <td>0.842407</td>\n",
       "      <td>0.88007</td>\n",
       "      <td>0.985882</td>\n",
       "      <td>0.983947</td>\n",
       "      <td>0.987838</td>\n",
       "      <td>0.985889</td>\n",
       "    </tr>\n",
       "    <tr>\n",
       "      <th>1</th>\n",
       "      <td>0.900054</td>\n",
       "      <td>0.928668</td>\n",
       "      <td>0.866486</td>\n",
       "      <td>0.896500</td>\n",
       "      <td>0.998577</td>\n",
       "      <td>0.997847</td>\n",
       "      <td>0.999304</td>\n",
       "      <td>0.998575</td>\n",
       "      <td>0.886615</td>\n",
       "      <td>0.923331</td>\n",
       "      <td>0.843605</td>\n",
       "      <td>0.88167</td>\n",
       "      <td>0.983720</td>\n",
       "      <td>0.981556</td>\n",
       "      <td>0.985934</td>\n",
       "      <td>0.983740</td>\n",
       "    </tr>\n",
       "  </tbody>\n",
       "</table>\n",
       "</div>"
      ]
     },
     "execution_count": 71,
     "metadata": {},
     "output_type": "execute_result"
    }
   ],
   "execution_count": 71
  },
  {
   "cell_type": "markdown",
   "metadata": {},
   "source": "### Plot the cross validation bar plots"
  },
  {
   "metadata": {
    "ExecuteTime": {
     "end_time": "2024-12-06T23:51:41.189431Z",
     "start_time": "2024-12-06T23:51:41.179421Z"
    }
   },
   "cell_type": "code",
   "source": [
    "# Create two lists for a new dataframe, models and metrics\n",
    "models = ml_classifiers.keys()\n",
    "metrics = [\"accuracies\", \"precisions\", \"recalls\", \"f1_scores\"]\n",
    "\n",
    "# Conduct a df plot cross val\n",
    "plot_cross_val = []\n",
    "for model in models:\n",
    "    model_data = [df_cross_val_metrics[f\"{model}_{metric}\"].mean() for metric in metrics]\n",
    "    plot_cross_val.append(model_data)\n",
    "\n",
    "# Convert to a Pandas DataFrame for plotting\n",
    "df_plot_cross_val = pd.DataFrame(plot_cross_val, columns=metrics, index=models)"
   ],
   "outputs": [],
   "execution_count": 74
  },
  {
   "metadata": {
    "ExecuteTime": {
     "end_time": "2024-12-06T23:51:43.424707Z",
     "start_time": "2024-12-06T23:51:43.414700Z"
    }
   },
   "cell_type": "code",
   "source": "df_plot_cross_val.head(4)",
   "outputs": [
    {
     "data": {
      "text/plain": [
       "                               accuracies  precisions   recalls  f1_scores\n",
       "Logistic Regression              0.899731    0.928143  0.866465   0.896244\n",
       "Decision Tree Classifier         0.998446    0.997683  0.999211   0.998446\n",
       "Linear Support Vector Machine    0.885423    0.920999  0.842967   0.880257\n",
       "LSTM Classifier                  0.820299    0.843698  0.798809   0.808898"
      ],
      "text/html": [
       "<div>\n",
       "<style scoped>\n",
       "    .dataframe tbody tr th:only-of-type {\n",
       "        vertical-align: middle;\n",
       "    }\n",
       "\n",
       "    .dataframe tbody tr th {\n",
       "        vertical-align: top;\n",
       "    }\n",
       "\n",
       "    .dataframe thead th {\n",
       "        text-align: right;\n",
       "    }\n",
       "</style>\n",
       "<table border=\"1\" class=\"dataframe\">\n",
       "  <thead>\n",
       "    <tr style=\"text-align: right;\">\n",
       "      <th></th>\n",
       "      <th>accuracies</th>\n",
       "      <th>precisions</th>\n",
       "      <th>recalls</th>\n",
       "      <th>f1_scores</th>\n",
       "    </tr>\n",
       "  </thead>\n",
       "  <tbody>\n",
       "    <tr>\n",
       "      <th>Logistic Regression</th>\n",
       "      <td>0.899731</td>\n",
       "      <td>0.928143</td>\n",
       "      <td>0.866465</td>\n",
       "      <td>0.896244</td>\n",
       "    </tr>\n",
       "    <tr>\n",
       "      <th>Decision Tree Classifier</th>\n",
       "      <td>0.998446</td>\n",
       "      <td>0.997683</td>\n",
       "      <td>0.999211</td>\n",
       "      <td>0.998446</td>\n",
       "    </tr>\n",
       "    <tr>\n",
       "      <th>Linear Support Vector Machine</th>\n",
       "      <td>0.885423</td>\n",
       "      <td>0.920999</td>\n",
       "      <td>0.842967</td>\n",
       "      <td>0.880257</td>\n",
       "    </tr>\n",
       "    <tr>\n",
       "      <th>LSTM Classifier</th>\n",
       "      <td>0.820299</td>\n",
       "      <td>0.843698</td>\n",
       "      <td>0.798809</td>\n",
       "      <td>0.808898</td>\n",
       "    </tr>\n",
       "  </tbody>\n",
       "</table>\n",
       "</div>"
      ]
     },
     "execution_count": 75,
     "metadata": {},
     "output_type": "execute_result"
    }
   ],
   "execution_count": 75
  },
  {
   "cell_type": "markdown",
   "metadata": {},
   "source": [
    "### Plot the bar graph of cross val metrics"
   ]
  },
  {
   "metadata": {
    "ExecuteTime": {
     "end_time": "2024-12-07T00:23:10.400967Z",
     "start_time": "2024-12-07T00:23:10.277527Z"
    }
   },
   "cell_type": "code",
   "source": [
    "fig, axs = plt.subplots(1, figsize = (12, 6))\n",
    "df_plot_cross_val.T.plot(ax=axs, kind=\"bar\", legend=True, width = 0.8)\n",
    "\n",
    "# Rotate x-axis ticks\n",
    "axs.set_xticklabels(axs.get_xticklabels(), rotation=90, fontsize=10)\n",
    "\n",
    "# Annotate bar values\n",
    "for container in axs.containers:\n",
    "    axs.bar_label(container, fmt='%.4f', fontsize=10, padding=3)\n",
    "\n",
    "axs.set_ylim(0.70, 1.01)"
   ],
   "outputs": [
    {
     "data": {
      "text/plain": [
       "(0.7, 1.01)"
      ]
     },
     "execution_count": 103,
     "metadata": {},
     "output_type": "execute_result"
    },
    {
     "data": {
      "text/plain": [
       "<Figure size 1200x600 with 1 Axes>"
      ],
      "image/png": "[encoded data removed]"
     },
     "metadata": {},
     "output_type": "display_data"
    }
   ],
   "execution_count": 103
  },
  {
   "metadata": {},
   "cell_type": "markdown",
   "source": [
    "### Train the final test models!\n",
    "Even though its obvious the decision tree classifier is the best model between all the ML models; now we will perform the final test models and retrieve the metrics for each of them."
   ]
  },
  {
   "metadata": {
    "ExecuteTime": {
     "end_time": "2024-12-07T00:39:30.056446Z",
     "start_time": "2024-12-07T00:24:07.550100Z"
    }
   },
   "cell_type": "code",
   "source": [
    "from sklearn.metrics import accuracy_score, precision_score, recall_score, f1_score, classification_report, confusion_matrix, roc_auc_score\n",
    "\n",
    "# Create the holders for metrics\n",
    "test_metrics = []\n",
    "conf_matrices = []\n",
    "class_reports = []\n",
    "roc_auc_scores = []\n",
    "\n",
    "for name, clf in ml_classifiers.items():\n",
    "    print(f\"\\n==========={name}============ Starting\")\n",
    "\n",
    "    if name == \"LSTM Classifier\":\n",
    "        # Prepare the DataLoader for LSTM\n",
    "        dataloader = clf.prepare_data(x_train_val, y_train_val)\n",
    "\n",
    "        # Train the LSTM model\n",
    "        clf.fit(dataloader)\n",
    "\n",
    "        # Use batched prediction to avoid memory issues\n",
    "        y_pred = clf.predict(x_test, batch_size=128)\n",
    "    else:\n",
    "        # Train other classifiers\n",
    "        clf.fit(x_train_val, y_train_val)\n",
    "        y_pred = clf.predict(x_test)\n",
    "\n",
    "    # Append metrics for the classifier\n",
    "    test_metrics.append({\n",
    "        \"name\": name,\n",
    "        \"accuracy\": accuracy_score(y_test, y_pred),\n",
    "        \"precision\": precision_score(y_test, y_pred),\n",
    "        \"recall\": recall_score(y_test, y_pred),\n",
    "        \"f1_score\": f1_score(y_test, y_pred)\n",
    "    })\n",
    "\n",
    "    # Append confusion matrix directly as an array\n",
    "    conf_matrices.append(confusion_matrix(y_test, y_pred))\n",
    "\n",
    "    # Append classification report and ROC AUC score\n",
    "    class_reports.append(classification_report(y_test, y_pred))\n",
    "    roc_auc_scores.append(roc_auc_score(y_test, y_pred))\n",
    "\n",
    "    print(f\"\\n==========={name}============ Ending\")\n"
   ],
   "outputs": [
    {
     "name": "stdout",
     "output_type": "stream",
     "text": [
      "\n",
      "===========Logistic Regression============ Starting\n",
      "f1_score function: <function f1_score at 0x000002313F944940>\n",
      "\n",
      "===========Logistic Regression============ Ending\n",
      "\n",
      "===========Decision Tree Classifier============ Starting\n",
      "f1_score function: <function f1_score at 0x000002313F944940>\n",
      "\n",
      "===========Decision Tree Classifier============ Ending\n",
      "\n",
      "===========Linear Support Vector Machine============ Starting\n",
      "f1_score function: <function f1_score at 0x000002313F944940>\n",
      "\n",
      "===========Linear Support Vector Machine============ Ending\n",
      "\n",
      "===========LSTM Classifier============ Starting\n",
      "Epoch 1/20, Training Loss: 11085.0871\n",
      "Epoch 2/20, Training Loss: 11148.0607\n",
      "Epoch 3/20, Training Loss: 10789.4511\n",
      "Epoch 4/20, Training Loss: 11140.6440\n",
      "Epoch 5/20, Training Loss: 9604.2960\n",
      "Epoch 6/20, Training Loss: 9868.3108\n",
      "Epoch 7/20, Training Loss: 10904.3046\n",
      "Epoch 8/20, Training Loss: 10493.4133\n",
      "Epoch 9/20, Training Loss: 9032.9358\n",
      "Epoch 10/20, Training Loss: 10098.9402\n",
      "Epoch 11/20, Training Loss: 9334.2176\n",
      "Epoch 12/20, Training Loss: 5039.9754\n",
      "Epoch 13/20, Training Loss: 4385.0583\n",
      "Epoch 14/20, Training Loss: 3405.2912\n",
      "Epoch 15/20, Training Loss: 4170.5022\n",
      "Epoch 16/20, Training Loss: 3867.5647\n",
      "Epoch 17/20, Training Loss: 1811.2108\n",
      "Epoch 18/20, Training Loss: 1318.6563\n",
      "Epoch 19/20, Training Loss: 1311.0884\n",
      "Epoch 20/20, Training Loss: 1250.6708\n",
      "f1_score function: <function f1_score at 0x000002313F944940>\n",
      "\n",
      "===========LSTM Classifier============ Ending\n"
     ]
    }
   ],
   "execution_count": 104
  },
  {
   "metadata": {
    "ExecuteTime": {
     "end_time": "2024-12-07T00:39:37.009507Z",
     "start_time": "2024-12-07T00:39:37.001508Z"
    }
   },
   "cell_type": "code",
   "source": "print(test_metrics)",
   "outputs": [
    {
     "name": "stdout",
     "output_type": "stream",
     "text": [
      "[{'name': 'Logistic Regression', 'accuracy': 0.9001217837833645, 'precision': np.float64(0.9295361346770044), 'recall': np.float64(0.8664239676263724), 'f1_score': np.float64(0.8968711329678383)}, {'name': 'Decision Tree Classifier', 'accuracy': 0.9987414382897524, 'precision': np.float64(0.9981067411606063), 'recall': np.float64(0.9993848701263531), 'f1_score': np.float64(0.998745396727206)}, {'name': 'Linear Support Vector Machine', 'accuracy': 0.885759829968119, 'precision': np.float64(0.9224962105494915), 'recall': np.float64(0.842909757739417), 'f1_score': np.float64(0.8809090615043746)}, {'name': 'LSTM Classifier', 'accuracy': 0.9769910097194319, 'precision': np.float64(0.9729990985634553), 'recall': np.float64(0.981329454275346), 'f1_score': np.float64(0.9771465222843077)}]\n"
     ]
    }
   ],
   "execution_count": 105
  },
  {
   "metadata": {
    "ExecuteTime": {
     "end_time": "2024-12-07T00:39:38.369167Z",
     "start_time": "2024-12-07T00:39:38.352166Z"
    }
   },
   "cell_type": "code",
   "source": [
    "import numpy as np\n",
    "\n",
    "# Extract the numerical values from test_metrics\n",
    "accuracy = [metric['accuracy'] for metric in test_metrics]\n",
    "precision = [metric['precision'] for metric in test_metrics]\n",
    "recall = [metric['recall'] for metric in test_metrics]\n",
    "f1_score = [metric['f1_score'] for metric in test_metrics]\n",
    "\n",
    "# Combine these into a NumPy array\n",
    "np_test_metrics = np.array([accuracy, precision, recall, f1_score])\n",
    "\n",
    "# Transpose to make each row represent a classifier\n",
    "np_test_metrics = np_test_metrics.T"
   ],
   "outputs": [],
   "execution_count": 106
  },
  {
   "metadata": {
    "ExecuteTime": {
     "end_time": "2024-12-07T00:39:40.316108Z",
     "start_time": "2024-12-07T00:39:40.310102Z"
    }
   },
   "cell_type": "code",
   "source": [
    "print(\"Metrics Array:\")\n",
    "print(np_test_metrics)"
   ],
   "outputs": [
    {
     "name": "stdout",
     "output_type": "stream",
     "text": [
      "Metrics Array:\n",
      "[[0.90012178 0.92953613 0.86642397 0.89687113]\n",
      " [0.99874144 0.99810674 0.99938487 0.9987454 ]\n",
      " [0.88575983 0.92249621 0.84290976 0.88090906]\n",
      " [0.97699101 0.9729991  0.98132945 0.97714652]]\n"
     ]
    }
   ],
   "execution_count": 107
  },
  {
   "cell_type": "code",
   "metadata": {
    "ExecuteTime": {
     "end_time": "2024-12-07T00:39:42.074985Z",
     "start_time": "2024-12-07T00:39:42.062981Z"
    }
   },
   "source": [
    "# Create a dataframe of the model the test metrics\n",
    "df_test_results = pd.DataFrame(np_test_metrics, columns=metrics, index=models)\n",
    "print(df_test_results.head(4))"
   ],
   "outputs": [
    {
     "name": "stdout",
     "output_type": "stream",
     "text": [
      "                               accuracies  precisions   recalls  f1_scores\n",
      "Logistic Regression              0.900122    0.929536  0.866424   0.896871\n",
      "Decision Tree Classifier         0.998741    0.998107  0.999385   0.998745\n",
      "Linear Support Vector Machine    0.885760    0.922496  0.842910   0.880909\n",
      "LSTM Classifier                  0.976991    0.972999  0.981329   0.977147\n"
     ]
    }
   ],
   "execution_count": 108
  },
  {
   "metadata": {
    "ExecuteTime": {
     "end_time": "2024-12-07T00:40:26.493995Z",
     "start_time": "2024-12-07T00:40:26.373487Z"
    }
   },
   "cell_type": "code",
   "source": [
    "fig, axs = plt.subplots(1, figsize = (12, 6))\n",
    "df_test_results.T.plot(ax=axs, kind=\"bar\", legend=True, width = 0.8)\n",
    "\n",
    "# Rotate x-axis ticks\n",
    "axs.set_xticklabels(axs.get_xticklabels(), rotation=90, fontsize=10)\n",
    "\n",
    "# Annotate bar values\n",
    "for container in axs.containers:\n",
    "    axs.bar_label(container, fmt='%.4f', fontsize=10, padding=3)\n",
    "\n",
    "axs.set_ylim(0.10, 1.05)"
   ],
   "outputs": [
    {
     "data": {
      "text/plain": [
       "(0.1, 1.05)"
      ]
     },
     "execution_count": 112,
     "metadata": {},
     "output_type": "execute_result"
    },
    {
     "data": {
      "text/plain": [
       "<Figure size 1200x600 with 1 Axes>"
      ],
      "image/png": "[encoded data removed]"
     },
     "metadata": {},
     "output_type": "display_data"
    }
   ],
   "execution_count": 112
  },
  {
   "metadata": {},
   "cell_type": "markdown",
   "source": "### Print each of the classification reports"
  },
  {
   "metadata": {
    "ExecuteTime": {
     "end_time": "2024-12-07T00:40:40.058951Z",
     "start_time": "2024-12-07T00:40:40.052950Z"
    }
   },
   "cell_type": "code",
   "source": [
    "for i, name in enumerate(ml_classifiers):\n",
    "    print(f\"\\n==========={name}============ class report\")\n",
    "    print(class_reports[i])"
   ],
   "outputs": [
    {
     "name": "stdout",
     "output_type": "stream",
     "text": [
      "\n",
      "===========Logistic Regression============ class report\n",
      "              precision    recall  f1-score   support\n",
      "\n",
      "           0       0.87      0.93      0.90    257186\n",
      "           1       0.93      0.87      0.90    258482\n",
      "\n",
      "    accuracy                           0.90    515668\n",
      "   macro avg       0.90      0.90      0.90    515668\n",
      "weighted avg       0.90      0.90      0.90    515668\n",
      "\n",
      "\n",
      "===========Decision Tree Classifier============ class report\n",
      "              precision    recall  f1-score   support\n",
      "\n",
      "           0       1.00      1.00      1.00    257186\n",
      "           1       1.00      1.00      1.00    258482\n",
      "\n",
      "    accuracy                           1.00    515668\n",
      "   macro avg       1.00      1.00      1.00    515668\n",
      "weighted avg       1.00      1.00      1.00    515668\n",
      "\n",
      "\n",
      "===========Linear Support Vector Machine============ class report\n",
      "              precision    recall  f1-score   support\n",
      "\n",
      "           0       0.85      0.93      0.89    257186\n",
      "           1       0.92      0.84      0.88    258482\n",
      "\n",
      "    accuracy                           0.89    515668\n",
      "   macro avg       0.89      0.89      0.89    515668\n",
      "weighted avg       0.89      0.89      0.89    515668\n",
      "\n",
      "\n",
      "===========LSTM Classifier============ class report\n",
      "              precision    recall  f1-score   support\n",
      "\n",
      "           0       0.98      0.97      0.98    257186\n",
      "           1       0.97      0.98      0.98    258482\n",
      "\n",
      "    accuracy                           0.98    515668\n",
      "   macro avg       0.98      0.98      0.98    515668\n",
      "weighted avg       0.98      0.98      0.98    515668\n",
      "\n"
     ]
    }
   ],
   "execution_count": 113
  },
  {
   "metadata": {},
   "cell_type": "markdown",
   "source": "### Lets lot the confusion matrices now"
  },
  {
   "metadata": {
    "ExecuteTime": {
     "end_time": "2024-12-07T00:41:36.327851Z",
     "start_time": "2024-12-07T00:41:36.098337Z"
    }
   },
   "cell_type": "code",
   "source": [
    "from sklearn.metrics import ConfusionMatrixDisplay\n",
    "import matplotlib.pyplot as plt\n",
    "\n",
    "# Specify class labels (binary classification: [0, 1])\n",
    "class_labels = [0, 1]\n",
    "\n",
    "for i, name in enumerate(ml_classifiers.keys()):\n",
    "    cm = conf_matrices[i]\n",
    "\n",
    "    # Validate the matrix type\n",
    "    if not isinstance(cm, (np.ndarray, list)):\n",
    "        raise ValueError(f\"Expected a confusion matrix array, got {type(cm)}\")\n",
    "\n",
    "    disp = ConfusionMatrixDisplay(confusion_matrix=cm, display_labels=class_labels)\n",
    "    disp.plot()\n",
    "    plt.title(name)\n",
    "    plt.show()"
   ],
   "outputs": [
    {
     "data": {
      "text/plain": [
       "<Figure size 640x480 with 2 Axes>"
      ],
      "image/png": "[encoded data removed]"
     },
     "metadata": {},
     "output_type": "display_data"
    },
    {
     "data": {
      "text/plain": [
       "<Figure size 640x480 with 2 Axes>"
      ],
      "image/png": "[encoded data removed]"
     },
     "metadata": {},
     "output_type": "display_data"
    },
    {
     "data": {
      "text/plain": [
       "<Figure size 640x480 with 2 Axes>"
      ],
      "image/png": "[encoded data removed]"
     },
     "metadata": {},
     "output_type": "display_data"
    },
    {
     "data": {
      "text/plain": [
       "<Figure size 640x480 with 2 Axes>"
      ],
      "image/png": "[encoded data removed]"
     },
     "metadata": {},
     "output_type": "display_data"
    }
   ],
   "execution_count": 114
  },
  {
   "metadata": {},
   "cell_type": "markdown",
   "source": "### Finally, print the ROC auc scores"
  },
  {
   "metadata": {
    "ExecuteTime": {
     "end_time": "2024-12-07T00:42:22.202945Z",
     "start_time": "2024-12-07T00:42:22.199944Z"
    }
   },
   "cell_type": "code",
   "source": [
    "for i, name in enumerate(ml_classifiers):\n",
    "    print(f\"{name} ROC_AUC_Scores: {roc_auc_scores[i]}\")"
   ],
   "outputs": [
    {
     "name": "stdout",
     "output_type": "stream",
     "text": [
      "Logistic Regression ROC_AUC_Scores: 0.9002066880350336\n",
      "Decision Tree Classifier ROC_AUC_Scores: 0.9987398171135214\n",
      "Linear Support Vector Machine ROC_AUC_Scores: 0.885867794036164\n",
      "LSTM Classifier ROC_AUC_Scores: 0.9769800786731376\n"
     ]
    }
   ],
   "execution_count": 115
  }
 ],
 "metadata": {
  "kernelspec": {
   "display_name": "venv",
   "language": "python",
   "name": "python3"
  },
  "language_info": {
   "codemirror_mode": {
    "name": "ipython",
    "version": 3
   },
   "file_extension": ".py",
   "mimetype": "text/x-python",
   "name": "python",
   "nbconvert_exporter": "python",
   "pygments_lexer": "ipython3",
   "version": "3.12.5"
  }
 },
 "nbformat": 4,
 "nbformat_minor": 2
}
