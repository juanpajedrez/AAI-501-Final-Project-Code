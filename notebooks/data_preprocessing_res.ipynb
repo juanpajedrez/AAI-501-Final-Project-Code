{
 "cells": [
  {
   "cell_type": "markdown",
   "metadata": {},
   "source": [
    "# Data preprocessing\n",
    "In this jupyter notebook, the following would be done:\n",
    "1. Load the dataset\n",
    "2. Get the dataset info, and see if there are any empty cells\n",
    "3. Encode any categorical features into numbers"
   ]
  },
  {
   "cell_type": "code",
   "execution_count": 1,
   "metadata": {},
   "outputs": [],
   "source": [
    "import pandas as pd\n",
    "import os\n",
    "import copy"
   ]
  },
  {
   "cell_type": "markdown",
   "metadata": {},
   "source": [
    "### Load the dataset"
   ]
  },
  {
   "cell_type": "code",
   "execution_count": 2,
   "metadata": {},
   "outputs": [
    {
     "name": "stdout",
     "output_type": "stream",
     "text": [
      "True\n"
     ]
    }
   ],
   "source": [
    "#Get the data path\n",
    "data_path = os.path.join(os.getcwd(), os.pardir, \"data\", \"credit_card_transactions.csv\")\n",
    "\n",
    "#Lets check that the path is working\n",
    "print(os.path.exists(data_path))"
   ]
  },
  {
   "cell_type": "code",
   "execution_count": 3,
   "metadata": {},
   "outputs": [],
   "source": [
    "#Obtain the dataset\n",
    "df_data = pd.read_csv(data_path)"
   ]
  },
  {
   "cell_type": "code",
   "execution_count": 4,
   "metadata": {},
   "outputs": [
    {
     "name": "stdout",
     "output_type": "stream",
     "text": [
      "Index(['Unnamed: 0', 'trans_date_trans_time', 'cc_num', 'merchant', 'category',\n",
      "       'amt', 'first', 'last', 'gender', 'street', 'city', 'state', 'zip',\n",
      "       'lat', 'long', 'city_pop', 'job', 'dob', 'trans_num', 'unix_time',\n",
      "       'merch_lat', 'merch_long', 'is_fraud', 'merch_zipcode'],\n",
      "      dtype='object')\n"
     ]
    }
   ],
   "source": [
    "print(df_data.columns)"
   ]
  },
  {
   "cell_type": "markdown",
   "metadata": {},
   "source": [
    "### Preprocessing_1: Lets set index properly\n",
    "The \"Unnamed:0\" column refers to the index per row when the data was collected. Lets drop that one"
   ]
  },
  {
   "cell_type": "code",
   "execution_count": 5,
   "metadata": {},
   "outputs": [
    {
     "name": "stdout",
     "output_type": "stream",
     "text": [
      "Index(['trans_date_trans_time', 'cc_num', 'merchant', 'category', 'amt',\n",
      "       'first', 'last', 'gender', 'street', 'city', 'state', 'zip', 'lat',\n",
      "       'long', 'city_pop', 'job', 'dob', 'trans_num', 'unix_time', 'merch_lat',\n",
      "       'merch_long', 'is_fraud', 'merch_zipcode'],\n",
      "      dtype='object')\n"
     ]
    }
   ],
   "source": [
    "#Play this cell to obtain the new \n",
    "df_preprocessed_1 = df_data.drop(\"Unnamed: 0\", axis=1)\n",
    "\n",
    "#Lets see the columns now.\n",
    "print(df_preprocessed_1.columns)"
   ]
  },
  {
   "cell_type": "markdown",
   "metadata": {},
   "source": [
    "### Lets see the info of each of the features."
   ]
  },
  {
   "cell_type": "code",
   "execution_count": 6,
   "metadata": {},
   "outputs": [
    {
     "name": "stdout",
     "output_type": "stream",
     "text": [
      "<class 'pandas.core.frame.DataFrame'>\n",
      "RangeIndex: 1296675 entries, 0 to 1296674\n",
      "Data columns (total 23 columns):\n",
      " #   Column                 Non-Null Count    Dtype  \n",
      "---  ------                 --------------    -----  \n",
      " 0   trans_date_trans_time  1296675 non-null  object \n",
      " 1   cc_num                 1296675 non-null  int64  \n",
      " 2   merchant               1296675 non-null  object \n",
      " 3   category               1296675 non-null  object \n",
      " 4   amt                    1296675 non-null  float64\n",
      " 5   first                  1296675 non-null  object \n",
      " 6   last                   1296675 non-null  object \n",
      " 7   gender                 1296675 non-null  object \n",
      " 8   street                 1296675 non-null  object \n",
      " 9   city                   1296675 non-null  object \n",
      " 10  state                  1296675 non-null  object \n",
      " 11  zip                    1296675 non-null  int64  \n",
      " 12  lat                    1296675 non-null  float64\n",
      " 13  long                   1296675 non-null  float64\n",
      " 14  city_pop               1296675 non-null  int64  \n",
      " 15  job                    1296675 non-null  object \n",
      " 16  dob                    1296675 non-null  object \n",
      " 17  trans_num              1296675 non-null  object \n",
      " 18  unix_time              1296675 non-null  int64  \n",
      " 19  merch_lat              1296675 non-null  float64\n",
      " 20  merch_long             1296675 non-null  float64\n",
      " 21  is_fraud               1296675 non-null  int64  \n",
      " 22  merch_zipcode          1100702 non-null  float64\n",
      "dtypes: float64(6), int64(5), object(12)\n",
      "memory usage: 227.5+ MB\n"
     ]
    }
   ],
   "source": [
    "df_preprocessed_1.info()"
   ]
  },
  {
   "cell_type": "markdown",
   "metadata": {},
   "source": [
    "### Lets check for any null missing values\n",
    "Before we even attempt to perform any preprocessing of the features; we first must check for null values in the data."
   ]
  },
  {
   "cell_type": "code",
   "execution_count": 7,
   "metadata": {},
   "outputs": [
    {
     "data": {
      "text/plain": [
       "trans_date_trans_time    False\n",
       "cc_num                   False\n",
       "merchant                 False\n",
       "category                 False\n",
       "amt                      False\n",
       "first                    False\n",
       "last                     False\n",
       "gender                   False\n",
       "street                   False\n",
       "city                     False\n",
       "state                    False\n",
       "zip                      False\n",
       "lat                      False\n",
       "long                     False\n",
       "city_pop                 False\n",
       "job                      False\n",
       "dob                      False\n",
       "trans_num                False\n",
       "unix_time                False\n",
       "merch_lat                False\n",
       "merch_long               False\n",
       "is_fraud                 False\n",
       "merch_zipcode             True\n",
       "dtype: bool"
      ]
     },
     "execution_count": 7,
     "metadata": {},
     "output_type": "execute_result"
    }
   ],
   "source": [
    "df_preprocessed_1.isnull().any()"
   ]
  },
  {
   "cell_type": "code",
   "execution_count": 8,
   "metadata": {},
   "outputs": [
    {
     "name": "stdout",
     "output_type": "stream",
     "text": [
      "merch_zipcode: has missing values\n"
     ]
    }
   ],
   "source": [
    "for col in df_preprocessed_1.columns:\n",
    "    if df_preprocessed_1[col].isnull().any():\n",
    "        print(f\"{col}: has missing values\")"
   ]
  },
  {
   "cell_type": "code",
   "execution_count": 9,
   "metadata": {},
   "outputs": [
    {
     "name": "stdout",
     "output_type": "stream",
     "text": [
      "45860.0\n",
      "0    28705.0\n",
      "1        NaN\n",
      "2    83236.0\n",
      "3        NaN\n",
      "4    22844.0\n",
      "Name: merch_zipcode, dtype: float64\n"
     ]
    }
   ],
   "source": [
    "print(df_preprocessed_1[\"merch_zipcode\"].median())\n",
    "print(df_preprocessed_1[\"merch_zipcode\"].head(5))"
   ]
  },
  {
   "cell_type": "markdown",
   "metadata": {},
   "source": [
    "### Zip code has missing, lets fill with median\n",
    "Since zip code has missing nan values, lets actually fill them now with median"
   ]
  },
  {
   "cell_type": "code",
   "execution_count": 10,
   "metadata": {},
   "outputs": [],
   "source": [
    "df_preprocessed_1[\"merch_zipcode\"] = df_preprocessed_1['merch_zipcode'].fillna(df_preprocessed_1['merch_zipcode'].median())"
   ]
  },
  {
   "cell_type": "code",
   "execution_count": 11,
   "metadata": {},
   "outputs": [
    {
     "data": {
      "text/plain": [
       "trans_date_trans_time    False\n",
       "cc_num                   False\n",
       "merchant                 False\n",
       "category                 False\n",
       "amt                      False\n",
       "first                    False\n",
       "last                     False\n",
       "gender                   False\n",
       "street                   False\n",
       "city                     False\n",
       "state                    False\n",
       "zip                      False\n",
       "lat                      False\n",
       "long                     False\n",
       "city_pop                 False\n",
       "job                      False\n",
       "dob                      False\n",
       "trans_num                False\n",
       "unix_time                False\n",
       "merch_lat                False\n",
       "merch_long               False\n",
       "is_fraud                 False\n",
       "merch_zipcode            False\n",
       "dtype: bool"
      ]
     },
     "execution_count": 11,
     "metadata": {},
     "output_type": "execute_result"
    }
   ],
   "source": [
    "df_preprocessed_1.isnull().any()"
   ]
  },
  {
   "cell_type": "markdown",
   "metadata": {},
   "source": [
    "We know that the transaction date is pretty unique for every single row of data. However, the rest of the object features do have unique values that can be found which can be discretized properly using a labelling approach. lets do the following then\n",
    "1. Lets look at init values of each to see what type of variables we have."
   ]
  },
  {
   "cell_type": "code",
   "execution_count": 12,
   "metadata": {},
   "outputs": [
    {
     "name": "stdout",
     "output_type": "stream",
     "text": [
      "trans_date_trans_time: (1274791,)\n",
      "merchant: (693,)\n",
      "category: (14,)\n",
      "first: (352,)\n",
      "last: (481,)\n",
      "gender: (2,)\n",
      "street: (983,)\n",
      "city: (894,)\n",
      "state: (51,)\n",
      "job: (494,)\n",
      "dob: (968,)\n",
      "trans_num: (1296675,)\n"
     ]
    }
   ],
   "source": [
    "# Lest select the dataframe with only object\n",
    "df_object = df_preprocessed_1.select_dtypes(exclude=[\"float\", \"int\"])\n",
    "\n",
    "# Lets loop and print just a few to see examples\n",
    "for c in df_object.columns:\n",
    "    print(f\"{c}: {df_preprocessed_1[c].unique().shape}\")"
   ]
  },
  {
   "cell_type": "markdown",
   "metadata": {},
   "source": [
    "### Another unique identifier! transaction number.\n",
    "\n",
    "It seems this has too much unique values. We need data that gives us patterns wether is fraud or not. Lets check what kind of data this column and weather it stores any information."
   ]
  },
  {
   "cell_type": "code",
   "execution_count": 13,
   "metadata": {},
   "outputs": [
    {
     "data": {
      "text/plain": [
       "0    0b242abb623afc578575680df30655b9\n",
       "1    1f76529f8574734946361c461b024d99\n",
       "2    a1a22d70485983eac12b5b88dad1cf95\n",
       "3    6b849c168bdad6f867558c3793159a81\n",
       "Name: trans_num, dtype: object"
      ]
     },
     "execution_count": 13,
     "metadata": {},
     "output_type": "execute_result"
    }
   ],
   "source": [
    "df_preprocessed_1[\"trans_num\"].head(4)"
   ]
  },
  {
   "cell_type": "markdown",
   "metadata": {},
   "source": [
    "### Drop column\n",
    "This is a specific ID of the transaction. Inherently; this is doesnt contain information regarding the transaction information. <br>\n",
    "\n",
    "This is a problem since ML models rely on these features; this is why we dropped \"unnamed:0\" before. Therefore, we would drop this column too."
   ]
  },
  {
   "cell_type": "code",
   "execution_count": 14,
   "metadata": {},
   "outputs": [],
   "source": [
    "#Play this cell to obtain the new \n",
    "df_preprocessed_1 = df_preprocessed_1.drop(\"trans_num\", axis=1)"
   ]
  },
  {
   "cell_type": "code",
   "execution_count": 15,
   "metadata": {},
   "outputs": [
    {
     "name": "stdout",
     "output_type": "stream",
     "text": [
      "trans_date_trans_time: (1274791,)\n",
      "merchant: (693,)\n",
      "category: (14,)\n",
      "first: (352,)\n",
      "last: (481,)\n",
      "gender: (2,)\n",
      "street: (983,)\n",
      "city: (894,)\n",
      "state: (51,)\n",
      "job: (494,)\n",
      "dob: (968,)\n"
     ]
    }
   ],
   "source": [
    "# Lest select the dataframe with only object\n",
    "df_object = df_preprocessed_1.select_dtypes(exclude=[\"float\", \"int\"])\n",
    "\n",
    "# Lets loop and print just a few to see examples\n",
    "for c in df_object.columns:\n",
    "    print(f\"{c}: {df_preprocessed_1[c].unique().shape}\")"
   ]
  },
  {
   "cell_type": "markdown",
   "metadata": {},
   "source": [
    "### Lets list each of the variables.\n",
    "The features we are seeing that are not numerical (considered objects); are the following:\n",
    "1. trans_date_time -> datetime value\n",
    "2. merchant -> categorical feature (693 unique values)\n",
    "3. category -> categorical feature (14 unique values)\n",
    "4. first -> categorical feature (352 unique values)\n",
    "5. last -> categorical feature (481 unique values)\n",
    "6. Gender -> Binary data\n",
    "7. Street -> Categorical features (983 unique values)\n",
    "8. City -> Categorical features (894 unique values)\n",
    "9. State -> Categorical features (51 unique values)\n",
    "10. job -> Categorical features (494 unique values)\n",
    "11. dob -> datetime value (date of birth)"
   ]
  },
  {
   "cell_type": "markdown",
   "metadata": {},
   "source": [
    "### Preprocessing_2: Lets process first the datetime variables!\n",
    "\n",
    "These are trans_date_time and dob. We are gonna do the following:\n",
    "1. Convert them into datetime types\n",
    "2. Obtain the relevant information (year, month, day, minute, seconds) for trans_date_time\n",
    "3. Obtain the relevant information (year, month, day) for the date of birth.\n",
    "\n",
    "We will perform all of the pre-processing in our df_preprocessed"
   ]
  },
  {
   "cell_type": "code",
   "execution_count": 16,
   "metadata": {},
   "outputs": [],
   "source": [
    "#Lets now do df_preprocessed_2\n",
    "df_preprocessed_2 = copy.copy(df_preprocessed_1)\n",
    "\n",
    "#Lets convert each of these into datetime\n",
    "df_preprocessed_2[\"trans_date_trans_time\"] = pd.to_datetime(df_preprocessed_2[\"trans_date_trans_time\"])\n",
    "df_preprocessed_2[\"dob\"] = pd.to_datetime(df_preprocessed_2[\"dob\"])"
   ]
  },
  {
   "cell_type": "code",
   "execution_count": 17,
   "metadata": {},
   "outputs": [
    {
     "name": "stdout",
     "output_type": "stream",
     "text": [
      "0   2019-01-01 00:00:18\n",
      "1   2019-01-01 00:00:44\n",
      "2   2019-01-01 00:00:51\n",
      "3   2019-01-01 00:01:16\n",
      "Name: trans_date_trans_time, dtype: datetime64[ns]\n"
     ]
    }
   ],
   "source": [
    "print(df_preprocessed_2[\"trans_date_trans_time\"].head(4))"
   ]
  },
  {
   "cell_type": "code",
   "execution_count": 18,
   "metadata": {},
   "outputs": [
    {
     "name": "stdout",
     "output_type": "stream",
     "text": [
      "0   1988-03-09\n",
      "1   1978-06-21\n",
      "2   1962-01-19\n",
      "3   1967-01-12\n",
      "Name: dob, dtype: datetime64[ns]\n"
     ]
    }
   ],
   "source": [
    "print(df_preprocessed_2[\"dob\"].head(4))"
   ]
  },
  {
   "cell_type": "code",
   "execution_count": 19,
   "metadata": {},
   "outputs": [],
   "source": [
    "#Lets obtain the relevant information for the transaction datetime\n",
    "df_preprocessed_2[\"transaction_year\"] = df_preprocessed_2[\"trans_date_trans_time\"].dt.year\n",
    "df_preprocessed_2[\"transaction_month\"] = df_preprocessed_2[\"trans_date_trans_time\"].dt.month\n",
    "df_preprocessed_2[\"transaction_day\"] = df_preprocessed_2[\"trans_date_trans_time\"].dt.day\n",
    "df_preprocessed_2[\"transaction_hour\"] = df_preprocessed_2[\"trans_date_trans_time\"].dt.hour\n",
    "df_preprocessed_2[\"transaction_minute\"] = df_preprocessed_2[\"trans_date_trans_time\"].dt.minute\n",
    "df_preprocessed_2[\"transaction_second\"] = df_preprocessed_2[\"trans_date_trans_time\"].dt.second"
   ]
  },
  {
   "cell_type": "code",
   "execution_count": 20,
   "metadata": {},
   "outputs": [],
   "source": [
    "#Lets obtain the relevant information for the date of birth\n",
    "df_preprocessed_2[\"birth_year\"] = df_preprocessed_2[\"dob\"].dt.year\n",
    "df_preprocessed_2[\"birth_month\"] = df_preprocessed_2[\"dob\"].dt.month\n",
    "df_preprocessed_2[\"birth_day\"] = df_preprocessed_2[\"dob\"].dt.day"
   ]
  },
  {
   "cell_type": "code",
   "execution_count": 21,
   "metadata": {},
   "outputs": [],
   "source": [
    "df_preprocessed_2.drop([\"trans_date_trans_time\", \"dob\"], axis=1, inplace = True)"
   ]
  },
  {
   "cell_type": "code",
   "execution_count": 22,
   "metadata": {},
   "outputs": [
    {
     "data": {
      "text/html": [
       "<div>\n",
       "<style scoped>\n",
       "    .dataframe tbody tr th:only-of-type {\n",
       "        vertical-align: middle;\n",
       "    }\n",
       "\n",
       "    .dataframe tbody tr th {\n",
       "        vertical-align: top;\n",
       "    }\n",
       "\n",
       "    .dataframe thead th {\n",
       "        text-align: right;\n",
       "    }\n",
       "</style>\n",
       "<table border=\"1\" class=\"dataframe\">\n",
       "  <thead>\n",
       "    <tr style=\"text-align: right;\">\n",
       "      <th></th>\n",
       "      <th>transaction_year</th>\n",
       "      <th>transaction_month</th>\n",
       "      <th>transaction_day</th>\n",
       "      <th>transaction_hour</th>\n",
       "      <th>transaction_minute</th>\n",
       "      <th>transaction_second</th>\n",
       "      <th>birth_year</th>\n",
       "      <th>birth_month</th>\n",
       "      <th>birth_day</th>\n",
       "    </tr>\n",
       "  </thead>\n",
       "  <tbody>\n",
       "    <tr>\n",
       "      <th>0</th>\n",
       "      <td>2019</td>\n",
       "      <td>1</td>\n",
       "      <td>1</td>\n",
       "      <td>0</td>\n",
       "      <td>0</td>\n",
       "      <td>18</td>\n",
       "      <td>1988</td>\n",
       "      <td>3</td>\n",
       "      <td>9</td>\n",
       "    </tr>\n",
       "    <tr>\n",
       "      <th>1</th>\n",
       "      <td>2019</td>\n",
       "      <td>1</td>\n",
       "      <td>1</td>\n",
       "      <td>0</td>\n",
       "      <td>0</td>\n",
       "      <td>44</td>\n",
       "      <td>1978</td>\n",
       "      <td>6</td>\n",
       "      <td>21</td>\n",
       "    </tr>\n",
       "    <tr>\n",
       "      <th>2</th>\n",
       "      <td>2019</td>\n",
       "      <td>1</td>\n",
       "      <td>1</td>\n",
       "      <td>0</td>\n",
       "      <td>0</td>\n",
       "      <td>51</td>\n",
       "      <td>1962</td>\n",
       "      <td>1</td>\n",
       "      <td>19</td>\n",
       "    </tr>\n",
       "    <tr>\n",
       "      <th>3</th>\n",
       "      <td>2019</td>\n",
       "      <td>1</td>\n",
       "      <td>1</td>\n",
       "      <td>0</td>\n",
       "      <td>1</td>\n",
       "      <td>16</td>\n",
       "      <td>1967</td>\n",
       "      <td>1</td>\n",
       "      <td>12</td>\n",
       "    </tr>\n",
       "    <tr>\n",
       "      <th>4</th>\n",
       "      <td>2019</td>\n",
       "      <td>1</td>\n",
       "      <td>1</td>\n",
       "      <td>0</td>\n",
       "      <td>3</td>\n",
       "      <td>6</td>\n",
       "      <td>1986</td>\n",
       "      <td>3</td>\n",
       "      <td>28</td>\n",
       "    </tr>\n",
       "  </tbody>\n",
       "</table>\n",
       "</div>"
      ],
      "text/plain": [
       "   transaction_year  transaction_month  transaction_day  transaction_hour  \\\n",
       "0              2019                  1                1                 0   \n",
       "1              2019                  1                1                 0   \n",
       "2              2019                  1                1                 0   \n",
       "3              2019                  1                1                 0   \n",
       "4              2019                  1                1                 0   \n",
       "\n",
       "   transaction_minute  transaction_second  birth_year  birth_month  birth_day  \n",
       "0                   0                  18        1988            3          9  \n",
       "1                   0                  44        1978            6         21  \n",
       "2                   0                  51        1962            1         19  \n",
       "3                   1                  16        1967            1         12  \n",
       "4                   3                   6        1986            3         28  "
      ]
     },
     "execution_count": 22,
     "metadata": {},
     "output_type": "execute_result"
    }
   ],
   "source": [
    "#Select the new created cols\n",
    "time_cols = [\"transaction_year\", \"transaction_month\", \"transaction_day\", \"transaction_hour\",\\\n",
    "    \"transaction_minute\", \"transaction_second\", \"birth_year\", \"birth_month\", \"birth_day\"]\n",
    "\n",
    "df_preprocessed_2[time_cols].head(5)"
   ]
  },
  {
   "cell_type": "markdown",
   "metadata": {},
   "source": [
    "### Preprocessing_3: Lets encode the gender and low categorical features:\n",
    "1. Gender would be binary\n",
    "2. One-hot-encoding for category and state columns (14 and 51 unique values)"
   ]
  },
  {
   "cell_type": "code",
   "execution_count": 23,
   "metadata": {},
   "outputs": [],
   "source": [
    "# Lets set our new variables\n",
    "df_preprocessed_3 = copy.copy(df_preprocessed_2)\n",
    "\n",
    "#Now, lets do it for gender\n",
    "df_preprocessed_3[\"gender\"] = df_preprocessed_3[\"gender\"].map({\"F\": 1, \"M\": 0})"
   ]
  },
  {
   "cell_type": "code",
   "execution_count": 24,
   "metadata": {},
   "outputs": [
    {
     "name": "stdout",
     "output_type": "stream",
     "text": [
      "0    1\n",
      "1    1\n",
      "2    0\n",
      "3    0\n",
      "4    0\n",
      "Name: gender, dtype: int64\n"
     ]
    }
   ],
   "source": [
    "print(df_preprocessed_3[\"gender\"].head(5))"
   ]
  },
  {
   "cell_type": "code",
   "execution_count": 25,
   "metadata": {},
   "outputs": [],
   "source": [
    "#Lets now use pd.get_dummies for the other ones with low values\n",
    "df_preprocessed_3 = pd.get_dummies(df_preprocessed_3, columns=['category', 'state'], drop_first=True, dtype=int)"
   ]
  },
  {
   "cell_type": "code",
   "execution_count": 26,
   "metadata": {},
   "outputs": [
    {
     "name": "stdout",
     "output_type": "stream",
     "text": [
      "['cc_num', 'merchant', 'amt', 'first', 'last', 'gender', 'street', 'city', 'zip', 'lat', 'long', 'city_pop', 'job', 'unix_time', 'merch_lat', 'merch_long', 'is_fraud', 'merch_zipcode', 'transaction_year', 'transaction_month', 'transaction_day', 'transaction_hour', 'transaction_minute', 'transaction_second', 'birth_year', 'birth_month', 'birth_day', 'category_food_dining', 'category_gas_transport', 'category_grocery_net', 'category_grocery_pos', 'category_health_fitness', 'category_home', 'category_kids_pets', 'category_misc_net', 'category_misc_pos', 'category_personal_care', 'category_shopping_net', 'category_shopping_pos', 'category_travel', 'state_AL', 'state_AR', 'state_AZ', 'state_CA', 'state_CO', 'state_CT', 'state_DC', 'state_DE', 'state_FL', 'state_GA', 'state_HI', 'state_IA', 'state_ID', 'state_IL', 'state_IN', 'state_KS', 'state_KY', 'state_LA', 'state_MA', 'state_MD', 'state_ME', 'state_MI', 'state_MN', 'state_MO', 'state_MS', 'state_MT', 'state_NC', 'state_ND', 'state_NE', 'state_NH', 'state_NJ', 'state_NM', 'state_NV', 'state_NY', 'state_OH', 'state_OK', 'state_OR', 'state_PA', 'state_RI', 'state_SC', 'state_SD', 'state_TN', 'state_TX', 'state_UT', 'state_VA', 'state_VT', 'state_WA', 'state_WI', 'state_WV', 'state_WY']\n",
      "(90,)\n"
     ]
    }
   ],
   "source": [
    "print([x for x in df_preprocessed_3.columns])\n",
    "print(df_preprocessed_3.columns.shape)"
   ]
  },
  {
   "cell_type": "markdown",
   "metadata": {},
   "source": [
    "### Lets take a look into the values\n",
    "We are almost there; and in order to get a sense of the data. lets print some preprocessed values to see what kind of variables we have"
   ]
  },
  {
   "cell_type": "code",
   "execution_count": 27,
   "metadata": {},
   "outputs": [
    {
     "name": "stdout",
     "output_type": "stream",
     "text": [
      "0    2703186189652095\n",
      "1        630423337322\n",
      "2      38859492057661\n",
      "Name: cc_num, dtype: int64\n",
      "\n",
      "\n",
      "0         fraud_Rippin, Kub and Mann\n",
      "1    fraud_Heller, Gutmann and Zieme\n",
      "2               fraud_Lind-Buckridge\n",
      "Name: merchant, dtype: object\n",
      "\n",
      "\n",
      "0      4.97\n",
      "1    107.23\n",
      "2    220.11\n",
      "Name: amt, dtype: float64\n",
      "\n",
      "\n",
      "0     Jennifer\n",
      "1    Stephanie\n",
      "2       Edward\n",
      "Name: first, dtype: object\n",
      "\n",
      "\n",
      "0      Banks\n",
      "1       Gill\n",
      "2    Sanchez\n",
      "Name: last, dtype: object\n",
      "\n",
      "\n",
      "0    1\n",
      "1    1\n",
      "2    0\n",
      "Name: gender, dtype: int64\n",
      "\n",
      "\n",
      "0                  561 Perry Cove\n",
      "1    43039 Riley Greens Suite 393\n",
      "2        594 White Dale Suite 530\n",
      "Name: street, dtype: object\n",
      "\n",
      "\n",
      "0    Moravian Falls\n",
      "1            Orient\n",
      "2        Malad City\n",
      "Name: city, dtype: object\n",
      "\n",
      "\n",
      "0    28654\n",
      "1    99160\n",
      "2    83252\n",
      "Name: zip, dtype: int64\n",
      "\n",
      "\n",
      "0    36.0788\n",
      "1    48.8878\n",
      "2    42.1808\n",
      "Name: lat, dtype: float64\n",
      "\n",
      "\n",
      "0    -81.1781\n",
      "1   -118.2105\n",
      "2   -112.2620\n",
      "Name: long, dtype: float64\n",
      "\n",
      "\n",
      "0    3495\n",
      "1     149\n",
      "2    4154\n",
      "Name: city_pop, dtype: int64\n",
      "\n",
      "\n",
      "0            Psychologist, counselling\n",
      "1    Special educational needs teacher\n",
      "2          Nature conservation officer\n",
      "Name: job, dtype: object\n",
      "\n",
      "\n",
      "0    1325376018\n",
      "1    1325376044\n",
      "2    1325376051\n",
      "Name: unix_time, dtype: int64\n",
      "\n",
      "\n",
      "0    36.011293\n",
      "1    49.159047\n",
      "2    43.150704\n",
      "Name: merch_lat, dtype: float64\n",
      "\n",
      "\n",
      "0    -82.048315\n",
      "1   -118.186462\n",
      "2   -112.154481\n",
      "Name: merch_long, dtype: float64\n",
      "\n",
      "\n",
      "0    0\n",
      "1    0\n",
      "2    0\n",
      "Name: is_fraud, dtype: int64\n",
      "\n",
      "\n",
      "0    28705.0\n",
      "1    45860.0\n",
      "2    83236.0\n",
      "Name: merch_zipcode, dtype: float64\n",
      "\n",
      "\n",
      "0    2019\n",
      "1    2019\n",
      "2    2019\n",
      "Name: transaction_year, dtype: int32\n",
      "\n",
      "\n",
      "0    1\n",
      "1    1\n",
      "2    1\n",
      "Name: transaction_month, dtype: int32\n",
      "\n",
      "\n",
      "0    1\n",
      "1    1\n",
      "2    1\n",
      "Name: transaction_day, dtype: int32\n",
      "\n",
      "\n",
      "0    0\n",
      "1    0\n",
      "2    0\n",
      "Name: transaction_hour, dtype: int32\n",
      "\n",
      "\n",
      "0    0\n",
      "1    0\n",
      "2    0\n",
      "Name: transaction_minute, dtype: int32\n",
      "\n",
      "\n",
      "0    18\n",
      "1    44\n",
      "2    51\n",
      "Name: transaction_second, dtype: int32\n",
      "\n",
      "\n",
      "0    1988\n",
      "1    1978\n",
      "2    1962\n",
      "Name: birth_year, dtype: int32\n",
      "\n",
      "\n",
      "0    3\n",
      "1    6\n",
      "2    1\n",
      "Name: birth_month, dtype: int32\n",
      "\n",
      "\n",
      "0     9\n",
      "1    21\n",
      "2    19\n",
      "Name: birth_day, dtype: int32\n",
      "\n",
      "\n",
      "0    0\n",
      "1    0\n",
      "2    0\n",
      "Name: category_food_dining, dtype: int32\n",
      "\n",
      "\n",
      "0    0\n",
      "1    0\n",
      "2    0\n",
      "Name: category_gas_transport, dtype: int32\n",
      "\n",
      "\n",
      "0    0\n",
      "1    0\n",
      "2    0\n",
      "Name: category_grocery_net, dtype: int32\n",
      "\n",
      "\n",
      "0    0\n",
      "1    1\n",
      "2    0\n",
      "Name: category_grocery_pos, dtype: int32\n",
      "\n",
      "\n",
      "0    0\n",
      "1    0\n",
      "2    0\n",
      "Name: category_health_fitness, dtype: int32\n",
      "\n",
      "\n",
      "0    0\n",
      "1    0\n",
      "2    0\n",
      "Name: category_home, dtype: int32\n",
      "\n",
      "\n",
      "0    0\n",
      "1    0\n",
      "2    0\n",
      "Name: category_kids_pets, dtype: int32\n",
      "\n",
      "\n",
      "0    1\n",
      "1    0\n",
      "2    0\n",
      "Name: category_misc_net, dtype: int32\n",
      "\n",
      "\n",
      "0    0\n",
      "1    0\n",
      "2    0\n",
      "Name: category_misc_pos, dtype: int32\n",
      "\n",
      "\n",
      "0    0\n",
      "1    0\n",
      "2    0\n",
      "Name: category_personal_care, dtype: int32\n",
      "\n",
      "\n",
      "0    0\n",
      "1    0\n",
      "2    0\n",
      "Name: category_shopping_net, dtype: int32\n",
      "\n",
      "\n",
      "0    0\n",
      "1    0\n",
      "2    0\n",
      "Name: category_shopping_pos, dtype: int32\n",
      "\n",
      "\n",
      "0    0\n",
      "1    0\n",
      "2    0\n",
      "Name: category_travel, dtype: int32\n",
      "\n",
      "\n",
      "0    0\n",
      "1    0\n",
      "2    0\n",
      "Name: state_AL, dtype: int32\n",
      "\n",
      "\n",
      "0    0\n",
      "1    0\n",
      "2    0\n",
      "Name: state_AR, dtype: int32\n",
      "\n",
      "\n",
      "0    0\n",
      "1    0\n",
      "2    0\n",
      "Name: state_AZ, dtype: int32\n",
      "\n",
      "\n",
      "0    0\n",
      "1    0\n",
      "2    0\n",
      "Name: state_CA, dtype: int32\n",
      "\n",
      "\n",
      "0    0\n",
      "1    0\n",
      "2    0\n",
      "Name: state_CO, dtype: int32\n",
      "\n",
      "\n",
      "0    0\n",
      "1    0\n",
      "2    0\n",
      "Name: state_CT, dtype: int32\n",
      "\n",
      "\n",
      "0    0\n",
      "1    0\n",
      "2    0\n",
      "Name: state_DC, dtype: int32\n",
      "\n",
      "\n",
      "0    0\n",
      "1    0\n",
      "2    0\n",
      "Name: state_DE, dtype: int32\n",
      "\n",
      "\n",
      "0    0\n",
      "1    0\n",
      "2    0\n",
      "Name: state_FL, dtype: int32\n",
      "\n",
      "\n",
      "0    0\n",
      "1    0\n",
      "2    0\n",
      "Name: state_GA, dtype: int32\n",
      "\n",
      "\n",
      "0    0\n",
      "1    0\n",
      "2    0\n",
      "Name: state_HI, dtype: int32\n",
      "\n",
      "\n",
      "0    0\n",
      "1    0\n",
      "2    0\n",
      "Name: state_IA, dtype: int32\n",
      "\n",
      "\n",
      "0    0\n",
      "1    0\n",
      "2    1\n",
      "Name: state_ID, dtype: int32\n",
      "\n",
      "\n",
      "0    0\n",
      "1    0\n",
      "2    0\n",
      "Name: state_IL, dtype: int32\n",
      "\n",
      "\n",
      "0    0\n",
      "1    0\n",
      "2    0\n",
      "Name: state_IN, dtype: int32\n",
      "\n",
      "\n",
      "0    0\n",
      "1    0\n",
      "2    0\n",
      "Name: state_KS, dtype: int32\n",
      "\n",
      "\n",
      "0    0\n",
      "1    0\n",
      "2    0\n",
      "Name: state_KY, dtype: int32\n",
      "\n",
      "\n",
      "0    0\n",
      "1    0\n",
      "2    0\n",
      "Name: state_LA, dtype: int32\n",
      "\n",
      "\n",
      "0    0\n",
      "1    0\n",
      "2    0\n",
      "Name: state_MA, dtype: int32\n",
      "\n",
      "\n",
      "0    0\n",
      "1    0\n",
      "2    0\n",
      "Name: state_MD, dtype: int32\n",
      "\n",
      "\n",
      "0    0\n",
      "1    0\n",
      "2    0\n",
      "Name: state_ME, dtype: int32\n",
      "\n",
      "\n",
      "0    0\n",
      "1    0\n",
      "2    0\n",
      "Name: state_MI, dtype: int32\n",
      "\n",
      "\n",
      "0    0\n",
      "1    0\n",
      "2    0\n",
      "Name: state_MN, dtype: int32\n",
      "\n",
      "\n",
      "0    0\n",
      "1    0\n",
      "2    0\n",
      "Name: state_MO, dtype: int32\n",
      "\n",
      "\n",
      "0    0\n",
      "1    0\n",
      "2    0\n",
      "Name: state_MS, dtype: int32\n",
      "\n",
      "\n",
      "0    0\n",
      "1    0\n",
      "2    0\n",
      "Name: state_MT, dtype: int32\n",
      "\n",
      "\n",
      "0    1\n",
      "1    0\n",
      "2    0\n",
      "Name: state_NC, dtype: int32\n",
      "\n",
      "\n",
      "0    0\n",
      "1    0\n",
      "2    0\n",
      "Name: state_ND, dtype: int32\n",
      "\n",
      "\n",
      "0    0\n",
      "1    0\n",
      "2    0\n",
      "Name: state_NE, dtype: int32\n",
      "\n",
      "\n",
      "0    0\n",
      "1    0\n",
      "2    0\n",
      "Name: state_NH, dtype: int32\n",
      "\n",
      "\n",
      "0    0\n",
      "1    0\n",
      "2    0\n",
      "Name: state_NJ, dtype: int32\n",
      "\n",
      "\n",
      "0    0\n",
      "1    0\n",
      "2    0\n",
      "Name: state_NM, dtype: int32\n",
      "\n",
      "\n",
      "0    0\n",
      "1    0\n",
      "2    0\n",
      "Name: state_NV, dtype: int32\n",
      "\n",
      "\n",
      "0    0\n",
      "1    0\n",
      "2    0\n",
      "Name: state_NY, dtype: int32\n",
      "\n",
      "\n",
      "0    0\n",
      "1    0\n",
      "2    0\n",
      "Name: state_OH, dtype: int32\n",
      "\n",
      "\n",
      "0    0\n",
      "1    0\n",
      "2    0\n",
      "Name: state_OK, dtype: int32\n",
      "\n",
      "\n",
      "0    0\n",
      "1    0\n",
      "2    0\n",
      "Name: state_OR, dtype: int32\n",
      "\n",
      "\n",
      "0    0\n",
      "1    0\n",
      "2    0\n",
      "Name: state_PA, dtype: int32\n",
      "\n",
      "\n",
      "0    0\n",
      "1    0\n",
      "2    0\n",
      "Name: state_RI, dtype: int32\n",
      "\n",
      "\n",
      "0    0\n",
      "1    0\n",
      "2    0\n",
      "Name: state_SC, dtype: int32\n",
      "\n",
      "\n",
      "0    0\n",
      "1    0\n",
      "2    0\n",
      "Name: state_SD, dtype: int32\n",
      "\n",
      "\n",
      "0    0\n",
      "1    0\n",
      "2    0\n",
      "Name: state_TN, dtype: int32\n",
      "\n",
      "\n",
      "0    0\n",
      "1    0\n",
      "2    0\n",
      "Name: state_TX, dtype: int32\n",
      "\n",
      "\n",
      "0    0\n",
      "1    0\n",
      "2    0\n",
      "Name: state_UT, dtype: int32\n",
      "\n",
      "\n",
      "0    0\n",
      "1    0\n",
      "2    0\n",
      "Name: state_VA, dtype: int32\n",
      "\n",
      "\n",
      "0    0\n",
      "1    0\n",
      "2    0\n",
      "Name: state_VT, dtype: int32\n",
      "\n",
      "\n",
      "0    0\n",
      "1    1\n",
      "2    0\n",
      "Name: state_WA, dtype: int32\n",
      "\n",
      "\n",
      "0    0\n",
      "1    0\n",
      "2    0\n",
      "Name: state_WI, dtype: int32\n",
      "\n",
      "\n",
      "0    0\n",
      "1    0\n",
      "2    0\n",
      "Name: state_WV, dtype: int32\n",
      "\n",
      "\n",
      "0    0\n",
      "1    0\n",
      "2    0\n",
      "Name: state_WY, dtype: int32\n",
      "\n",
      "\n"
     ]
    }
   ],
   "source": [
    "#For loop for the pre-processed columns\n",
    "for c in df_preprocessed_3.columns:\n",
    "    print(df_preprocessed_3[c].head(3))\n",
    "    print(\"\\n\")"
   ]
  },
  {
   "cell_type": "markdown",
   "metadata": {},
   "source": [
    "### Preprocessing_4: Frequency encoding and Target encoding for the rest categorical features\n",
    "1. Determine the frequency for columns: merchant, first, last, Street, City, job\n",
    "2. Use that to map for the rest of them\n",
    "3. Using a TargetEncoder() instance, encode the merchant with target variable\n",
    "4. Drop all original columns"
   ]
  },
  {
   "cell_type": "code",
   "execution_count": 28,
   "metadata": {},
   "outputs": [],
   "source": [
    "#Lets see the columns for the names\n",
    "col_names = [\"merchant\", \"first\", \"last\", \"street\", \"city\", \"job\"]\n",
    "\n",
    "#Lets set the df_preprocessed_4\n",
    "df_preprocessed_4 = copy.copy(df_preprocessed_3)"
   ]
  },
  {
   "cell_type": "code",
   "execution_count": 29,
   "metadata": {},
   "outputs": [],
   "source": [
    "from category_encoders import TargetEncoder\n",
    "\n",
    "encoder = TargetEncoder()\n",
    "\n",
    "for c in col_names:\n",
    "    #Create a name with _encoded and _freq\n",
    "    col_enc_name = c +\"_encoded\"\n",
    "    col_freq_name = c+ \"_freq\"\n",
    "\n",
    "    #Use the target encoder to create the new column\n",
    "    df_preprocessed_4[col_enc_name] = encoder.fit_transform(df_preprocessed_4[c], df_preprocessed_4[\"is_fraud\"])\n",
    "\n",
    "    #Obtain the frequency of the unique names for each\n",
    "    freq = df_preprocessed_4[c].value_counts()\n",
    "    df_preprocessed_4[col_freq_name] = df_preprocessed_4[c].map(freq)\n",
    "\n",
    "    # Drop the original passed column\n",
    "    df_preprocessed_4.drop(c, axis=1, inplace=True)"
   ]
  },
  {
   "cell_type": "code",
   "execution_count": 29,
   "metadata": {},
   "outputs": [
    {
     "name": "stdout",
     "output_type": "stream",
     "text": [
      "Index(['cc_num', 'amt', 'gender', 'zip', 'lat', 'long', 'city_pop',\n",
      "       'unix_time', 'merch_lat', 'merch_long', 'is_fraud', 'merch_zipcode',\n",
      "       'transaction_year', 'transaction_month', 'transaction_day',\n",
      "       'transaction_hour', 'transaction_minute', 'transaction_second',\n",
      "       'birth_year', 'birth_month', 'birth_day', 'category_food_dining',\n",
      "       'category_gas_transport', 'category_grocery_net',\n",
      "       'category_grocery_pos', 'category_health_fitness', 'category_home',\n",
      "       'category_kids_pets', 'category_misc_net', 'category_misc_pos',\n",
      "       'category_personal_care', 'category_shopping_net',\n",
      "       'category_shopping_pos', 'category_travel', 'state_AL', 'state_AR',\n",
      "       'state_AZ', 'state_CA', 'state_CO', 'state_CT', 'state_DC', 'state_DE',\n",
      "       'state_FL', 'state_GA', 'state_HI', 'state_IA', 'state_ID', 'state_IL',\n",
      "       'state_IN', 'state_KS', 'state_KY', 'state_LA', 'state_MA', 'state_MD',\n",
      "       'state_ME', 'state_MI', 'state_MN', 'state_MO', 'state_MS', 'state_MT',\n",
      "       'state_NC', 'state_ND', 'state_NE', 'state_NH', 'state_NJ', 'state_NM',\n",
      "       'state_NV', 'state_NY', 'state_OH', 'state_OK', 'state_OR', 'state_PA',\n",
      "       'state_RI', 'state_SC', 'state_SD', 'state_TN', 'state_TX', 'state_UT',\n",
      "       'state_VA', 'state_VT', 'state_WA', 'state_WI', 'state_WV', 'state_WY',\n",
      "       'merchant_encoded', 'merchant_freq', 'first_encoded', 'first_freq',\n",
      "       'last_encoded', 'last_freq', 'street_encoded', 'street_freq',\n",
      "       'city_encoded', 'city_freq', 'job_encoded', 'job_freq'],\n",
      "      dtype='object')\n"
     ]
    }
   ],
   "source": [
    "print(df_preprocessed_4.columns)"
   ]
  },
  {
   "cell_type": "code",
   "execution_count": 30,
   "metadata": {},
   "outputs": [
    {
     "name": "stdout",
     "output_type": "stream",
     "text": [
      "(1296675, 96)\n"
     ]
    }
   ],
   "source": [
    "print(df_preprocessed_4.shape)"
   ]
  },
  {
   "cell_type": "code",
   "execution_count": 31,
   "metadata": {},
   "outputs": [
    {
     "name": "stdout",
     "output_type": "stream",
     "text": [
      "<class 'pandas.core.frame.DataFrame'>\n",
      "RangeIndex: 1296675 entries, 0 to 1296674\n",
      "Data columns (total 96 columns):\n",
      " #   Column                   Non-Null Count    Dtype  \n",
      "---  ------                   --------------    -----  \n",
      " 0   cc_num                   1296675 non-null  int64  \n",
      " 1   amt                      1296675 non-null  float64\n",
      " 2   gender                   1296675 non-null  int64  \n",
      " 3   zip                      1296675 non-null  int64  \n",
      " 4   lat                      1296675 non-null  float64\n",
      " 5   long                     1296675 non-null  float64\n",
      " 6   city_pop                 1296675 non-null  int64  \n",
      " 7   unix_time                1296675 non-null  int64  \n",
      " 8   merch_lat                1296675 non-null  float64\n",
      " 9   merch_long               1296675 non-null  float64\n",
      " 10  is_fraud                 1296675 non-null  int64  \n",
      " 11  merch_zipcode            1296675 non-null  float64\n",
      " 12  transaction_year         1296675 non-null  int32  \n",
      " 13  transaction_month        1296675 non-null  int32  \n",
      " 14  transaction_day          1296675 non-null  int32  \n",
      " 15  transaction_hour         1296675 non-null  int32  \n",
      " 16  transaction_minute       1296675 non-null  int32  \n",
      " 17  transaction_second       1296675 non-null  int32  \n",
      " 18  birth_year               1296675 non-null  int32  \n",
      " 19  birth_month              1296675 non-null  int32  \n",
      " 20  birth_day                1296675 non-null  int32  \n",
      " 21  category_food_dining     1296675 non-null  int32  \n",
      " 22  category_gas_transport   1296675 non-null  int32  \n",
      " 23  category_grocery_net     1296675 non-null  int32  \n",
      " 24  category_grocery_pos     1296675 non-null  int32  \n",
      " 25  category_health_fitness  1296675 non-null  int32  \n",
      " 26  category_home            1296675 non-null  int32  \n",
      " 27  category_kids_pets       1296675 non-null  int32  \n",
      " 28  category_misc_net        1296675 non-null  int32  \n",
      " 29  category_misc_pos        1296675 non-null  int32  \n",
      " 30  category_personal_care   1296675 non-null  int32  \n",
      " 31  category_shopping_net    1296675 non-null  int32  \n",
      " 32  category_shopping_pos    1296675 non-null  int32  \n",
      " 33  category_travel          1296675 non-null  int32  \n",
      " 34  state_AL                 1296675 non-null  int32  \n",
      " 35  state_AR                 1296675 non-null  int32  \n",
      " 36  state_AZ                 1296675 non-null  int32  \n",
      " 37  state_CA                 1296675 non-null  int32  \n",
      " 38  state_CO                 1296675 non-null  int32  \n",
      " 39  state_CT                 1296675 non-null  int32  \n",
      " 40  state_DC                 1296675 non-null  int32  \n",
      " 41  state_DE                 1296675 non-null  int32  \n",
      " 42  state_FL                 1296675 non-null  int32  \n",
      " 43  state_GA                 1296675 non-null  int32  \n",
      " 44  state_HI                 1296675 non-null  int32  \n",
      " 45  state_IA                 1296675 non-null  int32  \n",
      " 46  state_ID                 1296675 non-null  int32  \n",
      " 47  state_IL                 1296675 non-null  int32  \n",
      " 48  state_IN                 1296675 non-null  int32  \n",
      " 49  state_KS                 1296675 non-null  int32  \n",
      " 50  state_KY                 1296675 non-null  int32  \n",
      " 51  state_LA                 1296675 non-null  int32  \n",
      " 52  state_MA                 1296675 non-null  int32  \n",
      " 53  state_MD                 1296675 non-null  int32  \n",
      " 54  state_ME                 1296675 non-null  int32  \n",
      " 55  state_MI                 1296675 non-null  int32  \n",
      " 56  state_MN                 1296675 non-null  int32  \n",
      " 57  state_MO                 1296675 non-null  int32  \n",
      " 58  state_MS                 1296675 non-null  int32  \n",
      " 59  state_MT                 1296675 non-null  int32  \n",
      " 60  state_NC                 1296675 non-null  int32  \n",
      " 61  state_ND                 1296675 non-null  int32  \n",
      " 62  state_NE                 1296675 non-null  int32  \n",
      " 63  state_NH                 1296675 non-null  int32  \n",
      " 64  state_NJ                 1296675 non-null  int32  \n",
      " 65  state_NM                 1296675 non-null  int32  \n",
      " 66  state_NV                 1296675 non-null  int32  \n",
      " 67  state_NY                 1296675 non-null  int32  \n",
      " 68  state_OH                 1296675 non-null  int32  \n",
      " 69  state_OK                 1296675 non-null  int32  \n",
      " 70  state_OR                 1296675 non-null  int32  \n",
      " 71  state_PA                 1296675 non-null  int32  \n",
      " 72  state_RI                 1296675 non-null  int32  \n",
      " 73  state_SC                 1296675 non-null  int32  \n",
      " 74  state_SD                 1296675 non-null  int32  \n",
      " 75  state_TN                 1296675 non-null  int32  \n",
      " 76  state_TX                 1296675 non-null  int32  \n",
      " 77  state_UT                 1296675 non-null  int32  \n",
      " 78  state_VA                 1296675 non-null  int32  \n",
      " 79  state_VT                 1296675 non-null  int32  \n",
      " 80  state_WA                 1296675 non-null  int32  \n",
      " 81  state_WI                 1296675 non-null  int32  \n",
      " 82  state_WV                 1296675 non-null  int32  \n",
      " 83  state_WY                 1296675 non-null  int32  \n",
      " 84  merchant_encoded         1296675 non-null  float64\n",
      " 85  merchant_freq            1296675 non-null  int64  \n",
      " 86  first_encoded            1296675 non-null  float64\n",
      " 87  first_freq               1296675 non-null  int64  \n",
      " 88  last_encoded             1296675 non-null  float64\n",
      " 89  last_freq                1296675 non-null  int64  \n",
      " 90  street_encoded           1296675 non-null  float64\n",
      " 91  street_freq              1296675 non-null  int64  \n",
      " 92  city_encoded             1296675 non-null  float64\n",
      " 93  city_freq                1296675 non-null  int64  \n",
      " 94  job_encoded              1296675 non-null  float64\n",
      " 95  job_freq                 1296675 non-null  int64  \n",
      "dtypes: float64(12), int32(72), int64(12)\n",
      "memory usage: 593.6 MB\n",
      "None\n"
     ]
    }
   ],
   "source": [
    "print(df_preprocessed_4.info())"
   ]
  },
  {
   "cell_type": "code",
   "execution_count": 32,
   "metadata": {},
   "outputs": [
    {
     "name": "stdout",
     "output_type": "stream",
     "text": [
      "             cc_num           amt        gender           zip           lat  \\\n",
      "count  1.296675e+06  1.296675e+06  1.296675e+06  1.296675e+06  1.296675e+06   \n",
      "mean   4.171920e+17  7.035104e+01  5.474487e-01  4.880067e+04  3.853762e+01   \n",
      "std    1.308806e+18  1.603160e+02  4.977437e-01  2.689322e+04  5.075808e+00   \n",
      "min    6.041621e+10  1.000000e+00  0.000000e+00  1.257000e+03  2.002710e+01   \n",
      "25%    1.800429e+14  9.650000e+00  0.000000e+00  2.623700e+04  3.462050e+01   \n",
      "50%    3.521417e+15  4.752000e+01  1.000000e+00  4.817400e+04  3.935430e+01   \n",
      "75%    4.642255e+15  8.314000e+01  1.000000e+00  7.204200e+04  4.194040e+01   \n",
      "max    4.992346e+18  2.894890e+04  1.000000e+00  9.978300e+04  6.669330e+01   \n",
      "\n",
      "               long      city_pop     unix_time     merch_lat    merch_long  \\\n",
      "count  1.296675e+06  1.296675e+06  1.296675e+06  1.296675e+06  1.296675e+06   \n",
      "mean  -9.022634e+01  8.882444e+04  1.349244e+09  3.853734e+01 -9.022646e+01   \n",
      "std    1.375908e+01  3.019564e+05  1.284128e+07  5.109788e+00  1.377109e+01   \n",
      "min   -1.656723e+02  2.300000e+01  1.325376e+09  1.902779e+01 -1.666712e+02   \n",
      "25%   -9.679800e+01  7.430000e+02  1.338751e+09  3.473357e+01 -9.689728e+01   \n",
      "50%   -8.747690e+01  2.456000e+03  1.349250e+09  3.936568e+01 -8.743839e+01   \n",
      "75%   -8.015800e+01  2.032800e+04  1.359385e+09  4.195716e+01 -8.023680e+01   \n",
      "max   -6.795030e+01  2.906700e+06  1.371817e+09  6.751027e+01 -6.695090e+01   \n",
      "\n",
      "       ...  first_encoded    first_freq  last_encoded     last_freq  \\\n",
      "count  ...   1.296675e+06  1.296675e+06  1.296675e+06  1.296675e+06   \n",
      "mean   ...   5.705010e-03  8.144699e+03  5.696501e-03  6.197166e+03   \n",
      "std    ...   4.816886e-03  6.281706e+03  5.449062e-03  6.176051e+03   \n",
      "min    ...   0.000000e+00  7.000000e+00  0.000000e+00  7.000000e+00   \n",
      "25%    ...   3.823280e-03  3.081000e+03  3.424239e-03  2.069000e+03   \n",
      "50%    ...   5.377147e-03  6.159000e+03  4.891171e-03  3.641000e+03   \n",
      "75%    ...   7.012271e-03  1.181500e+04  7.163324e-03  8.177000e+03   \n",
      "max    ...   4.780597e-01  2.666900e+04  4.780597e-01  2.879400e+04   \n",
      "\n",
      "       street_encoded   street_freq  city_encoded     city_freq   job_encoded  \\\n",
      "count    1.296675e+06  1.296675e+06  1.296675e+06  1.296675e+06  1.296675e+06   \n",
      "mean     5.378756e-03  1.818725e+03  5.470713e-03  2.063746e+03  5.679638e-03   \n",
      "std      8.477189e-03  7.425057e+02  7.844809e-03  1.002234e+03  5.698251e-03   \n",
      "min      0.000000e+00  7.000000e+00  0.000000e+00  7.000000e+00  0.000000e+00   \n",
      "25%      6.615944e-04  1.466000e+03  1.928640e-03  1.514000e+03  3.003003e-03   \n",
      "50%      4.575163e-03  2.000000e+03  4.623514e-03  2.034000e+03  5.133219e-03   \n",
      "75%      7.189542e-03  2.524000e+03  7.228916e-03  2.577000e+03  7.416962e-03   \n",
      "max      4.780597e-01  3.123000e+03  4.780597e-01  5.617000e+03  4.780597e-01   \n",
      "\n",
      "           job_freq  \n",
      "count  1.296675e+06  \n",
      "mean   3.938490e+03  \n",
      "std    2.019214e+03  \n",
      "min    7.000000e+00  \n",
      "25%    2.528000e+03  \n",
      "50%    3.602000e+03  \n",
      "75%    5.460000e+03  \n",
      "max    9.779000e+03  \n",
      "\n",
      "[8 rows x 96 columns]\n"
     ]
    }
   ],
   "source": [
    "print(df_preprocessed_4.describe())"
   ]
  }
 ],
 "metadata": {
  "kernelspec": {
   "display_name": "venv",
   "language": "python",
   "name": "python3"
  },
  "language_info": {
   "codemirror_mode": {
    "name": "ipython",
    "version": 3
   },
   "file_extension": ".py",
   "mimetype": "text/x-python",
   "name": "python",
   "nbconvert_exporter": "python",
   "pygments_lexer": "ipython3",
   "version": "3.12.5"
  }
 },
 "nbformat": 4,
 "nbformat_minor": 2
}
